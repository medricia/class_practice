{
 "cells": [
  {
   "cell_type": "markdown",
   "id": "79130cf8",
   "metadata": {},
   "source": [
    "# 보팅 앙상블\n",
    "* 단일 모델을 앙상블하여 더 나은 예측을 하는 앙상블 모델을 만들어봄"
   ]
  },
  {
   "cell_type": "code",
   "execution_count": 1,
   "id": "915ff92b",
   "metadata": {},
   "outputs": [],
   "source": [
    "from sklearn import datasets\n",
    "from sklearn.tree import DecisionTreeClassifier #의사결정나무\n",
    "from sklearn.neighbors import KNeighborsClassifier\n",
    "from sklearn.svm import SVC\n",
    "from sklearn.ensemble import VotingClassifier\n",
    "from sklearn.model_selection import train_test_split\n",
    "from sklearn.metrics import accuracy_score\n",
    "\n",
    "import matplotlib.pyplot as plt\n",
    "import seaborn as sns\n",
    "import numpy as np\n",
    "import pandas as pd\n",
    "\n",
    "np.random.seed(5)"
   ]
  },
  {
   "cell_type": "markdown",
   "id": "f7da92ce",
   "metadata": {},
   "source": [
    "# 손글씨 데이터 로드"
   ]
  },
  {
   "cell_type": "code",
   "execution_count": 2,
   "id": "91f4ac07",
   "metadata": {},
   "outputs": [],
   "source": [
    "mnist = datasets.load_digits()\n",
    "features, labels = mnist.data, mnist.target"
   ]
  },
  {
   "cell_type": "code",
   "execution_count": 3,
   "id": "08967893",
   "metadata": {},
   "outputs": [],
   "source": [
    "mnist= train_test_split(features, labels, test_size=0.2)\n",
    "X_train, X_test, y_train, y_test = train_test_split(features, labels, test_size=0.2)"
   ]
  },
  {
   "cell_type": "markdown",
   "id": "bb663c52",
   "metadata": {},
   "source": [
    "# 단일 모델 정확도 측정\n",
    "* 의사결정트리, knn, svm 정확도를 측정"
   ]
  },
  {
   "cell_type": "code",
   "execution_count": 4,
   "id": "90282a86",
   "metadata": {},
   "outputs": [],
   "source": [
    "#의사결정트리\n",
    "dtree = DecisionTreeClassifier(criterion='gini', max_depth=8, max_features=32, random_state=35).fit(X_train,y_train)\n",
    "\n",
    "dtree_prdicated = dtree.predict(X_test)"
   ]
  },
  {
   "cell_type": "code",
   "execution_count": 5,
   "id": "5c83a142",
   "metadata": {},
   "outputs": [],
   "source": [
    "#knn\n",
    "knn = KNeighborsClassifier(n_neighbors=299).fit(X_train,y_train)\n",
    "knn_prdicated = knn.predict(X_test)"
   ]
  },
  {
   "cell_type": "code",
   "execution_count": 6,
   "id": "20c19443",
   "metadata": {},
   "outputs": [],
   "source": [
    "#svm\n",
    "svm = SVC(C=0.1, gamma=0.003, probability=True, random_state=35).fit(X_train,y_train)\n",
    "svm_prdicated = svm.predict(X_test)"
   ]
  },
  {
   "cell_type": "code",
   "execution_count": 7,
   "id": "ec6ab168",
   "metadata": {},
   "outputs": [
    {
     "name": "stdout",
     "output_type": "stream",
     "text": [
      "[accuracy]\n",
      "d-tree :  0.8444444444444444\n",
      "knn :  0.8333333333333334\n",
      "svm :  0.9222222222222223\n"
     ]
    }
   ],
   "source": [
    "print('[accuracy]')\n",
    "print('d-tree : ',accuracy_score(y_test, dtree_prdicated))\n",
    "print('knn : ',accuracy_score(y_test, knn_prdicated))\n",
    "print('svm : ',accuracy_score(y_test, svm_prdicated))"
   ]
  },
  {
   "cell_type": "markdown",
   "id": "b13b4a5c",
   "metadata": {},
   "source": [
    "- 하드보팅 또는 소프트보팅은 sklearn의 votingclassifier를 사용하여 쉽게 구현할 수 있다. \n",
    "- 직접 소프트 보팅을 구현할 때는 predict_proba 함수를 사용하여 테스트 수행 시 측정된 분류값 별 확률을 사용하면 된다"
   ]
  },
  {
   "cell_type": "code",
   "execution_count": 8,
   "id": "772b7eac",
   "metadata": {},
   "outputs": [
    {
     "name": "stdout",
     "output_type": "stream",
     "text": [
      "[[3.06901089e-04 1.91328486e-03 9.81970246e-01 1.05372445e-03\n",
      "  8.67173882e-04 1.48711483e-03 3.38345621e-04 1.20585057e-03\n",
      "  9.60806866e-03 1.24928986e-03]\n",
      " [6.68665761e-03 4.77517889e-02 2.97174052e-02 5.61418273e-01\n",
      "  1.96137811e-02 4.71903953e-02 8.06174411e-03 4.33041343e-02\n",
      "  1.76076547e-01 6.01792732e-02]]\n"
     ]
    }
   ],
   "source": [
    "svm_proba = svm.predict_proba(X_test)\n",
    "print(svm_proba[0:2])"
   ]
  },
  {
   "cell_type": "markdown",
   "id": "bc3e97be",
   "metadata": {},
   "source": [
    "## 하드보팅\n",
    "* 하드보팅은 일반적인 투표와 같이 각각의 분류기의 예측값을 모아 가장 많은 득표를 받은 예측값으로 최종 결론을 내는 방식"
   ]
  },
  {
   "cell_type": "code",
   "execution_count": 9,
   "id": "a82e6373",
   "metadata": {},
   "outputs": [
    {
     "data": {
      "text/plain": [
       "0.9111111111111111"
      ]
     },
     "execution_count": 9,
     "metadata": {},
     "output_type": "execute_result"
    }
   ],
   "source": [
    "voting_clf = VotingClassifier(estimators=[('decision',dtree),('knn',knn),('svm',svm)], weights=[1,1,1], voting='hard').fit(X_train,y_train)\n",
    "\n",
    "hard_voting_predicted = voting_clf.predict(X_test)\n",
    "accuracy_score(y_test,hard_voting_predicted)"
   ]
  },
  {
   "cell_type": "markdown",
   "id": "5b2722b8",
   "metadata": {},
   "source": [
    "## 소프트\n",
    "* 소프트보팅은 각각의 분류 모델의 predict_proba을 활용하여 모든 분류값들의 확률들을 더해서 가장 높은 점수를 획득한 분류값으로 최종 결론을 내는 방식"
   ]
  },
  {
   "cell_type": "code",
   "execution_count": 10,
   "id": "96bc4f49",
   "metadata": {},
   "outputs": [
    {
     "data": {
      "text/plain": [
       "0.9"
      ]
     },
     "execution_count": 10,
     "metadata": {},
     "output_type": "execute_result"
    }
   ],
   "source": [
    "voting_clf = VotingClassifier(estimators=[('decision',dtree),('knn',knn),('svm',svm)], weights=[1,1,1], voting='soft').fit(X_train,y_train)\n",
    "\n",
    "soft_voting_predicted = voting_clf.predict(X_test)\n",
    "accuracy_score(y_test,soft_voting_predicted)"
   ]
  },
  {
   "cell_type": "markdown",
   "id": "bf93b38b",
   "metadata": {},
   "source": [
    "### 정확도 비교 시각화"
   ]
  },
  {
   "cell_type": "code",
   "execution_count": 12,
   "id": "521aa796",
   "metadata": {},
   "outputs": [
    {
     "data": {
      "text/plain": [
       "([<matplotlib.axis.XTick at 0x1e597f438b0>,\n",
       "  <matplotlib.axis.XTick at 0x1e597f43880>,\n",
       "  <matplotlib.axis.XTick at 0x1e597f43370>,\n",
       "  <matplotlib.axis.XTick at 0x1e597f94790>,\n",
       "  <matplotlib.axis.XTick at 0x1e597faa280>],\n",
       " [Text(0, 0, 'decition tree'),\n",
       "  Text(1, 0, 'knn'),\n",
       "  Text(2, 0, 'svm'),\n",
       "  Text(3, 0, 'hard voting'),\n",
       "  Text(4, 0, 'soft voting')])"
      ]
     },
     "execution_count": 12,
     "metadata": {},
     "output_type": "execute_result"
    },
    {
     "data": {
      "image/png": "[encoded data removed]",
      "text/plain": [
       "<Figure size 640x480 with 1 Axes>"
      ]
     },
     "metadata": {},
     "output_type": "display_data"
    }
   ],
   "source": [
    "x = np.arange(5)\n",
    "plt.bar(x,height=[accuracy_score(y_test, dtree_prdicated), \n",
    "                      accuracy_score(y_test, knn_prdicated),\n",
    "                      accuracy_score(y_test, svm_prdicated),\n",
    "                      accuracy_score(y_test, hard_voting_predicted),\n",
    "                      accuracy_score(y_test, soft_voting_predicted)\n",
    "                 ])\n",
    "plt.xticks(x,['decision tree','knn','svm','hard voting','soft voting'])"
   ]
  },
  {
   "cell_type": "code",
   "execution_count": null,
   "id": "f4e90d96",
   "metadata": {},
   "outputs": [],
   "source": []
  }
 ],
 "metadata": {
  "kernelspec": {
   "display_name": "Python [conda env:tf_cpu] *",
   "language": "python",
   "name": "conda-env-tf_cpu-py"
  },
  "language_info": {
   "codemirror_mode": {
    "name": "ipython",
    "version": 3
   },
   "file_extension": ".py",
   "mimetype": "text/x-python",
   "name": "python",
   "nbconvert_exporter": "python",
   "pygments_lexer": "ipython3",
   "version": "3.8.16"
  }
 },
 "nbformat": 4,
 "nbformat_minor": 5
}
