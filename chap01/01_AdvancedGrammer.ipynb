{
 "cells": [
  {
   "cell_type": "markdown",
   "id": "73054289",
   "metadata": {},
   "source": [
    "# 데이터 분석에 유용한 기능들...\n",
    "## - list comprehension 기본 구조"
   ]
  },
  {
   "cell_type": "code",
   "execution_count": 2,
   "id": "64b1fd5a",
   "metadata": {},
   "outputs": [],
   "source": [
    "numbers = [1,2,3,4,5]\n",
    "square1=[] #자료형만 초기화"
   ]
  },
  {
   "cell_type": "code",
   "execution_count": 3,
   "id": "01aaae57",
   "metadata": {},
   "outputs": [],
   "source": [
    "for i in numbers:\n",
    "    square1.append(i **2)"
   ]
  },
  {
   "cell_type": "code",
   "execution_count": 4,
   "id": "39b20c47",
   "metadata": {},
   "outputs": [
    {
     "name": "stdout",
     "output_type": "stream",
     "text": [
      "[1, 4, 9, 16, 25]\n"
     ]
    }
   ],
   "source": [
    "print(square1)"
   ]
  },
  {
   "cell_type": "code",
   "execution_count": 5,
   "id": "d2005d47",
   "metadata": {},
   "outputs": [
    {
     "name": "stdout",
     "output_type": "stream",
     "text": [
      "[1, 4, 9, 16, 25]\n"
     ]
    }
   ],
   "source": [
    "square2=[ i **2 for i in numbers]\n",
    "print(square2)"
   ]
  },
  {
   "cell_type": "code",
   "execution_count": 6,
   "id": "2f224e8e",
   "metadata": {},
   "outputs": [
    {
     "name": "stdout",
     "output_type": "stream",
     "text": [
      "[9, 16, 25]\n"
     ]
    }
   ],
   "source": [
    "square3 =[]\n",
    "\n",
    "for i in numbers:\n",
    "    if i>=3:\n",
    "        square3.append(i**2)\n",
    "print(square3)"
   ]
  },
  {
   "cell_type": "code",
   "execution_count": 7,
   "id": "6c2308c9",
   "metadata": {},
   "outputs": [
    {
     "name": "stdout",
     "output_type": "stream",
     "text": [
      "[9, 16, 25]\n"
     ]
    }
   ],
   "source": [
    "square4 =[i**2 for i in numbers if i>=3]\n",
    "print(square4)"
   ]
  },
  {
   "cell_type": "markdown",
   "id": "5b84c9a9",
   "metadata": {},
   "source": [
    "# *List comprehension : 리스트 변환하는 표현식으로 유용한 기능"
   ]
  },
  {
   "cell_type": "code",
   "execution_count": 8,
   "id": "2ff8244d",
   "metadata": {},
   "outputs": [
    {
     "name": "stdout",
     "output_type": "stream",
     "text": [
      "['mon', 'tue', 'wed', 'thu', 'fri', 'sat', 'sun']\n"
     ]
    }
   ],
   "source": [
    "day = ['mon', 'tue', 'wed', 'thu', 'fri', 'sat', 'sun']\n",
    "print([x for x in day])"
   ]
  },
  {
   "cell_type": "code",
   "execution_count": 9,
   "id": "a8d9ea81",
   "metadata": {},
   "outputs": [
    {
     "name": "stdout",
     "output_type": "stream",
     "text": [
      "[35, 56, 45, 27, 8]\n"
     ]
    }
   ],
   "source": [
    "data = [35, 56,-53, 45, 27, -28, 8, -12]\n",
    "print([x for x in data if x>=0])"
   ]
  },
  {
   "cell_type": "code",
   "execution_count": 10,
   "id": "c2e494dd",
   "metadata": {},
   "outputs": [
    {
     "name": "stdout",
     "output_type": "stream",
     "text": [
      "[1225, 3136, 2025, 729, 64]\n"
     ]
    }
   ],
   "source": [
    "print([x **2 for x in data if x>=0])"
   ]
  },
  {
   "cell_type": "markdown",
   "id": "70d95479",
   "metadata": {},
   "source": [
    "### - split(구분자) : 구분자로 구분, 기본값은 공백"
   ]
  },
  {
   "cell_type": "code",
   "execution_count": 11,
   "id": "9b5b8034",
   "metadata": {},
   "outputs": [
    {
     "data": {
      "text/plain": [
       "['the', 'joeun', 'computer', 'with', 'python']"
      ]
     },
     "execution_count": 11,
     "metadata": {},
     "output_type": "execute_result"
    }
   ],
   "source": [
    "test_text = \"the-joeun-computer-with-python\"\n",
    "result= test_text.split('-')\n",
    "result\n",
    "\n",
    "#sort : data값 자체를 정렬해서 return"
   ]
  },
  {
   "cell_type": "markdown",
   "id": "e485a82b",
   "metadata": {},
   "source": [
    "### *구분자.join(리스트) : split 메소드와 반대로 구분자를 붙인다"
   ]
  },
  {
   "cell_type": "code",
   "execution_count": 14,
   "id": "2d4e6419",
   "metadata": {},
   "outputs": [
    {
     "data": {
      "text/plain": [
       "'the-joeun-computer-with-python'"
      ]
     },
     "execution_count": 14,
     "metadata": {},
     "output_type": "execute_result"
    }
   ],
   "source": [
    "test_text = ['the', 'joeun', 'computer', 'with', 'python']\n",
    "\n",
    "result = '-'.join(test_text)\n",
    "result"
   ]
  },
  {
   "cell_type": "markdown",
   "id": "a3c40030",
   "metadata": {},
   "source": [
    "### *split()와 join의 응용"
   ]
  },
  {
   "cell_type": "code",
   "execution_count": 17,
   "id": "137a9201",
   "metadata": {},
   "outputs": [
    {
     "data": {
      "text/plain": [
       "'345-234-6789'"
      ]
     },
     "execution_count": 17,
     "metadata": {},
     "output_type": "execute_result"
    }
   ],
   "source": [
    "result = '-'.join('345.234.6789'.split('.'))\n",
    "result"
   ]
  },
  {
   "cell_type": "markdown",
   "id": "7905a774",
   "metadata": {},
   "source": [
    "## - enumerate(list) : 인덱스와 값을 함께 반환"
   ]
  },
  {
   "cell_type": "code",
   "execution_count": null,
   "id": "7674f776",
   "metadata": {},
   "outputs": [],
   "source": [
    "# 파이썬에서는 소문자로 시작한다고 해서 다 함수가 아님. \n",
    "# enumerate는 class..."
   ]
  },
  {
   "cell_type": "code",
   "execution_count": 18,
   "id": "af78b459",
   "metadata": {},
   "outputs": [
    {
     "name": "stdout",
     "output_type": "stream",
     "text": [
      "0 a\n",
      "1 b\n",
      "2 c\n",
      "3 d\n"
     ]
    }
   ],
   "source": [
    "for i, name in enumerate(['a', 'b', 'c', 'd']) :\n",
    "    print(i,name)"
   ]
  },
  {
   "cell_type": "code",
   "execution_count": 21,
   "id": "902c45bb",
   "metadata": {},
   "outputs": [
    {
     "data": {
      "text/plain": [
       "{0: 'mon', 1: 'tue', 2: 'wed', 3: 'thu', 4: 'fri', 5: 'sat', 6: 'sun'}"
      ]
     },
     "execution_count": 21,
     "metadata": {},
     "output_type": "execute_result"
    }
   ],
   "source": [
    "seq = ['mon', 'tue', 'wed', 'thu', 'fri', 'sat', 'sun']\n",
    "dict(enumerate(seq))  #list->dictonary형으로\n",
    "# {0: 'mon', 1: 'tue', 2: 'wed', 3: 'thu', 4: 'fri', 5: 'sat', 6: 'sun'}"
   ]
  },
  {
   "cell_type": "code",
   "execution_count": 22,
   "id": "ce1c1fc4",
   "metadata": {},
   "outputs": [
    {
     "data": {
      "text/plain": [
       "{'a': 'mon',\n",
       " 'b': 'tue',\n",
       " 'c': 'wed',\n",
       " 'd': 'thu',\n",
       " 'e': 'fri',\n",
       " 'f': 'sat',\n",
       " 'g': 'sun'}"
      ]
     },
     "execution_count": 22,
     "metadata": {},
     "output_type": "execute_result"
    }
   ],
   "source": [
    "key_seq ='abcdefg'\n",
    "value_seq = ['mon', 'tue', 'wed', 'thu', 'fri', 'sat', 'sun']\n",
    "\n",
    "#지퍼\n",
    "dict(zip(key_seq,value_seq))"
   ]
  },
  {
   "cell_type": "markdown",
   "id": "b8292f46",
   "metadata": {},
   "source": [
    "## - Counter를 이용한 카운팅\n",
    "###  *counter는 아이템의 갯수를 자동으로 카우팅"
   ]
  },
  {
   "cell_type": "code",
   "execution_count": 26,
   "id": "6c1ebc85",
   "metadata": {},
   "outputs": [],
   "source": [
    "from collections import Counter"
   ]
  },
  {
   "cell_type": "code",
   "execution_count": 25,
   "id": "110de416",
   "metadata": {},
   "outputs": [],
   "source": [
    "message = \"\"\"\n",
    "But I must explain to you how all this mistaken idea of denouncing pleasure and \n",
    "praising pain was born and I will give you a complete account of the system, and \n",
    "expound the actual teachings of the great explorer of the truth, the master-builder \n",
    "of human happiness. No one rejects, dislikes, or avoids pleasure itself, because \n",
    "it is pleasure, but because those who do not know how to pursue pleasure rationally \n",
    "encounter consequences that are extremely painful. Nor again is there anyone who loves\n",
    "or pursues or desires to obtain pain of itself, because it is pain, but because \n",
    "occasionally circumstances occur in which toil and pain can procure him some great \n",
    "pleasure. To take a trivial example, which of us ever undertakes laborious physical \n",
    "exercise, except to obtain some advantage from it? But who has any right to find \n",
    "fault with a man who chooses to enjoy a pleasure that has no annoying consequences, \n",
    "or one who avoids a pain that produces no resultant pleasure?\n",
    "\"\"\""
   ]
  },
  {
   "cell_type": "code",
   "execution_count": 29,
   "id": "c4df69c4",
   "metadata": {},
   "outputs": [
    {
     "data": {
      "text/plain": [
       "['But',\n",
       " 'I',\n",
       " 'must',\n",
       " 'explain',\n",
       " 'to',\n",
       " 'you',\n",
       " 'how',\n",
       " 'all',\n",
       " 'this',\n",
       " 'mistaken',\n",
       " 'idea',\n",
       " 'of',\n",
       " 'denouncing',\n",
       " 'pleasure',\n",
       " 'and',\n",
       " 'praising',\n",
       " 'pain',\n",
       " 'was',\n",
       " 'born',\n",
       " 'and',\n",
       " 'I',\n",
       " 'will',\n",
       " 'give',\n",
       " 'you',\n",
       " 'a',\n",
       " 'complete',\n",
       " 'account',\n",
       " 'of',\n",
       " 'the',\n",
       " 'system,',\n",
       " 'and',\n",
       " 'expound',\n",
       " 'the',\n",
       " 'actual',\n",
       " 'teachings',\n",
       " 'of',\n",
       " 'the',\n",
       " 'great',\n",
       " 'explorer',\n",
       " 'of',\n",
       " 'the',\n",
       " 'truth,',\n",
       " 'the',\n",
       " 'master-builder',\n",
       " 'of',\n",
       " 'human',\n",
       " 'happiness.',\n",
       " 'No',\n",
       " 'one',\n",
       " 'rejects,',\n",
       " 'dislikes,',\n",
       " 'or',\n",
       " 'avoids',\n",
       " 'pleasure',\n",
       " 'itself,',\n",
       " 'because',\n",
       " 'it',\n",
       " 'is',\n",
       " 'pleasure,',\n",
       " 'but',\n",
       " 'because',\n",
       " 'those',\n",
       " 'who',\n",
       " 'do',\n",
       " 'not',\n",
       " 'know',\n",
       " 'how',\n",
       " 'to',\n",
       " 'pursue',\n",
       " 'pleasure',\n",
       " 'rationally',\n",
       " 'encounter',\n",
       " 'consequences',\n",
       " 'that',\n",
       " 'are',\n",
       " 'extremely',\n",
       " 'painful.',\n",
       " 'Nor',\n",
       " 'again',\n",
       " 'is',\n",
       " 'there',\n",
       " 'anyone',\n",
       " 'who',\n",
       " 'loves',\n",
       " 'or',\n",
       " 'pursues',\n",
       " 'or',\n",
       " 'desires',\n",
       " 'to',\n",
       " 'obtain',\n",
       " 'pain',\n",
       " 'of',\n",
       " 'itself,',\n",
       " 'because',\n",
       " 'it',\n",
       " 'is',\n",
       " 'pain,',\n",
       " 'but',\n",
       " 'because',\n",
       " 'occasionally',\n",
       " 'circumstances',\n",
       " 'occur',\n",
       " 'in',\n",
       " 'which',\n",
       " 'toil',\n",
       " 'and',\n",
       " 'pain',\n",
       " 'can',\n",
       " 'procure',\n",
       " 'him',\n",
       " 'some',\n",
       " 'great',\n",
       " 'pleasure.',\n",
       " 'To',\n",
       " 'take',\n",
       " 'a',\n",
       " 'trivial',\n",
       " 'example,',\n",
       " 'which',\n",
       " 'of',\n",
       " 'us',\n",
       " 'ever',\n",
       " 'undertakes',\n",
       " 'laborious',\n",
       " 'physical',\n",
       " 'exercise,',\n",
       " 'except',\n",
       " 'to',\n",
       " 'obtain',\n",
       " 'some',\n",
       " 'advantage',\n",
       " 'from',\n",
       " 'it?',\n",
       " 'But',\n",
       " 'who',\n",
       " 'has',\n",
       " 'any',\n",
       " 'right',\n",
       " 'to',\n",
       " 'find',\n",
       " 'fault',\n",
       " 'with',\n",
       " 'a',\n",
       " 'man',\n",
       " 'who',\n",
       " 'chooses',\n",
       " 'to',\n",
       " 'enjoy',\n",
       " 'a',\n",
       " 'pleasure',\n",
       " 'that',\n",
       " 'has',\n",
       " 'no',\n",
       " 'annoying',\n",
       " 'consequences,',\n",
       " 'or',\n",
       " 'one',\n",
       " 'who',\n",
       " 'avoids',\n",
       " 'a',\n",
       " 'pain',\n",
       " 'that',\n",
       " 'produces',\n",
       " 'no',\n",
       " 'resultant',\n",
       " 'pleasure?']"
      ]
     },
     "execution_count": 29,
     "metadata": {},
     "output_type": "execute_result"
    }
   ],
   "source": [
    "result = message.split()\n",
    "result"
   ]
  },
  {
   "cell_type": "code",
   "execution_count": 30,
   "id": "774161c3",
   "metadata": {},
   "outputs": [
    {
     "data": {
      "text/plain": [
       "Counter({'But': 2,\n",
       "         'I': 2,\n",
       "         'must': 1,\n",
       "         'explain': 1,\n",
       "         'to': 6,\n",
       "         'you': 2,\n",
       "         'how': 2,\n",
       "         'all': 1,\n",
       "         'this': 1,\n",
       "         'mistaken': 1,\n",
       "         'idea': 1,\n",
       "         'of': 7,\n",
       "         'denouncing': 1,\n",
       "         'pleasure': 4,\n",
       "         'and': 4,\n",
       "         'praising': 1,\n",
       "         'pain': 4,\n",
       "         'was': 1,\n",
       "         'born': 1,\n",
       "         'will': 1,\n",
       "         'give': 1,\n",
       "         'a': 5,\n",
       "         'complete': 1,\n",
       "         'account': 1,\n",
       "         'the': 5,\n",
       "         'system,': 1,\n",
       "         'expound': 1,\n",
       "         'actual': 1,\n",
       "         'teachings': 1,\n",
       "         'great': 2,\n",
       "         'explorer': 1,\n",
       "         'truth,': 1,\n",
       "         'master-builder': 1,\n",
       "         'human': 1,\n",
       "         'happiness.': 1,\n",
       "         'No': 1,\n",
       "         'one': 2,\n",
       "         'rejects,': 1,\n",
       "         'dislikes,': 1,\n",
       "         'or': 4,\n",
       "         'avoids': 2,\n",
       "         'itself,': 2,\n",
       "         'because': 4,\n",
       "         'it': 2,\n",
       "         'is': 3,\n",
       "         'pleasure,': 1,\n",
       "         'but': 2,\n",
       "         'those': 1,\n",
       "         'who': 5,\n",
       "         'do': 1,\n",
       "         'not': 1,\n",
       "         'know': 1,\n",
       "         'pursue': 1,\n",
       "         'rationally': 1,\n",
       "         'encounter': 1,\n",
       "         'consequences': 1,\n",
       "         'that': 3,\n",
       "         'are': 1,\n",
       "         'extremely': 1,\n",
       "         'painful.': 1,\n",
       "         'Nor': 1,\n",
       "         'again': 1,\n",
       "         'there': 1,\n",
       "         'anyone': 1,\n",
       "         'loves': 1,\n",
       "         'pursues': 1,\n",
       "         'desires': 1,\n",
       "         'obtain': 2,\n",
       "         'pain,': 1,\n",
       "         'occasionally': 1,\n",
       "         'circumstances': 1,\n",
       "         'occur': 1,\n",
       "         'in': 1,\n",
       "         'which': 2,\n",
       "         'toil': 1,\n",
       "         'can': 1,\n",
       "         'procure': 1,\n",
       "         'him': 1,\n",
       "         'some': 2,\n",
       "         'pleasure.': 1,\n",
       "         'To': 1,\n",
       "         'take': 1,\n",
       "         'trivial': 1,\n",
       "         'example,': 1,\n",
       "         'us': 1,\n",
       "         'ever': 1,\n",
       "         'undertakes': 1,\n",
       "         'laborious': 1,\n",
       "         'physical': 1,\n",
       "         'exercise,': 1,\n",
       "         'except': 1,\n",
       "         'advantage': 1,\n",
       "         'from': 1,\n",
       "         'it?': 1,\n",
       "         'has': 2,\n",
       "         'any': 1,\n",
       "         'right': 1,\n",
       "         'find': 1,\n",
       "         'fault': 1,\n",
       "         'with': 1,\n",
       "         'man': 1,\n",
       "         'chooses': 1,\n",
       "         'enjoy': 1,\n",
       "         'no': 2,\n",
       "         'annoying': 1,\n",
       "         'consequences,': 1,\n",
       "         'produces': 1,\n",
       "         'resultant': 1,\n",
       "         'pleasure?': 1})"
      ]
     },
     "execution_count": 30,
     "metadata": {},
     "output_type": "execute_result"
    }
   ],
   "source": [
    "counter = Counter(message.split())\n",
    "counter"
   ]
  },
  {
   "cell_type": "code",
   "execution_count": 31,
   "id": "751d07c8",
   "metadata": {},
   "outputs": [
    {
     "name": "stdout",
     "output_type": "stream",
     "text": [
      "<class 'collections.Counter'>\n"
     ]
    }
   ],
   "source": [
    "print(type(counter))"
   ]
  },
  {
   "cell_type": "markdown",
   "id": "cdf6308e",
   "metadata": {},
   "source": [
    "### *Counter(dict)->list 형태로 반환"
   ]
  },
  {
   "cell_type": "code",
   "execution_count": 32,
   "id": "7d29eb7d",
   "metadata": {},
   "outputs": [
    {
     "name": "stdout",
     "output_type": "stream",
     "text": [
      "[('of', 7), ('to', 6), ('a', 5), ('the', 5), ('who', 5), ('pleasure', 4), ('and', 4), ('pain', 4), ('or', 4), ('because', 4), ('is', 3), ('that', 3), ('But', 2), ('I', 2), ('you', 2), ('how', 2), ('great', 2), ('one', 2), ('avoids', 2), ('itself,', 2), ('it', 2), ('but', 2), ('obtain', 2), ('which', 2), ('some', 2), ('has', 2), ('no', 2), ('must', 1), ('explain', 1), ('all', 1), ('this', 1), ('mistaken', 1), ('idea', 1), ('denouncing', 1), ('praising', 1), ('was', 1), ('born', 1), ('will', 1), ('give', 1), ('complete', 1), ('account', 1), ('system,', 1), ('expound', 1), ('actual', 1), ('teachings', 1), ('explorer', 1), ('truth,', 1), ('master-builder', 1), ('human', 1), ('happiness.', 1), ('No', 1), ('rejects,', 1), ('dislikes,', 1), ('pleasure,', 1), ('those', 1), ('do', 1), ('not', 1), ('know', 1), ('pursue', 1), ('rationally', 1), ('encounter', 1), ('consequences', 1), ('are', 1), ('extremely', 1), ('painful.', 1), ('Nor', 1), ('again', 1), ('there', 1), ('anyone', 1), ('loves', 1), ('pursues', 1), ('desires', 1), ('pain,', 1), ('occasionally', 1), ('circumstances', 1), ('occur', 1), ('in', 1), ('toil', 1), ('can', 1), ('procure', 1), ('him', 1), ('pleasure.', 1), ('To', 1), ('take', 1), ('trivial', 1), ('example,', 1), ('us', 1), ('ever', 1), ('undertakes', 1), ('laborious', 1), ('physical', 1), ('exercise,', 1), ('except', 1), ('advantage', 1), ('from', 1), ('it?', 1), ('any', 1), ('right', 1), ('find', 1), ('fault', 1), ('with', 1), ('man', 1), ('chooses', 1), ('enjoy', 1), ('annoying', 1), ('consequences,', 1), ('produces', 1), ('resultant', 1), ('pleasure?', 1)]\n"
     ]
    }
   ],
   "source": [
    "#most_common() : 튜플에 담겨서 반환\n",
    "\n",
    "print(counter.most_common())"
   ]
  },
  {
   "cell_type": "markdown",
   "id": "b5dc6e86",
   "metadata": {},
   "source": [
    "### *list->dict 형태로 변환"
   ]
  },
  {
   "cell_type": "code",
   "execution_count": 34,
   "id": "946a140d",
   "metadata": {},
   "outputs": [
    {
     "name": "stdout",
     "output_type": "stream",
     "text": [
      "{'of': 7, 'to': 6, 'a': 5, 'the': 5, 'who': 5, 'pleasure': 4, 'and': 4, 'pain': 4, 'or': 4, 'because': 4, 'is': 3, 'that': 3, 'But': 2, 'I': 2, 'you': 2, 'how': 2, 'great': 2, 'one': 2, 'avoids': 2, 'itself,': 2, 'it': 2, 'but': 2, 'obtain': 2, 'which': 2, 'some': 2, 'has': 2, 'no': 2, 'must': 1, 'explain': 1, 'all': 1, 'this': 1, 'mistaken': 1, 'idea': 1, 'denouncing': 1, 'praising': 1, 'was': 1, 'born': 1, 'will': 1, 'give': 1, 'complete': 1, 'account': 1, 'system,': 1, 'expound': 1, 'actual': 1, 'teachings': 1, 'explorer': 1, 'truth,': 1, 'master-builder': 1, 'human': 1, 'happiness.': 1, 'No': 1, 'rejects,': 1, 'dislikes,': 1, 'pleasure,': 1, 'those': 1, 'do': 1, 'not': 1, 'know': 1, 'pursue': 1, 'rationally': 1, 'encounter': 1, 'consequences': 1, 'are': 1, 'extremely': 1, 'painful.': 1, 'Nor': 1, 'again': 1, 'there': 1, 'anyone': 1, 'loves': 1, 'pursues': 1, 'desires': 1, 'pain,': 1, 'occasionally': 1, 'circumstances': 1, 'occur': 1, 'in': 1, 'toil': 1, 'can': 1, 'procure': 1, 'him': 1, 'pleasure.': 1, 'To': 1, 'take': 1, 'trivial': 1, 'example,': 1, 'us': 1, 'ever': 1, 'undertakes': 1, 'laborious': 1, 'physical': 1, 'exercise,': 1, 'except': 1, 'advantage': 1, 'from': 1, 'it?': 1, 'any': 1, 'right': 1, 'find': 1, 'fault': 1, 'with': 1, 'man': 1, 'chooses': 1, 'enjoy': 1, 'annoying': 1, 'consequences,': 1, 'produces': 1, 'resultant': 1, 'pleasure?': 1}\n"
     ]
    }
   ],
   "source": [
    "#dict(counter.most_common())\n",
    "\n",
    "dict_msg = dict(counter.most_common())\n",
    "print(dict_msg)"
   ]
  },
  {
   "cell_type": "code",
   "execution_count": 35,
   "id": "9c5a5b76",
   "metadata": {},
   "outputs": [
    {
     "name": "stdout",
     "output_type": "stream",
     "text": [
      "6\n"
     ]
    }
   ],
   "source": [
    "print(dict_msg['to'])"
   ]
  },
  {
   "cell_type": "code",
   "execution_count": 36,
   "id": "07f83045",
   "metadata": {},
   "outputs": [
    {
     "name": "stdout",
     "output_type": "stream",
     "text": [
      "4\n"
     ]
    }
   ],
   "source": [
    "print(dict_msg['pain'])"
   ]
  }
 ],
 "metadata": {
  "kernelspec": {
   "display_name": "Python [conda env:tf_cpu] *",
   "language": "python",
   "name": "conda-env-tf_cpu-py"
  },
  "language_info": {
   "codemirror_mode": {
    "name": "ipython",
    "version": 3
   },
   "file_extension": ".py",
   "mimetype": "text/x-python",
   "name": "python",
   "nbconvert_exporter": "python",
   "pygments_lexer": "ipython3",
   "version": "3.8.16"
  }
 },
 "nbformat": 4,
 "nbformat_minor": 5
}
