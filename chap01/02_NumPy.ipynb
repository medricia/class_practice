{
 "cells": [
  {
   "cell_type": "markdown",
   "id": "9170eae0",
   "metadata": {},
   "source": [
    "# - Numpy ndarray 개요"
   ]
  },
  {
   "cell_type": "code",
   "execution_count": 85,
   "id": "797aff50",
   "metadata": {},
   "outputs": [],
   "source": [
    "#내가 만든 가상환경에서는 따로 numpy가 설치되어 있지 않음\n",
    "\n",
    "#패키지간 버전(오류 문제 등)을 맞추기 위해 파이썬에서 깔지 않음\n",
    "#파이썬에서 깔게되면 최신버전으로 깔림\n",
    "\n",
    "\n",
    "import numpy as np\n",
    "import matplotlib.pyplot as plt\n"
   ]
  },
  {
   "cell_type": "markdown",
   "id": "98b3bac8",
   "metadata": {},
   "source": [
    "# - 배열 생성"
   ]
  },
  {
   "cell_type": "code",
   "execution_count": 7,
   "id": "5ddda17b",
   "metadata": {},
   "outputs": [
    {
     "name": "stdout",
     "output_type": "stream",
     "text": [
      "array1 type :  <class 'numpy.ndarray'>\n",
      "array1 array 형태 :  (3,)\n",
      "[1 2 3]\n",
      "[1, 2, 3]\n"
     ]
    }
   ],
   "source": [
    "# - 1차원 배열(Vector) 정의\n",
    "array1 = np.array([1,2,3])\n",
    "print('array1 type : ',type(array1))\n",
    "print('array1 array 형태 : ', array1.shape)\n",
    "print(array1)   # ,없이 [1 2 3]\n",
    "\n",
    "\n",
    "\n",
    "#cf) 리스트 자료형\n",
    "list = [1,2,3]\n",
    "print(list) # [1, 2, 3]\n"
   ]
  },
  {
   "cell_type": "code",
   "execution_count": 13,
   "id": "5904b13e",
   "metadata": {},
   "outputs": [
    {
     "name": "stdout",
     "output_type": "stream",
     "text": [
      "array2 type :  <class 'numpy.ndarray'>\n",
      "array2 array 형태 :  (2, 3)\n",
      "[[1 2 3]\n",
      " [4 5 6]]\n",
      "\n",
      "\n",
      "array3 type :  <class 'numpy.ndarray'>\n",
      "array3 array 형태 :  (1, 3)\n",
      "[[1 2 3]]\n"
     ]
    }
   ],
   "source": [
    "# - 2차원 배열(Matrix) 정의\n",
    "\n",
    "#2행3열\n",
    "array2 = np.array([[1,2,3],[4,5,6]]) \n",
    "print('array2 type : ',type(array2))\n",
    "print('array2 array 형태 : ', array2.shape)\n",
    "print(array2)\n",
    "\n",
    "print()\n",
    "print()\n",
    "\n",
    "#1행 3열\n",
    "array3 = np.array([[1,2,3]])\n",
    "# 앞의 대괄호가 몇개로 구성되어 있는지 확인\n",
    "\n",
    "print('array3 type : ',type(array3))\n",
    "print('array3 array 형태 : ', array3.shape)\n",
    "print(array3)\n"
   ]
  },
  {
   "cell_type": "code",
   "execution_count": 15,
   "id": "33142755",
   "metadata": {},
   "outputs": [
    {
     "name": "stdout",
     "output_type": "stream",
     "text": [
      "array4 type :  <class 'numpy.ndarray'>\n",
      "array4 array 형태 :  (2, 3, 4)\n",
      "[[[ 1  2  3  4]\n",
      "  [ 5  6  7  8]\n",
      "  [ 9 10 11 12]]\n",
      "\n",
      " [[13 14 15 16]\n",
      "  [17 18 19 20]\n",
      "  [21 22 23 24]]]\n",
      "int32\n"
     ]
    }
   ],
   "source": [
    "# -3차원 배열(Array) 정의\n",
    "#2면 3행 4열\n",
    "array4 = np.array([[[1,2,3,4],[5,6,7,8],[9,10,11,12]], \n",
    "                       [[13,14,15,16],[17,18,19,20],[21,22,23,24]]])\n",
    "\n",
    "print('array4 type : ',type(array4))\n",
    "print('array4 array 형태 : ', array4.shape)  #(2,3,4) : 면, 행, 열 \n",
    "print(array4)\n",
    "\n",
    "print(array4.dtype) # int32, bit할당수 4byte할당\n",
    "\n",
    "#long -> int64 (8byte)"
   ]
  },
  {
   "cell_type": "code",
   "execution_count": 20,
   "id": "4929362c",
   "metadata": {},
   "outputs": [
    {
     "name": "stdout",
     "output_type": "stream",
     "text": [
      "array5 type :  <class 'numpy.ndarray'>\n",
      "array5 array 형태 :  (3,)\n",
      "['1' '2' 'test']\n",
      "<U11\n",
      "array6 type :  <class 'numpy.ndarray'>\n",
      "array6 array 형태 :  (3,)\n",
      "[1.  2.  3.5]\n",
      "float64\n"
     ]
    }
   ],
   "source": [
    "# 다른 데이터 유형이 섞여 있는 리스트를 ndarray로 변경하면?\n",
    "# - 데이터 크기가 더 큰 데이터 타입으로 형 변환을 일괄 적용함\n",
    "\n",
    "array5 = np.array([1,2,'test'])\n",
    "\n",
    "print('array5 type : ',type(array5))\n",
    "print('array5 array 형태 : ', array5.shape)\n",
    "print(array5)\n",
    "print(array5.dtype) #<U11 : 문자열화시켜줌, 정수화함 \n",
    " \n",
    "    \n",
    "array6 = np.array([1,2,3.5])\n",
    "print('array6 type : ',type(array6))\n",
    "print('array6 array 형태 : ', array6.shape)\n",
    "print(array6)\n",
    "print(array6.dtype) #float64, 정수를 실수화함 : 1.0, 2.0, 3.5 (1. , 2. , 3.5) <-0을 생략함"
   ]
  },
  {
   "cell_type": "code",
   "execution_count": 25,
   "id": "b519d6f1",
   "metadata": {},
   "outputs": [
    {
     "name": "stdout",
     "output_type": "stream",
     "text": [
      "[1. 2. 3.] float64\n",
      "[1 2 3] int32\n",
      "[1 2 3] int32\n"
     ]
    }
   ],
   "source": [
    "# astype() : ndarray 내 데이터 값의 타입 변경\n",
    "\n",
    "array_int = np.array([1,2,3])\n",
    "array_float = array_int.astype('float64')\n",
    "print(array_float,array_float.dtype )\n",
    "\n",
    "array_int1 = array_float.astype('int32')\n",
    "print(array_int1, array_int1.dtype)\n",
    "\n",
    "array_float1 = np.array([1.1, 2.1, 3.1])\n",
    "array_int2 = array_float1.astype('int32')\n",
    "print(array_int2, array_int2.dtype)"
   ]
  },
  {
   "cell_type": "markdown",
   "id": "20fbed38",
   "metadata": {},
   "source": [
    "# -ndarray를 편리하게 생성하기"
   ]
  },
  {
   "cell_type": "code",
   "execution_count": 28,
   "id": "65131672",
   "metadata": {},
   "outputs": [
    {
     "name": "stdout",
     "output_type": "stream",
     "text": [
      "[[0 0 0 0]\n",
      " [0 0 0 0]\n",
      " [0 0 0 0]]\n",
      "int32\n",
      "[[0. 0. 0. 0.]\n",
      " [0. 0. 0. 0.]\n",
      " [0. 0. 0. 0.]]\n",
      "float64\n"
     ]
    }
   ],
   "source": [
    "# zeros((행,열)) : 0으로 채우는 함수\n",
    "\n",
    "#3행4열로 만들어주되, 값은 0으로 채워서 반환\n",
    "zero_array = np.zeros((3,4), dtype='int32') \n",
    "print(zero_array) \n",
    "print(zero_array.dtype)\n",
    "\n",
    "zero_array1 = np.zeros((3,4), dtype='float64') \n",
    "print(zero_array1) \n",
    "print(zero_array1.dtype)"
   ]
  },
  {
   "cell_type": "code",
   "execution_count": 29,
   "id": "dcbc3284",
   "metadata": {},
   "outputs": [
    {
     "name": "stdout",
     "output_type": "stream",
     "text": [
      "[[1. 1.]\n",
      " [1. 1.]]\n",
      "float64 (2, 2)\n"
     ]
    }
   ],
   "source": [
    "# ones((행, 열)) : 1로 채우는 함수\n",
    "\n",
    "one_array = np.ones((2,2))\n",
    "print(one_array)\n",
    "print(one_array.dtype, one_array.shape)"
   ]
  },
  {
   "cell_type": "code",
   "execution_count": 31,
   "id": "a579b8d9",
   "metadata": {},
   "outputs": [
    {
     "name": "stdout",
     "output_type": "stream",
     "text": [
      "[[7 7 7 7]\n",
      " [7 7 7 7]\n",
      " [7 7 7 7]]\n",
      "int32 (3, 4)\n"
     ]
    },
    {
     "ename": "TypeError",
     "evalue": "full() missing 1 required positional argument: 'fill_value'",
     "output_type": "error",
     "traceback": [
      "\u001b[1;31m---------------------------------------------------------------------------\u001b[0m",
      "\u001b[1;31mTypeError\u001b[0m                                 Traceback (most recent call last)",
      "Cell \u001b[1;32mIn[31], line 7\u001b[0m\n\u001b[0;32m      4\u001b[0m \u001b[38;5;28mprint\u001b[39m(arr_full)\n\u001b[0;32m      5\u001b[0m \u001b[38;5;28mprint\u001b[39m(arr_full\u001b[38;5;241m.\u001b[39mdtype, arr_full\u001b[38;5;241m.\u001b[39mshape)\n\u001b[1;32m----> 7\u001b[0m arr_full1 \u001b[38;5;241m=\u001b[39m \u001b[43mnp\u001b[49m\u001b[38;5;241;43m.\u001b[39;49m\u001b[43mfull\u001b[49m\u001b[43m(\u001b[49m\u001b[43m(\u001b[49m\u001b[38;5;241;43m3\u001b[39;49m\u001b[43m,\u001b[49m\u001b[38;5;241;43m4\u001b[39;49m\u001b[43m)\u001b[49m\u001b[43m)\u001b[49m\n\u001b[0;32m      8\u001b[0m \u001b[38;5;28mprint\u001b[39m(arr_full1)\n",
      "\u001b[1;31mTypeError\u001b[0m: full() missing 1 required positional argument: 'fill_value'"
     ]
    }
   ],
   "source": [
    "#full((행,열), 값) : 값으로 채우는 함수\n",
    "\n",
    "arr_full = np.full((3,4),7)\n",
    "print(arr_full)\n",
    "print(arr_full.dtype, arr_full.shape)\n",
    "\n",
    "arr_full1 = np.full((3,4))\n",
    "print(arr_full1)\n",
    "# TypeError: full() missing 1 required positional argument: 'fill_value'\n",
    "\n"
   ]
  },
  {
   "cell_type": "code",
   "execution_count": 32,
   "id": "7d6e78c8",
   "metadata": {},
   "outputs": [
    {
     "name": "stdout",
     "output_type": "stream",
     "text": [
      "[[1. 0. 0. 0. 0.]\n",
      " [0. 1. 0. 0. 0.]\n",
      " [0. 0. 1. 0. 0.]\n",
      " [0. 0. 0. 1. 0.]\n",
      " [0. 0. 0. 0. 1.]]\n"
     ]
    }
   ],
   "source": [
    "# eye(N) : (N,N)의 단위 행렬 생성\n",
    "\n",
    "arr_eye = np.eye(5)\n",
    "print(arr_eye)"
   ]
  },
  {
   "cell_type": "code",
   "execution_count": 33,
   "id": "2b46fbab",
   "metadata": {},
   "outputs": [
    {
     "name": "stdout",
     "output_type": "stream",
     "text": [
      "[[0.00000000e+000 0.00000000e+000 0.00000000e+000]\n",
      " [0.00000000e+000 0.00000000e+000 6.18570189e-321]\n",
      " [6.23053614e-307 7.56592337e-307 5.33590898e-322]]\n"
     ]
    }
   ],
   "source": [
    "# empty((행,열)) : 초기화 없이 기존 메모리 값이 들어감\n",
    "\n",
    "#메모리 공간만을 할당함\n",
    "\n",
    "array_empty = np.empty((3,3))\n",
    "print(array_empty)"
   ]
  },
  {
   "cell_type": "code",
   "execution_count": 34,
   "id": "ee1d3207",
   "metadata": {},
   "outputs": [
    {
     "name": "stdout",
     "output_type": "stream",
     "text": [
      "[[1 1 1]\n",
      " [1 1 1]]\n"
     ]
    }
   ],
   "source": [
    "# _like(배열) 지정한 배열과 동일한 shape의 행렬을 만듦\n",
    "# 종류 : np.zeros_like(), np.ones_like, np.empty_like()\n",
    "\n",
    "arr_sample = np.array([[1,2,3],[4,5,6]])\n",
    "arr_like = np.ones_like(arr_sample)\n",
    "print(arr_like)\n"
   ]
  },
  {
   "cell_type": "code",
   "execution_count": 36,
   "id": "4fd5c1d6",
   "metadata": {},
   "outputs": [
    {
     "name": "stdout",
     "output_type": "stream",
     "text": [
      "[ 1.    3.25  5.5   7.75 10.  ]\n"
     ]
    }
   ],
   "source": [
    "# 배열 데이터 생성 함수\n",
    "# -np.linspace(시작,종료,개수) \n",
    "\n",
    "arr_linspace = np.linspace(1,10,5)\n",
    "print(arr_linspace)\n"
   ]
  },
  {
   "cell_type": "code",
   "execution_count": 38,
   "id": "f5635f00",
   "metadata": {},
   "outputs": [
    {
     "data": {
      "image/png": "[encoded data removed]",
      "text/plain": [
       "<Figure size 640x480 with 1 Axes>"
      ]
     },
     "metadata": {},
     "output_type": "display_data"
    }
   ],
   "source": [
    "import matplotlib.pyplot as plt\n",
    "\n",
    "# 그래프를 그려주는 함수, 마커를 원('o')으로 만든 그래프를 보여줌\n",
    "plt.plot(arr_linspace,'o') \n",
    "plt.show()"
   ]
  },
  {
   "cell_type": "code",
   "execution_count": 48,
   "id": "ac9eb1df",
   "metadata": {},
   "outputs": [
    {
     "name": "stdout",
     "output_type": "stream",
     "text": [
      "[ 1  3  5  7  9 11 13 15 17 19]\n",
      "int32 (10,)\n"
     ]
    },
    {
     "data": {
      "image/png": "[encoded data removed]",
      "text/plain": [
       "<Figure size 640x480 with 1 Axes>"
      ]
     },
     "metadata": {},
     "output_type": "display_data"
    }
   ],
   "source": [
    "# np.arange(시작,종료,스텝) : 시작과 종료 사이에 스텝 간격으로 생성(파이썬 range()와 유사)\n",
    "\n",
    "sequence_array = np.arange(1,20,2)\n",
    "print(sequence_array)\n",
    "print(sequence_array.dtype, sequence_array.shape)\n",
    "\n",
    "plt.plot(sequence_array,'v') \n",
    "plt.show()"
   ]
  },
  {
   "cell_type": "markdown",
   "id": "b62e2980",
   "metadata": {},
   "source": [
    "### ndarray의 차원과 크기를 변경하는 reshape()"
   ]
  },
  {
   "cell_type": "code",
   "execution_count": 51,
   "id": "b781ab32",
   "metadata": {},
   "outputs": [
    {
     "name": "stdout",
     "output_type": "stream",
     "text": [
      "array1 : \n",
      " [0 1 2 3 4 5 6 7 8 9]\n",
      "array2 : \n",
      " [[0 1 2 3 4]\n",
      " [5 6 7 8 9]]\n",
      "array3 : \n",
      " [[0 1]\n",
      " [2 3]\n",
      " [4 5]\n",
      " [6 7]\n",
      " [8 9]]\n"
     ]
    }
   ],
   "source": [
    "#0~9의 범위, step1\n",
    "\n",
    "array1 = np.arange(10) \n",
    "print('array1 : \\n', array1)\n",
    "\n",
    "#2차원배열(Matrix)\n",
    "array2 = array1.reshape(2,5)\n",
    "print('array2 : \\n',array2)\n",
    "\n",
    "array3 = array1.reshape(5,2)\n",
    "print('array3 : \\n',array3)"
   ]
  },
  {
   "cell_type": "code",
   "execution_count": 52,
   "id": "fa87ae39",
   "metadata": {},
   "outputs": [
    {
     "ename": "ValueError",
     "evalue": "cannot reshape array of size 10 into shape (4,3)",
     "output_type": "error",
     "traceback": [
      "\u001b[1;31m---------------------------------------------------------------------------\u001b[0m",
      "\u001b[1;31mValueError\u001b[0m                                Traceback (most recent call last)",
      "Cell \u001b[1;32mIn[52], line 1\u001b[0m\n\u001b[1;32m----> 1\u001b[0m array4 \u001b[38;5;241m=\u001b[39m \u001b[43marray1\u001b[49m\u001b[38;5;241;43m.\u001b[39;49m\u001b[43mreshape\u001b[49m\u001b[43m(\u001b[49m\u001b[38;5;241;43m4\u001b[39;49m\u001b[43m,\u001b[49m\u001b[38;5;241;43m3\u001b[39;49m\u001b[43m)\u001b[49m\n\u001b[0;32m      2\u001b[0m \u001b[38;5;28mprint\u001b[39m(\u001b[38;5;124m'\u001b[39m\u001b[38;5;124marray4 : \u001b[39m\u001b[38;5;130;01m\\n\u001b[39;00m\u001b[38;5;124m'\u001b[39m,array4)\n",
      "\u001b[1;31mValueError\u001b[0m: cannot reshape array of size 10 into shape (4,3)"
     ]
    }
   ],
   "source": [
    "array4 = array1.reshape(4,3)\n",
    "print('array4 : \\n',array4)\n",
    "#ValueError: cannot reshape array of size 10 into shape (4,3)\n",
    "\n",
    "#지정된 사이즈로 변경이 불가능하면 오류 발생"
   ]
  },
  {
   "cell_type": "code",
   "execution_count": 58,
   "id": "ee1c4546",
   "metadata": {},
   "outputs": [
    {
     "name": "stdout",
     "output_type": "stream",
     "text": [
      "[0 1 2 3 4 5 6 7 8 9]\n",
      "[[0 1 2 3 4]\n",
      " [5 6 7 8 9]]\n",
      "[[0 1]\n",
      " [2 3]\n",
      " [4 5]\n",
      " [6 7]\n",
      " [8 9]]\n",
      "array3 shape :  (5, 2)\n"
     ]
    }
   ],
   "source": [
    "array1 = np.arange(10)\n",
    "print(array1)\n",
    "\n",
    "# 2행5열 Matrix형\n",
    "# array1과 호환될 수 있는 2차원 ndarray로 변환하되, 고정된 5개의 column에 맞는 row를 자동으로 새롭게 생성해 변환하라는 의미\n",
    "\n",
    "array2 = array1.reshape(-1,5) #음수의 의미 : 가변(고정된값이 아님), 열은 5로 고정 ->행은 열에 맞추어 \n",
    "print(array2)\n",
    "\n",
    "#고정된 5개의 row에 맞는 column 자동으로 새롭게 생성해 변환하라는 의미\n",
    "array3 = array1.reshape(5,-1)\n",
    "print(array3)\n",
    "print('array3 shape : ', array3.shape)"
   ]
  },
  {
   "cell_type": "code",
   "execution_count": 59,
   "id": "6e370078",
   "metadata": {},
   "outputs": [
    {
     "ename": "ValueError",
     "evalue": "cannot reshape array of size 10 into shape (4)",
     "output_type": "error",
     "traceback": [
      "\u001b[1;31m---------------------------------------------------------------------------\u001b[0m",
      "\u001b[1;31mValueError\u001b[0m                                Traceback (most recent call last)",
      "Cell \u001b[1;32mIn[59], line 2\u001b[0m\n\u001b[0;32m      1\u001b[0m array1 \u001b[38;5;241m=\u001b[39m np\u001b[38;5;241m.\u001b[39marange(\u001b[38;5;241m10\u001b[39m)\n\u001b[1;32m----> 2\u001b[0m array4 \u001b[38;5;241m=\u001b[39m \u001b[43marray1\u001b[49m\u001b[38;5;241;43m.\u001b[39;49m\u001b[43mreshape\u001b[49m\u001b[43m(\u001b[49m\u001b[38;5;241;43m-\u001b[39;49m\u001b[38;5;241;43m1\u001b[39;49m\u001b[43m,\u001b[49m\u001b[38;5;241;43m4\u001b[39;49m\u001b[43m)\u001b[49m\n\u001b[0;32m      3\u001b[0m \u001b[38;5;28mprint\u001b[39m(array4)\n",
      "\u001b[1;31mValueError\u001b[0m: cannot reshape array of size 10 into shape (4)"
     ]
    }
   ],
   "source": [
    "array1 = np.arange(10)\n",
    "array4 = array1.reshape(-1,4)\n",
    "print(array4)"
   ]
  },
  {
   "cell_type": "code",
   "execution_count": 71,
   "id": "2452ed4b",
   "metadata": {},
   "outputs": [
    {
     "name": "stdout",
     "output_type": "stream",
     "text": [
      "[[[0 1]\n",
      "  [2 3]]\n",
      "\n",
      " [[4 5]\n",
      "  [6 7]]]\n",
      "(2, 2, 2)\n",
      "array3d : \n",
      " [[[0, 1], [2, 3]], [[4, 5], [6, 7]]]\n",
      "array2d : \n",
      " [[0], [1], [2], [3], [4], [5], [6], [7]]\n",
      "array2d shape:  (8, 1)\n",
      "array5 : \n",
      " [[0], [1], [2], [3], [4], [5], [6], [7]]\n",
      "array5 shape:  (8, 1)\n"
     ]
    }
   ],
   "source": [
    "array1 = np.arange(8)\n",
    "array3d = array1.reshape((2,2,2))\n",
    "print(array3d)\n",
    "print(array3d.shape)\n",
    "print('array3d : \\n', array3d.tolist())\n",
    "\n",
    "#3차원 ndarray를 2차원 ndarray로 변환\n",
    "array2d = array3d.reshape(-1,1) #원본 ndarray가 어떤 형태이든 2차원 변환 보장\n",
    "print('array2d : \\n',array2d.tolist())\n",
    "print('array2d shape: ',array2d.shape)\n",
    "\n",
    "#1차원 ndarray를 2차원 ndarray로 변환\n",
    "array5 = array1.reshape(-1,1)\n",
    "print('array5 : \\n',array5.tolist())\n",
    "print('array5 shape: ',array5.shape)"
   ]
  },
  {
   "cell_type": "markdown",
   "id": "127aec72",
   "metadata": {},
   "source": [
    "### indexing - 넘파이 ndarray의 데이터 세트 선택하기\n",
    "#### *1. 특정 데이터 추출 - 단일 값 추출"
   ]
  },
  {
   "cell_type": "code",
   "execution_count": 6,
   "id": "b3408844",
   "metadata": {},
   "outputs": [
    {
     "name": "stdout",
     "output_type": "stream",
     "text": [
      "array1 :  [1 2 3 4 5 6 7 8 9]\n",
      "value :  3\n",
      "<class 'numpy.int32'>\n"
     ]
    }
   ],
   "source": [
    "# 1에서부터 9까지의 1차원 ndarray 생성\n",
    "array1 = np.arange(start=1,stop=10)\n",
    "print('array1 : ',array1)\n",
    "\n",
    "#index는 0부터 시작하므로 array1[2]는 3번째 index위치의 데이터 값\n",
    "value = array1[2]\n",
    "print('value : ',value)\n",
    "print(type(value))"
   ]
  },
  {
   "cell_type": "code",
   "execution_count": 10,
   "id": "f33385ca",
   "metadata": {},
   "outputs": [
    {
     "name": "stdout",
     "output_type": "stream",
     "text": [
      "맨 뒤의 값 :  9 , 맨 뒤에서 두번째 값 :  8\n"
     ]
    }
   ],
   "source": [
    "print('맨 뒤의 값 : ',array1[-1], ', 맨 뒤에서 두번째 값 : ',array1[-2])"
   ]
  },
  {
   "cell_type": "code",
   "execution_count": 12,
   "id": "d0adb928",
   "metadata": {},
   "outputs": [
    {
     "name": "stdout",
     "output_type": "stream",
     "text": [
      "array1 :  [9 2 3 4 5 6 7 8 0]\n"
     ]
    }
   ],
   "source": [
    "# 데이터 값 수정\n",
    "\n",
    "array1[0] =9\n",
    "array1[8] =0\n",
    "print('array1 : ',array1)"
   ]
  },
  {
   "cell_type": "code",
   "execution_count": 18,
   "id": "9078a87d",
   "metadata": {},
   "outputs": [
    {
     "name": "stdout",
     "output_type": "stream",
     "text": [
      "[1 2 3 4 5 6 7 8 9]\n",
      "[[1 2 3]\n",
      " [4 5 6]\n",
      " [7 8 9]]\n",
      "(row=0, col=0) index 가리키는 값 :  1\n",
      "(row=2, col=1) index 가리키는 값 :  8\n"
     ]
    }
   ],
   "source": [
    "# 2차원 ndarray에서 단일 값 추출\n",
    "array1d = np.arange(1,10)\n",
    "array2d = array1d.reshape(3,3)\n",
    "print(array1d)\n",
    "print(array2d)\n",
    "\n",
    "print('(row=0, col=0) index 가리키는 값 : ',array2d[0,0])\n",
    "print('(row=2, col=1) index 가리키는 값 : ',array2d[2,1])"
   ]
  },
  {
   "cell_type": "markdown",
   "id": "439107c3",
   "metadata": {},
   "source": [
    "#### *2. 슬라이싱(slicing) : 슬라이싱은 연속된 인덱스상의 ndarray를 추출하는 방식"
   ]
  },
  {
   "cell_type": "code",
   "execution_count": 23,
   "id": "37f05618",
   "metadata": {},
   "outputs": [
    {
     "name": "stdout",
     "output_type": "stream",
     "text": [
      "[1 2 3 4 5 6 7 8 9]\n",
      "[1 2 3]\n",
      "<class 'numpy.ndarray'>\n"
     ]
    }
   ],
   "source": [
    "array1 = np.arange(1,10)\n",
    "print(array1)\n",
    "\n",
    "array2 = array1[0:3]\n",
    "print(array2)\n",
    "\n",
    "print(type(array2)) #class 'numpy.ndarray'"
   ]
  },
  {
   "cell_type": "code",
   "execution_count": 26,
   "id": "22b9698b",
   "metadata": {},
   "outputs": [
    {
     "name": "stdout",
     "output_type": "stream",
     "text": [
      "[1 2 3]\n",
      "[4 5 6 7 8 9]\n",
      "[1 2 3 4 5 6 7 8 9]\n"
     ]
    }
   ],
   "source": [
    "# 슬라이싱 기호인 ':' 사이의 시작, 종료 인덱스는 생략 가능\n",
    "\n",
    "array3 = array1[:3]\n",
    "print(array3)\n",
    "\n",
    "array4 = array1[3:]\n",
    "print(array4)\n",
    "\n",
    "array5 = array1[:]\n",
    "print(array5)"
   ]
  },
  {
   "cell_type": "code",
   "execution_count": 31,
   "id": "e5e91485",
   "metadata": {},
   "outputs": [
    {
     "name": "stdout",
     "output_type": "stream",
     "text": [
      "[[1 2 3]\n",
      " [4 5 6]\n",
      " [7 8 9]]\n",
      "array2d[0:2,0:2] \n",
      " [[1 2]\n",
      " [4 5]]\n",
      "array2d[:2,:2] \n",
      " [[1 2]\n",
      " [4 5]]\n",
      "array2d[1:3,:] \n",
      " [[4 5 6]\n",
      " [7 8 9]]\n",
      "array2d[:2,1:] \n",
      " [[2 3]\n",
      " [5 6]]\n"
     ]
    }
   ],
   "source": [
    "# 2차원 ndarray에서 슬라이싱으로 데이터 접근\n",
    "\n",
    "array1d = np.arange(1,10)\n",
    "array2d = array1d.reshape(3,3)\n",
    "print(array2d)\n",
    "\n",
    "print('array2d[0:2,0:2] \\n', array2d[0:2,0:2])\n",
    "print('array2d[:2,:2] \\n', array2d[:2,:2])\n",
    "print('array2d[1:3,:] \\n', array2d[1:3,:])\n",
    "print('array2d[:2,1:] \\n', array2d[:2,1:])"
   ]
  },
  {
   "cell_type": "code",
   "execution_count": 33,
   "id": "a20247f1",
   "metadata": {},
   "outputs": [
    {
     "name": "stdout",
     "output_type": "stream",
     "text": [
      "[1 2 3]\n",
      "[4 5 6]\n",
      "array2d[0] shape :  (3,)\n"
     ]
    }
   ],
   "source": [
    "# 2차원 ndarray에서 뒤에 오는 인덱스를 없애면 1차원 ndarray를 반환\n",
    "\n",
    "print(array2d[0]) #row축(axis 0) 의 첫번째 row ndarray(1차원)를 반환\n",
    "print(array2d[1])\n",
    "\n",
    "print('array2d[0] shape : ',array2d[0].shape)"
   ]
  },
  {
   "cell_type": "markdown",
   "id": "be9ef75c",
   "metadata": {},
   "source": [
    "#### *3. fancy indexing\n",
    ": 리스트나 ndarray로 인덱스 집합을 지정하면 해당 위치의 인덱스에 해당하는 ndarray를 반환하는 인덱스 방식"
   ]
  },
  {
   "cell_type": "code",
   "execution_count": 37,
   "id": "e1e47fe0",
   "metadata": {},
   "outputs": [
    {
     "name": "stdout",
     "output_type": "stream",
     "text": [
      "array2d[[0,2],2]=> [3 9]\n",
      "[3 9]\n",
      "array2d[[0,1],0:2]=> [[1 2]\n",
      " [4 5]]\n",
      "array2d[[0,1]]=> [[1 2 3]\n",
      " [4 5 6]]\n"
     ]
    }
   ],
   "source": [
    "array1d = np.arange(1,10)\n",
    "array2d = array1d.reshape(3,3)\n",
    "\n",
    "array3 = array2d[[0,2],2]\n",
    "print('array2d[[0,2],2]=>',array2d[[0,2],2] )\n",
    "print(array3)\n",
    "\n",
    "array4 = array2d[[0,1],0:2]\n",
    "print('array2d[[0,1],0:2]=>',array2d[[0,1],0:2] )\n",
    "\n",
    "array5 = array2d[[0,1]] #array2d[0,1] 과 구별\n",
    "print('array2d[[0,1]]=>',array2d[[0,1]] )"
   ]
  },
  {
   "cell_type": "markdown",
   "id": "9c86ebee",
   "metadata": {},
   "source": [
    "#### *4. Boolean indexing\n",
    ": 조건 필터링과 검색을 동시에 할 수 있기 때문에 매우 자주 사용"
   ]
  },
  {
   "cell_type": "code",
   "execution_count": 40,
   "id": "86091179",
   "metadata": {},
   "outputs": [
    {
     "name": "stdout",
     "output_type": "stream",
     "text": [
      "array1d > 5 불린 인덱싱 결과 값 :  [6 7 8 9]\n"
     ]
    }
   ],
   "source": [
    "array1d = np.arange(1,10)\n",
    "\n",
    "array2 = array1d[array1d > 5]\n",
    "print('array1d > 5 불린 인덱싱 결과 값 : ',array2)"
   ]
  },
  {
   "cell_type": "code",
   "execution_count": 41,
   "id": "0fb6c0a9",
   "metadata": {},
   "outputs": [
    {
     "data": {
      "text/plain": [
       "array([False, False, False, False, False,  True,  True,  True,  True])"
      ]
     },
     "execution_count": 41,
     "metadata": {},
     "output_type": "execute_result"
    }
   ],
   "source": [
    "array1d >5"
   ]
  },
  {
   "cell_type": "code",
   "execution_count": 45,
   "id": "c3d3a504",
   "metadata": {},
   "outputs": [
    {
     "name": "stdout",
     "output_type": "stream",
     "text": [
      "[False False False False False  True  True  True  True]\n",
      "불린 인덱스로 필터링 결과 : [6 7 8 9]\n"
     ]
    }
   ],
   "source": [
    "boolean_indexes = np.array([False, False, False, False, False,  True,  True,  True,  True])\n",
    "print(boolean_indexes)\n",
    "array3 = array1d[boolean_indexes]\n",
    "print('불린 인덱스로 필터링 결과 :',array3)"
   ]
  },
  {
   "cell_type": "code",
   "execution_count": 46,
   "id": "5b52abb5",
   "metadata": {},
   "outputs": [
    {
     "name": "stdout",
     "output_type": "stream",
     "text": [
      "일반 인덱스로 필터링 결과 :  [6 7 8 9]\n"
     ]
    }
   ],
   "source": [
    "indexes = np.array([5,6,7,8])\n",
    "array4 = array1d[indexes]\n",
    "print('일반 인덱스로 필터링 결과 : ',array4)"
   ]
  },
  {
   "cell_type": "code",
   "execution_count": 47,
   "id": "238894b3",
   "metadata": {},
   "outputs": [
    {
     "ename": "IndexError",
     "evalue": "too many indices for array: array is 1-dimensional, but 4 were indexed",
     "output_type": "error",
     "traceback": [
      "\u001b[1;31m---------------------------------------------------------------------------\u001b[0m",
      "\u001b[1;31mIndexError\u001b[0m                                Traceback (most recent call last)",
      "Cell \u001b[1;32mIn[47], line 2\u001b[0m\n\u001b[0;32m      1\u001b[0m \u001b[38;5;66;03m# 주의\u001b[39;00m\n\u001b[1;32m----> 2\u001b[0m array4 \u001b[38;5;241m=\u001b[39m \u001b[43marray1d\u001b[49m\u001b[43m[\u001b[49m\u001b[38;5;241;43m5\u001b[39;49m\u001b[43m,\u001b[49m\u001b[38;5;241;43m6\u001b[39;49m\u001b[43m,\u001b[49m\u001b[38;5;241;43m7\u001b[39;49m\u001b[43m,\u001b[49m\u001b[38;5;241;43m8\u001b[39;49m\u001b[43m]\u001b[49m\n\u001b[0;32m      3\u001b[0m \u001b[38;5;28mprint\u001b[39m(\u001b[38;5;124m'\u001b[39m\u001b[38;5;124m일반 인덱스로 필터링 결과 : \u001b[39m\u001b[38;5;124m'\u001b[39m,array4)\n",
      "\u001b[1;31mIndexError\u001b[0m: too many indices for array: array is 1-dimensional, but 4 were indexed"
     ]
    }
   ],
   "source": [
    "# 주의\n",
    "array4 = array1d[5,6,7,8]\n",
    "print('일반 인덱스로 필터링 결과 : ',array4)\n",
    "#IndexError: too many indices for array: array is 1-dimensional, but 4 were indexed\n",
    "#4차원 배열에 접근한다는 뜻"
   ]
  },
  {
   "cell_type": "markdown",
   "id": "c355dec1",
   "metadata": {},
   "source": [
    "### 행렬의 정렬 - sort() argsort()"
   ]
  },
  {
   "cell_type": "code",
   "execution_count": 51,
   "id": "3edb1a49",
   "metadata": {},
   "outputs": [
    {
     "name": "stdout",
     "output_type": "stream",
     "text": [
      "원본 행렬 :  [3 1 9 5]\n",
      "np.sort() 호출 후 반환된 정렬 행렬 :  [1 3 5 9]\n",
      "np.sort() 호출 후 원본 행렬 :  [3 1 9 5]\n",
      "org_array.sort() 호출 후 반환된 정렬 행렬 :  None\n",
      "org_array.sort() 호출 후 원본 행렬 :  [1 3 5 9]\n"
     ]
    }
   ],
   "source": [
    "org_array = np.array([3,1,9,5])\n",
    "print('원본 행렬 : ',org_array)\n",
    "\n",
    "# np.sort()로 정렬\n",
    "sort_array1 = np.sort(org_array)\n",
    "print('np.sort() 호출 후 반환된 정렬 행렬 : ',sort_array1)\n",
    "print('np.sort() 호출 후 원본 행렬 : ',org_array)\n",
    "\n",
    "# 주의) ndarray.sort()로 정렬 : 자체 원본 수정\n",
    "sort_array2 = org_array.sort()\n",
    "print('org_array.sort() 호출 후 반환된 정렬 행렬 : ',sort_array2)\n",
    "print('org_array.sort() 호출 후 원본 행렬 : ',org_array)"
   ]
  },
  {
   "cell_type": "code",
   "execution_count": 52,
   "id": "78b1cfc8",
   "metadata": {},
   "outputs": [
    {
     "name": "stdout",
     "output_type": "stream",
     "text": [
      "내림차순으로 정렬 :  [9 5 3 1]\n"
     ]
    }
   ],
   "source": [
    "sort_array1_desc = np.sort(org_array)[::-1]\n",
    "print('내림차순으로 정렬 : ',sort_array1_desc)"
   ]
  },
  {
   "cell_type": "code",
   "execution_count": 55,
   "id": "4e866aaa",
   "metadata": {},
   "outputs": [
    {
     "name": "stdout",
     "output_type": "stream",
     "text": [
      "로우 방향(행)으로 정렬 : \n",
      " [[ 7  1]\n",
      " [ 8 12]]\n",
      "컬럼 방향(열)으로 정렬 : \n",
      " [[ 8 12]\n",
      " [ 1  7]]\n"
     ]
    }
   ],
   "source": [
    "array2d = np.array([[8,12], [7,1]])\n",
    "\n",
    "sort_array2d_axis0 = np.sort(array2d, axis=0) #0 ->행, 1->열\n",
    "print('로우 방향(행)으로 정렬 : \\n',sort_array2d_axis0)\n",
    "\n",
    "sort_array2d_axis1 = np.sort(array2d, axis=1) \n",
    "print('컬럼 방향(열)으로 정렬 : \\n',sort_array2d_axis1)\n",
    "\n",
    "#방향축\n",
    "#넘파이 -> 축 (행렬)\n",
    "\n",
    "#3차원\n",
    "#면axis:0, 행axis:1, 열axis:2"
   ]
  },
  {
   "cell_type": "code",
   "execution_count": 57,
   "id": "874085a7",
   "metadata": {},
   "outputs": [
    {
     "name": "stdout",
     "output_type": "stream",
     "text": [
      "<class 'numpy.ndarray'>\n",
      "행렬정렬 시 원본 행렬의 인덱스 :  [1 0 3 2]\n"
     ]
    }
   ],
   "source": [
    "# 정렬 행렬의 인덱스 반환\n",
    "\n",
    "org_array = np.array([3,1,9,5])\n",
    "sort_indices = np.argsort(org_array)\n",
    "print(type(sort_indices))\n",
    "print('행렬정렬 시 원본 행렬의 인덱스 : ',sort_indices)"
   ]
  },
  {
   "cell_type": "code",
   "execution_count": 58,
   "id": "312650e0",
   "metadata": {},
   "outputs": [
    {
     "name": "stdout",
     "output_type": "stream",
     "text": [
      "<class 'numpy.ndarray'>\n",
      "행렬정렬 시 원본 행렬의 인덱스 :  [2 3 0 1]\n"
     ]
    }
   ],
   "source": [
    "# 내림차순\n",
    "\n",
    "org_array = np.array([3,1,9,5])\n",
    "sort_indices = np.argsort(org_array)[::-1]\n",
    "print(type(sort_indices))\n",
    "print('행렬정렬 시 원본 행렬의 인덱스 : ',sort_indices)"
   ]
  },
  {
   "cell_type": "code",
   "execution_count": 60,
   "id": "07f6c888",
   "metadata": {},
   "outputs": [
    {
     "name": "stdout",
     "output_type": "stream",
     "text": [
      "성적 오름차순 정렬시 score_array의 인덱스 :  [0 2 4 1 3]\n",
      "성적 오름차순으로 name_array의 이름 출력 ['John' 'Sarah' 'Samuel' 'Mike' 'Kate']\n"
     ]
    }
   ],
   "source": [
    "name_array = np.array(['John','Mike','Sarah','Kate','Samuel'])\n",
    "score_array = np.array([78,95,84,98,88])\n",
    "sort_indices_asc = np.argsort(score_array)\n",
    "print('성적 오름차순 정렬시 score_array의 인덱스 : ',sort_indices_asc)\n",
    "print('성적 오름차순으로 name_array의 이름 출력', name_array[sort_indices_asc])"
   ]
  },
  {
   "cell_type": "markdown",
   "id": "587ef42c",
   "metadata": {},
   "source": [
    "### list vs  ndarray"
   ]
  },
  {
   "cell_type": "code",
   "execution_count": 65,
   "id": "c3435577",
   "metadata": {},
   "outputs": [
    {
     "name": "stdout",
     "output_type": "stream",
     "text": [
      "[1, 2, 3] [4, 5, 6] [1, 2, 3, 4, 5, 6]\n",
      "<class 'list'> <class 'list'>\n"
     ]
    }
   ],
   "source": [
    "#list\n",
    "\n",
    "x1 = [1,2,3]\n",
    "x2 = [4,5,6]\n",
    "x3 = x1+x2\n",
    "\n",
    "print(x1, x2, x3)\n",
    "print(type(x1), type(x2))"
   ]
  },
  {
   "cell_type": "code",
   "execution_count": 66,
   "id": "c2144a5d",
   "metadata": {},
   "outputs": [
    {
     "name": "stdout",
     "output_type": "stream",
     "text": [
      "[1 2 3] [4 5 6] [5 7 9]\n",
      "<class 'numpy.ndarray'> <class 'numpy.ndarray'>\n"
     ]
    }
   ],
   "source": [
    "#ndarray\n",
    "\n",
    "x4 = np.array([1,2,3])\n",
    "x5 = np.array([4,5,6])\n",
    "x6 = x4+x5\n",
    "\n",
    "print(x4, x5, x6)\n",
    "print(type(x4), type(x5))"
   ]
  },
  {
   "cell_type": "code",
   "execution_count": 67,
   "id": "9b6a3464",
   "metadata": {},
   "outputs": [
    {
     "name": "stdout",
     "output_type": "stream",
     "text": [
      "[11 12 13]\n",
      "[12 13 14]\n",
      "[13 14 15]\n"
     ]
    }
   ],
   "source": [
    "x = np.array([10,11,12])\n",
    "\n",
    "for i in np.arange(1,4) :\n",
    "    print( i +x)"
   ]
  },
  {
   "cell_type": "code",
   "execution_count": 69,
   "id": "69cb855f",
   "metadata": {},
   "outputs": [
    {
     "name": "stdout",
     "output_type": "stream",
     "text": [
      "x = [1 1]\n",
      "y = [1 1]\n"
     ]
    }
   ],
   "source": [
    "# ndarray형의 주의점\n",
    "x= np.array([1,1])\n",
    "y=x\n",
    "#실질적으로는 y에 메모리 주소값이 저장되어 있음\n",
    "\n",
    "print('x = '+ str(x))\n",
    "print('y = '+ str(y))"
   ]
  },
  {
   "cell_type": "code",
   "execution_count": 70,
   "id": "2024a7e2",
   "metadata": {},
   "outputs": [
    {
     "name": "stdout",
     "output_type": "stream",
     "text": [
      "x = [100   1]\n",
      "y = [100   1]\n"
     ]
    }
   ],
   "source": [
    "x[0] = 100\n",
    "\n",
    "print('x = '+ str(x))\n",
    "print('y = '+ str(y))"
   ]
  },
  {
   "cell_type": "code",
   "execution_count": 72,
   "id": "583ace3a",
   "metadata": {},
   "outputs": [
    {
     "name": "stdout",
     "output_type": "stream",
     "text": [
      "[1 1] [1 1]\n",
      "x1 = [1 1]\n",
      "x2 = [1 1]\n"
     ]
    }
   ],
   "source": [
    "x1 = np.array([1,1])\n",
    "x2 = x1.copy()\n",
    "# copy() : 똑같은 크기만큼 메모리 할당 후 복사, 시작 주소값 return\n",
    "\n",
    "print(x1,x2)\n",
    "print('x1 = '+ str(x1))\n",
    "print('x2 = '+ str(x2))"
   ]
  },
  {
   "cell_type": "code",
   "execution_count": 74,
   "id": "6abfb42f",
   "metadata": {},
   "outputs": [
    {
     "name": "stdout",
     "output_type": "stream",
     "text": [
      "x1 = [100   1]\n",
      "x2 = [1 1]\n"
     ]
    }
   ],
   "source": [
    "x1[0] = 100\n",
    "\n",
    "print('x1 = '+ str(x1))\n",
    "print('x2 = '+ str(x2))"
   ]
  },
  {
   "cell_type": "markdown",
   "id": "973e5623",
   "metadata": {},
   "source": [
    "### - 요소가 랜덤인 행렬 생성"
   ]
  },
  {
   "cell_type": "code",
   "execution_count": 79,
   "id": "32c99ef3",
   "metadata": {},
   "outputs": [
    {
     "name": "stdout",
     "output_type": "stream",
     "text": [
      "[[0.74037436 0.82248318 0.4099659 ]\n",
      " [0.50206925 0.98348084 0.28642758]]\n"
     ]
    }
   ],
   "source": [
    "randArray = np.random.rand(2,3) #0~1 사이의 균일한 분포\n",
    "#2행3열 행렬 데이터를 생성해서 0과1 사이의 균일한 분포를 이루는 데이터 셋으로부터 랜덤으로 생성\n",
    "\n",
    "print(randArray)"
   ]
  },
  {
   "cell_type": "code",
   "execution_count": 81,
   "id": "87314a3d",
   "metadata": {},
   "outputs": [
    {
     "name": "stdout",
     "output_type": "stream",
     "text": [
      "[[ 2.26848666 -0.37478167  0.43398088]\n",
      " [ 1.15772401  0.29131021 -0.3824607 ]]\n"
     ]
    }
   ],
   "source": [
    "randArray = np.random.randn(2,3) #평균 0, 분산 1 가우스 분포로 난수를 생성 (표준정규분포)\n",
    "print(randArray)"
   ]
  },
  {
   "cell_type": "code",
   "execution_count": 84,
   "id": "e8e72658",
   "metadata": {},
   "outputs": [
    {
     "name": "stdout",
     "output_type": "stream",
     "text": [
      "[[17 16 19]\n",
      " [17 17 15]]\n"
     ]
    }
   ],
   "source": [
    "randintArray = np.random.randint(10,20,(2,3)) #(시작값,끝값,(Matrix 크기))\n",
    "print(randintArray)"
   ]
  },
  {
   "cell_type": "code",
   "execution_count": 86,
   "id": "cd55da7e",
   "metadata": {},
   "outputs": [
    {
     "data": {
      "image/png": "[encoded data removed]",
      "text/plain": [
       "<Figure size 640x480 with 1 Axes>"
      ]
     },
     "metadata": {},
     "output_type": "display_data"
    }
   ],
   "source": [
    "# np.random.normal(정규분포 평균, 표준편차, (행,열) or 개수)\n",
    "# - 정규 분포 확률 밀도에서 표본 추출\n",
    "\n",
    "mean = 0 #평균\n",
    "std = 1 #표준편차\n",
    "\n",
    "arr_normal = np.random.normal(mean,std,10000)\n",
    "plt.hist(arr_normal, bins=100) #bins : 나누는 구간 개수(100개 정도로 더 잘게 나누어 보라는 의미)\n",
    "plt.show()"
   ]
  },
  {
   "cell_type": "code",
   "execution_count": 87,
   "id": "f76403c1",
   "metadata": {},
   "outputs": [
    {
     "name": "stdout",
     "output_type": "stream",
     "text": [
      "[[0.74083777 0.15309478]\n",
      " [0.78786594 0.00688783]\n",
      " [0.77496326 0.62033163]]\n"
     ]
    }
   ],
   "source": [
    "# np.random.random((행,열) or size) : (행,열)의 정규분포로 난수(0~1사이) 생성\n",
    "\n",
    "arr_random = np.random.random((3,2))\n",
    "print(arr_random)"
   ]
  },
  {
   "cell_type": "code",
   "execution_count": 90,
   "id": "3543ab95",
   "metadata": {},
   "outputs": [
    {
     "data": {
      "image/png": "[encoded data removed]",
      "text/plain": [
       "<Figure size 640x480 with 1 Axes>"
      ]
     },
     "metadata": {},
     "output_type": "display_data"
    }
   ],
   "source": [
    "data = np.random.random(10000) #size\n",
    "\n",
    "plt.hist(data, bins=100, color='yellowgreen')\n",
    "plt.show()"
   ]
  },
  {
   "cell_type": "markdown",
   "id": "e4365df1",
   "metadata": {},
   "source": [
    "## - Numpy에서 np.sum() 함수의 axis 이해"
   ]
  },
  {
   "cell_type": "code",
   "execution_count": 92,
   "id": "91865c9b",
   "metadata": {},
   "outputs": [
    {
     "name": "stdout",
     "output_type": "stream",
     "text": [
      "[ 0  1  2  3  4  5  6  7  8  9 10 11 12 13 14 15 16 17 18 19 20 21 22 23]\n"
     ]
    }
   ],
   "source": [
    "arr = np.arange(0,24)\n",
    "print(arr)\n"
   ]
  },
  {
   "cell_type": "code",
   "execution_count": 93,
   "id": "f8e29c10",
   "metadata": {},
   "outputs": [
    {
     "data": {
      "text/plain": [
       "array([[[ 0,  1,  2,  3],\n",
       "        [ 4,  5,  6,  7],\n",
       "        [ 8,  9, 10, 11]],\n",
       "\n",
       "       [[12, 13, 14, 15],\n",
       "        [16, 17, 18, 19],\n",
       "        [20, 21, 22, 23]]])"
      ]
     },
     "execution_count": 93,
     "metadata": {},
     "output_type": "execute_result"
    }
   ],
   "source": [
    "v = arr.reshape([2,3,4]) #2면 3행 4열 : 차원 변환([z(depth)축, x(row)축, y(column)축 ])\n",
    "v"
   ]
  },
  {
   "cell_type": "code",
   "execution_count": 96,
   "id": "61e2543a",
   "metadata": {},
   "outputs": [
    {
     "name": "stdout",
     "output_type": "stream",
     "text": [
      "(2, 3, 4)\n",
      "3\n"
     ]
    }
   ],
   "source": [
    "print(v.shape)\n",
    "print(v.ndim)"
   ]
  },
  {
   "cell_type": "code",
   "execution_count": 97,
   "id": "7bf46349",
   "metadata": {},
   "outputs": [
    {
     "name": "stdout",
     "output_type": "stream",
     "text": [
      "276\n"
     ]
    }
   ],
   "source": [
    "print(v.sum()) #모든 element들의 합"
   ]
  },
  {
   "cell_type": "code",
   "execution_count": null,
   "id": "017569ba",
   "metadata": {},
   "outputs": [],
   "source": [
    "# 어떤 shape으로 결과가 나올 것인가에 대해 유추할 수 있어야 함\n",
    "# (왜 이렇게 나왔는지에 대해 유추할 수 있어야 함)"
   ]
  },
  {
   "cell_type": "code",
   "execution_count": 101,
   "id": "15118d6d",
   "metadata": {},
   "outputs": [
    {
     "name": "stdout",
     "output_type": "stream",
     "text": [
      "[[12 14 16 18]\n",
      " [20 22 24 26]\n",
      " [28 30 32 34]]\n",
      "(3, 4)\n"
     ]
    }
   ],
   "source": [
    "result = v.sum(axis=0)\n",
    "print(result)\n",
    "print(result.shape)\n",
    "\n",
    "#면이 사라지면서 행렬만 남음"
   ]
  },
  {
   "cell_type": "code",
   "execution_count": 102,
   "id": "4b00ae3a",
   "metadata": {},
   "outputs": [
    {
     "name": "stdout",
     "output_type": "stream",
     "text": [
      "[[12 15 18 21]\n",
      " [48 51 54 57]]\n",
      "(2, 4)\n"
     ]
    }
   ],
   "source": [
    "result = v.sum(axis=1)\n",
    "print(result)\n",
    "print(result.shape)"
   ]
  },
  {
   "cell_type": "code",
   "execution_count": 103,
   "id": "74a778f9",
   "metadata": {},
   "outputs": [
    {
     "name": "stdout",
     "output_type": "stream",
     "text": [
      "[[ 6 22 38]\n",
      " [54 70 86]]\n",
      "(2, 3)\n"
     ]
    }
   ],
   "source": [
    "result = v.sum(axis=2)\n",
    "print(result)\n",
    "print(result.shape)"
   ]
  },
  {
   "cell_type": "code",
   "execution_count": null,
   "id": "a59b4c84",
   "metadata": {},
   "outputs": [],
   "source": []
  }
 ],
 "metadata": {
  "kernelspec": {
   "display_name": "Python [conda env:tf_cpu] *",
   "language": "python",
   "name": "conda-env-tf_cpu-py"
  },
  "language_info": {
   "codemirror_mode": {
    "name": "ipython",
    "version": 3
   },
   "file_extension": ".py",
   "mimetype": "text/x-python",
   "name": "python",
   "nbconvert_exporter": "python",
   "pygments_lexer": "ipython3",
   "version": "3.8.16"
  }
 },
 "nbformat": 4,
 "nbformat_minor": 5
}
