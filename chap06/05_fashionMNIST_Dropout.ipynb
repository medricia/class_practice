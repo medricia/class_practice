{
 "cells": [
  {
   "cell_type": "code",
   "execution_count": 1,
   "id": "62050282",
   "metadata": {},
   "outputs": [],
   "source": [
    "import numpy as np\n",
    "from tensorflow import keras\n",
    "import matplotlib.pyplot as plt\n",
    "from sklearn.model_selection import train_test_split"
   ]
  },
  {
   "cell_type": "code",
   "execution_count": 2,
   "id": "96bfd9db",
   "metadata": {},
   "outputs": [],
   "source": [
    "(train_input, train_target),(test_input, test_target)= keras.datasets.fashion_mnist.load_data()"
   ]
  },
  {
   "cell_type": "code",
   "execution_count": 3,
   "id": "20e4526f",
   "metadata": {},
   "outputs": [],
   "source": [
    "train_scaled = train_input / 255.\n",
    "train_scaled = train_scaled.reshape(-1, 28*28) #1차원으로 펼쳐서 입력데이터로 활용하기\n",
    "\n",
    "train_scaled, val_scaled, train_target, val_target = train_test_split(train_scaled, train_target, test_size=0.2, random_state=1234)"
   ]
  },
  {
   "cell_type": "code",
   "execution_count": 6,
   "id": "e0bcbf86",
   "metadata": {},
   "outputs": [],
   "source": [
    "model = keras.Sequential()\n",
    "\n",
    "#Xavier 정규분포 초기값 설정\n",
    "model.add(keras.layers.Dense(units=512, activation='relu', input_shape=(28*28, ), kernel_initializer='glorot_normal'))\n",
    "\n",
    "model.add(keras.layers.Dropout(0.3))\n",
    "\n",
    "model.add(keras.layers.Dense(units=256, activation='relu', kernel_initializer='glorot_normal'))\n",
    "\n",
    "model.add(keras.layers.Dropout(0.3))\n",
    "\n",
    "model.add(keras.layers.Dense(units=256, activation='relu', kernel_initializer='glorot_normal'))\n",
    "\n",
    "model.add(keras.layers.Dropout(0.3))\n",
    "\n",
    "model.add(keras.layers.Dense(units=10, activation='softmax', kernel_initializer='glorot_normal'))"
   ]
  },
  {
   "cell_type": "code",
   "execution_count": 7,
   "id": "a8dba158",
   "metadata": {},
   "outputs": [
    {
     "name": "stdout",
     "output_type": "stream",
     "text": [
      "Model: \"sequential_1\"\n",
      "_________________________________________________________________\n",
      " Layer (type)                Output Shape              Param #   \n",
      "=================================================================\n",
      " dense_3 (Dense)             (None, 512)               401920    \n",
      "                                                                 \n",
      " dropout_2 (Dropout)         (None, 512)               0         \n",
      "                                                                 \n",
      " dense_4 (Dense)             (None, 256)               131328    \n",
      "                                                                 \n",
      " dropout_3 (Dropout)         (None, 256)               0         \n",
      "                                                                 \n",
      " dense_5 (Dense)             (None, 256)               65792     \n",
      "                                                                 \n",
      " dropout_4 (Dropout)         (None, 256)               0         \n",
      "                                                                 \n",
      " dense_6 (Dense)             (None, 10)                2570      \n",
      "                                                                 \n",
      "=================================================================\n",
      "Total params: 601,610\n",
      "Trainable params: 601,610\n",
      "Non-trainable params: 0\n",
      "_________________________________________________________________\n"
     ]
    }
   ],
   "source": [
    "model.summary()"
   ]
  },
  {
   "cell_type": "code",
   "execution_count": 9,
   "id": "4680d1e7",
   "metadata": {},
   "outputs": [
    {
     "name": "stdout",
     "output_type": "stream",
     "text": [
      "Epoch 1/50\n",
      "480/480 [==============================] - 2s 4ms/step - loss: 0.6295 - accuracy: 0.7716\n",
      "Epoch 2/50\n",
      "480/480 [==============================] - 2s 4ms/step - loss: 0.4425 - accuracy: 0.8406\n",
      "Epoch 3/50\n",
      "480/480 [==============================] - 2s 4ms/step - loss: 0.4080 - accuracy: 0.8509\n",
      "Epoch 4/50\n",
      "480/480 [==============================] - 2s 4ms/step - loss: 0.3831 - accuracy: 0.8609\n",
      "Epoch 5/50\n",
      "480/480 [==============================] - 2s 4ms/step - loss: 0.3633 - accuracy: 0.8683\n",
      "Epoch 6/50\n",
      "480/480 [==============================] - 2s 4ms/step - loss: 0.3471 - accuracy: 0.8739\n",
      "Epoch 7/50\n",
      "480/480 [==============================] - 2s 4ms/step - loss: 0.3369 - accuracy: 0.8765\n",
      "Epoch 8/50\n",
      "480/480 [==============================] - 2s 4ms/step - loss: 0.3259 - accuracy: 0.8810\n",
      "Epoch 9/50\n",
      "480/480 [==============================] - 2s 4ms/step - loss: 0.3194 - accuracy: 0.8832\n",
      "Epoch 10/50\n",
      "480/480 [==============================] - 2s 4ms/step - loss: 0.3135 - accuracy: 0.8826\n",
      "Epoch 11/50\n",
      "480/480 [==============================] - 2s 4ms/step - loss: 0.3013 - accuracy: 0.8898\n",
      "Epoch 12/50\n",
      "480/480 [==============================] - 2s 4ms/step - loss: 0.2994 - accuracy: 0.8882\n",
      "Epoch 13/50\n",
      "480/480 [==============================] - 2s 4ms/step - loss: 0.2925 - accuracy: 0.8919\n",
      "Epoch 14/50\n",
      "480/480 [==============================] - 2s 4ms/step - loss: 0.2901 - accuracy: 0.8921\n",
      "Epoch 15/50\n",
      "480/480 [==============================] - 2s 4ms/step - loss: 0.2877 - accuracy: 0.8937\n",
      "Epoch 16/50\n",
      "480/480 [==============================] - 2s 4ms/step - loss: 0.2768 - accuracy: 0.8968\n",
      "Epoch 17/50\n",
      "480/480 [==============================] - 2s 4ms/step - loss: 0.2776 - accuracy: 0.8977\n",
      "Epoch 18/50\n",
      "480/480 [==============================] - 2s 4ms/step - loss: 0.2722 - accuracy: 0.8989\n",
      "Epoch 19/50\n",
      "480/480 [==============================] - 2s 4ms/step - loss: 0.2668 - accuracy: 0.9011\n",
      "Epoch 20/50\n",
      "480/480 [==============================] - 2s 4ms/step - loss: 0.2649 - accuracy: 0.9032\n",
      "Epoch 21/50\n",
      "480/480 [==============================] - 2s 4ms/step - loss: 0.2588 - accuracy: 0.9035\n",
      "Epoch 22/50\n",
      "480/480 [==============================] - 2s 4ms/step - loss: 0.2589 - accuracy: 0.9036\n",
      "Epoch 23/50\n",
      "480/480 [==============================] - 2s 4ms/step - loss: 0.2549 - accuracy: 0.9054\n",
      "Epoch 24/50\n",
      "480/480 [==============================] - 2s 4ms/step - loss: 0.2538 - accuracy: 0.9046\n",
      "Epoch 25/50\n",
      "480/480 [==============================] - 2s 4ms/step - loss: 0.2493 - accuracy: 0.9072\n",
      "Epoch 26/50\n",
      "480/480 [==============================] - 2s 4ms/step - loss: 0.2470 - accuracy: 0.9079\n",
      "Epoch 27/50\n",
      "480/480 [==============================] - 2s 4ms/step - loss: 0.2421 - accuracy: 0.9087\n",
      "Epoch 28/50\n",
      "480/480 [==============================] - 2s 4ms/step - loss: 0.2404 - accuracy: 0.9108\n",
      "Epoch 29/50\n",
      "480/480 [==============================] - 2s 4ms/step - loss: 0.2368 - accuracy: 0.9120\n",
      "Epoch 30/50\n",
      "480/480 [==============================] - 2s 4ms/step - loss: 0.2397 - accuracy: 0.9102\n",
      "Epoch 31/50\n",
      "480/480 [==============================] - 2s 4ms/step - loss: 0.2394 - accuracy: 0.9116\n",
      "Epoch 32/50\n",
      "480/480 [==============================] - 2s 4ms/step - loss: 0.2366 - accuracy: 0.9124\n",
      "Epoch 33/50\n",
      "480/480 [==============================] - 2s 4ms/step - loss: 0.2310 - accuracy: 0.9135\n",
      "Epoch 34/50\n",
      "480/480 [==============================] - 2s 4ms/step - loss: 0.2271 - accuracy: 0.9153\n",
      "Epoch 35/50\n",
      "480/480 [==============================] - 2s 4ms/step - loss: 0.2246 - accuracy: 0.9159\n",
      "Epoch 36/50\n",
      "480/480 [==============================] - 2s 4ms/step - loss: 0.2256 - accuracy: 0.9173\n",
      "Epoch 37/50\n",
      "480/480 [==============================] - 2s 4ms/step - loss: 0.2202 - accuracy: 0.9179\n",
      "Epoch 38/50\n",
      "480/480 [==============================] - 2s 4ms/step - loss: 0.2238 - accuracy: 0.9160\n",
      "Epoch 39/50\n",
      "480/480 [==============================] - 2s 4ms/step - loss: 0.2157 - accuracy: 0.9194\n",
      "Epoch 40/50\n",
      "480/480 [==============================] - 2s 4ms/step - loss: 0.2156 - accuracy: 0.9192\n",
      "Epoch 41/50\n",
      "480/480 [==============================] - 2s 4ms/step - loss: 0.2160 - accuracy: 0.9202\n",
      "Epoch 42/50\n",
      "480/480 [==============================] - 2s 4ms/step - loss: 0.2104 - accuracy: 0.9211\n",
      "Epoch 43/50\n",
      "480/480 [==============================] - 2s 4ms/step - loss: 0.2110 - accuracy: 0.9219\n",
      "Epoch 44/50\n",
      "480/480 [==============================] - 2s 4ms/step - loss: 0.2072 - accuracy: 0.9230\n",
      "Epoch 45/50\n",
      "480/480 [==============================] - 2s 4ms/step - loss: 0.2084 - accuracy: 0.9231\n",
      "Epoch 46/50\n",
      "480/480 [==============================] - 2s 4ms/step - loss: 0.2071 - accuracy: 0.9225\n",
      "Epoch 47/50\n",
      "480/480 [==============================] - 2s 4ms/step - loss: 0.2078 - accuracy: 0.9226\n",
      "Epoch 48/50\n",
      "480/480 [==============================] - 2s 4ms/step - loss: 0.2026 - accuracy: 0.9263\n",
      "Epoch 49/50\n",
      "480/480 [==============================] - 2s 4ms/step - loss: 0.1968 - accuracy: 0.9275\n",
      "Epoch 50/50\n",
      "480/480 [==============================] - 2s 4ms/step - loss: 0.1993 - accuracy: 0.9265\n"
     ]
    },
    {
     "data": {
      "text/plain": [
       "<keras.callbacks.History at 0x2df4e67f640>"
      ]
     },
     "execution_count": 9,
     "metadata": {},
     "output_type": "execute_result"
    }
   ],
   "source": [
    "model.compile(optimizer=keras.optimizers.Adam(learning_rate=0.001), loss='sparse_categorical_crossentropy', metrics='accuracy')\n",
    "model.fit(train_scaled, train_target, epochs=50, batch_size=100)"
   ]
  },
  {
   "cell_type": "code",
   "execution_count": null,
   "id": "195ec0f2",
   "metadata": {},
   "outputs": [],
   "source": []
  }
 ],
 "metadata": {
  "kernelspec": {
   "display_name": "Python [conda env:tf_cpu] *",
   "language": "python",
   "name": "conda-env-tf_cpu-py"
  },
  "language_info": {
   "codemirror_mode": {
    "name": "ipython",
    "version": 3
   },
   "file_extension": ".py",
   "mimetype": "text/x-python",
   "name": "python",
   "nbconvert_exporter": "python",
   "pygments_lexer": "ipython3",
   "version": "3.8.16"
  }
 },
 "nbformat": 4,
 "nbformat_minor": 5
}
