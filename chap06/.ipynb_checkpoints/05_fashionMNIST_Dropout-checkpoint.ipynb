{
 "cells": [
  {
   "cell_type": "code",
   "execution_count": 1,
   "id": "cf044ec5",
   "metadata": {},
   "outputs": [],
   "source": [
    "import numpy as np\n",
    "from tensorflow import keras\n",
    "import matplotlib.pyplot as plt\n",
    "from sklearn.model_selection import train_test_split"
   ]
  },
  {
   "cell_type": "code",
   "execution_count": 2,
   "id": "66326e32",
   "metadata": {},
   "outputs": [],
   "source": [
    "(train_input, train_target),(test_input, test_target)= keras.datasets.fashion_mnist.load_data()"
   ]
  },
  {
   "cell_type": "code",
   "execution_count": 3,
   "id": "b9e8d20b",
   "metadata": {},
   "outputs": [],
   "source": [
    "train_scaled = train_input / 255.\n",
    "train_scaled = train_scaled.reshape(-1, 28*28) #1차원으로 펼쳐서 입력데이터로 활용하기\n",
    "\n",
    "train_scaled, val_scaled, train_target, val_target = train_test_split(train_scaled, train_target, test_size=0.2, random_state=1234)"
   ]
  },
  {
   "cell_type": "code",
   "execution_count": 6,
   "id": "fa7ecbe3",
   "metadata": {},
   "outputs": [],
   "source": [
    "model = keras.Sequential()\n",
    "\n",
    "#Xavier 정규분포 초기값 설정\n",
    "model.add(keras.layers.Dense(units=512, activation='relu', input_shape=(28*28, ), kernel_initializer='glorot_normal'))\n",
    "\n",
    "model.add(keras.layers.Dropout(0.3))\n",
    "\n",
    "model.add(keras.layers.Dense(units=256, activation='relu', kernel_initializer='glorot_normal'))\n",
    "\n",
    "model.add(keras.layers.Dropout(0.3))\n",
    "\n",
    "model.add(keras.layers.Dense(units=256, activation='relu', kernel_initializer='glorot_normal'))\n",
    "\n",
    "model.add(keras.layers.Dropout(0.3))\n",
    "\n",
    "model.add(keras.layers.Dense(units=10, activation='softmax', kernel_initializer='glorot_normal'))"
   ]
  },
  {
   "cell_type": "code",
   "execution_count": 7,
   "id": "844840b5",
   "metadata": {},
   "outputs": [
    {
     "name": "stdout",
     "output_type": "stream",
     "text": [
      "Model: \"sequential_1\"\n",
      "_________________________________________________________________\n",
      " Layer (type)                Output Shape              Param #   \n",
      "=================================================================\n",
      " dense_3 (Dense)             (None, 512)               401920    \n",
      "                                                                 \n",
      " dropout_2 (Dropout)         (None, 512)               0         \n",
      "                                                                 \n",
      " dense_4 (Dense)             (None, 256)               131328    \n",
      "                                                                 \n",
      " dropout_3 (Dropout)         (None, 256)               0         \n",
      "                                                                 \n",
      " dense_5 (Dense)             (None, 256)               65792     \n",
      "                                                                 \n",
      " dropout_4 (Dropout)         (None, 256)               0         \n",
      "                                                                 \n",
      " dense_6 (Dense)             (None, 10)                2570      \n",
      "                                                                 \n",
      "=================================================================\n",
      "Total params: 601,610\n",
      "Trainable params: 601,610\n",
      "Non-trainable params: 0\n",
      "_________________________________________________________________\n"
     ]
    }
   ],
   "source": [
    "model.summary()"
   ]
  },
  {
   "cell_type": "code",
   "execution_count": null,
   "id": "6fe976c8",
   "metadata": {},
   "outputs": [],
   "source": [
    "model.fit(train_scaled, train_target, epochs=50, batch_size=100)"
   ]
  }
 ],
 "metadata": {
  "kernelspec": {
   "display_name": "Python [conda env:tf_cpu] *",
   "language": "python",
   "name": "conda-env-tf_cpu-py"
  },
  "language_info": {
   "codemirror_mode": {
    "name": "ipython",
    "version": 3
   },
   "file_extension": ".py",
   "mimetype": "text/x-python",
   "name": "python",
   "nbconvert_exporter": "python",
   "pygments_lexer": "ipython3",
   "version": "3.8.16"
  }
 },
 "nbformat": 4,
 "nbformat_minor": 5
}
