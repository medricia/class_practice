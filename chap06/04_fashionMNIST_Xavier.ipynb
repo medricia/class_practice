{
 "cells": [
  {
   "cell_type": "code",
   "execution_count": 1,
   "id": "73909c4e",
   "metadata": {},
   "outputs": [],
   "source": [
    "import numpy as np\n",
    "from tensorflow import keras\n",
    "import matplotlib.pyplot as plt\n",
    "from sklearn.model_selection import train_test_split"
   ]
  },
  {
   "cell_type": "code",
   "execution_count": 2,
   "id": "450172d6",
   "metadata": {},
   "outputs": [],
   "source": [
    "(train_input, train_target),(test_input, test_target)= keras.datasets.fashion_mnist.load_data()"
   ]
  },
  {
   "cell_type": "code",
   "execution_count": 3,
   "id": "7d6cca01",
   "metadata": {},
   "outputs": [],
   "source": [
    "train_scaled = train_input / 255.\n",
    "train_scaled = train_scaled.reshape(-1, 28*28) #1차원으로 펼쳐서 입력데이터로 활용하기\n",
    "\n",
    "train_scaled, val_scaled, train_target, val_target = train_test_split(train_scaled, train_target, test_size=0.2, random_state=1234)"
   ]
  },
  {
   "cell_type": "code",
   "execution_count": 4,
   "id": "a98ace19",
   "metadata": {},
   "outputs": [],
   "source": [
    "model = keras.Sequential()\n",
    "\n",
    "#Xavier 정규분포 초기값 설정\n",
    "model.add(keras.layers.Dense(units=512, activation='relu', input_shape=(28*28, ), kernel_initializer='glorot_normal'))\n",
    "\n",
    "model.add(keras.layers.Dense(units=512, activation='relu', kernel_initializer='glorot_normal'))\n",
    "model.add(keras.layers.Dense(units=256, activation='relu', kernel_initializer='glorot_normal'))\n",
    "\n",
    "model.add(keras.layers.Dense(units=10, activation='softmax', kernel_initializer='glorot_normal'))"
   ]
  },
  {
   "cell_type": "code",
   "execution_count": 8,
   "id": "5a7011b9",
   "metadata": {},
   "outputs": [],
   "source": [
    "model.compile(optimizer=keras.optimizers.Adam(learning_rate=0.001), loss='sparse_categorical_crossentropy', metrics='accuracy')"
   ]
  },
  {
   "cell_type": "code",
   "execution_count": 9,
   "id": "0da68438",
   "metadata": {},
   "outputs": [
    {
     "name": "stdout",
     "output_type": "stream",
     "text": [
      "Model: \"sequential\"\n",
      "_________________________________________________________________\n",
      " Layer (type)                Output Shape              Param #   \n",
      "=================================================================\n",
      " dense (Dense)               (None, 512)               401920    \n",
      "                                                                 \n",
      " dense_1 (Dense)             (None, 512)               262656    \n",
      "                                                                 \n",
      " dense_2 (Dense)             (None, 256)               131328    \n",
      "                                                                 \n",
      " dense_3 (Dense)             (None, 10)                2570      \n",
      "                                                                 \n",
      "=================================================================\n",
      "Total params: 798,474\n",
      "Trainable params: 798,474\n",
      "Non-trainable params: 0\n",
      "_________________________________________________________________\n"
     ]
    }
   ],
   "source": [
    "model.summary()"
   ]
  },
  {
   "cell_type": "code",
   "execution_count": 10,
   "id": "13fcdc18",
   "metadata": {},
   "outputs": [
    {
     "name": "stdout",
     "output_type": "stream",
     "text": [
      "Epoch 1/50\n",
      "480/480 [==============================] - 2s 4ms/step - loss: 0.4992 - accuracy: 0.8199\n",
      "Epoch 2/50\n",
      "480/480 [==============================] - 2s 4ms/step - loss: 0.3657 - accuracy: 0.8664\n",
      "Epoch 3/50\n",
      "480/480 [==============================] - 2s 4ms/step - loss: 0.3284 - accuracy: 0.8789\n",
      "Epoch 4/50\n",
      "480/480 [==============================] - 2s 4ms/step - loss: 0.3024 - accuracy: 0.8902\n",
      "Epoch 5/50\n",
      "480/480 [==============================] - 2s 4ms/step - loss: 0.2840 - accuracy: 0.8950\n",
      "Epoch 6/50\n",
      "480/480 [==============================] - 2s 4ms/step - loss: 0.2689 - accuracy: 0.8998\n",
      "Epoch 7/50\n",
      "480/480 [==============================] - 2s 4ms/step - loss: 0.2571 - accuracy: 0.9039\n",
      "Epoch 8/50\n",
      "480/480 [==============================] - 2s 4ms/step - loss: 0.2469 - accuracy: 0.9077\n",
      "Epoch 9/50\n",
      "480/480 [==============================] - 2s 4ms/step - loss: 0.2300 - accuracy: 0.9129\n",
      "Epoch 10/50\n",
      "480/480 [==============================] - 2s 4ms/step - loss: 0.2201 - accuracy: 0.9170\n",
      "Epoch 11/50\n",
      "480/480 [==============================] - 2s 4ms/step - loss: 0.2127 - accuracy: 0.9184\n",
      "Epoch 12/50\n",
      "480/480 [==============================] - 2s 4ms/step - loss: 0.2068 - accuracy: 0.9216\n",
      "Epoch 13/50\n",
      "480/480 [==============================] - 2s 4ms/step - loss: 0.1972 - accuracy: 0.9236\n",
      "Epoch 14/50\n",
      "480/480 [==============================] - 2s 4ms/step - loss: 0.1878 - accuracy: 0.9285\n",
      "Epoch 15/50\n",
      "480/480 [==============================] - 2s 4ms/step - loss: 0.1804 - accuracy: 0.9306\n",
      "Epoch 16/50\n",
      "480/480 [==============================] - 2s 4ms/step - loss: 0.1696 - accuracy: 0.9344\n",
      "Epoch 17/50\n",
      "480/480 [==============================] - 2s 4ms/step - loss: 0.1665 - accuracy: 0.9354\n",
      "Epoch 18/50\n",
      "480/480 [==============================] - 2s 4ms/step - loss: 0.1623 - accuracy: 0.9368\n",
      "Epoch 19/50\n",
      "480/480 [==============================] - 2s 4ms/step - loss: 0.1526 - accuracy: 0.9407\n",
      "Epoch 20/50\n",
      "480/480 [==============================] - 2s 4ms/step - loss: 0.1463 - accuracy: 0.9438\n",
      "Epoch 21/50\n",
      "480/480 [==============================] - 2s 4ms/step - loss: 0.1398 - accuracy: 0.9459\n",
      "Epoch 22/50\n",
      "480/480 [==============================] - 2s 4ms/step - loss: 0.1376 - accuracy: 0.9463\n",
      "Epoch 23/50\n",
      "480/480 [==============================] - 2s 4ms/step - loss: 0.1289 - accuracy: 0.9495\n",
      "Epoch 24/50\n",
      "480/480 [==============================] - 2s 4ms/step - loss: 0.1266 - accuracy: 0.9522\n",
      "Epoch 25/50\n",
      "480/480 [==============================] - 2s 4ms/step - loss: 0.1260 - accuracy: 0.9502\n",
      "Epoch 26/50\n",
      "480/480 [==============================] - 2s 4ms/step - loss: 0.1184 - accuracy: 0.9534\n",
      "Epoch 27/50\n",
      "480/480 [==============================] - 2s 4ms/step - loss: 0.1111 - accuracy: 0.9569\n",
      "Epoch 28/50\n",
      "480/480 [==============================] - 2s 4ms/step - loss: 0.1141 - accuracy: 0.9555\n",
      "Epoch 29/50\n",
      "480/480 [==============================] - 2s 4ms/step - loss: 0.1076 - accuracy: 0.9580\n",
      "Epoch 30/50\n",
      "480/480 [==============================] - 2s 4ms/step - loss: 0.1029 - accuracy: 0.9594\n",
      "Epoch 31/50\n",
      "480/480 [==============================] - 2s 4ms/step - loss: 0.0962 - accuracy: 0.9626\n",
      "Epoch 32/50\n",
      "480/480 [==============================] - 2s 4ms/step - loss: 0.0975 - accuracy: 0.9620\n",
      "Epoch 33/50\n",
      "480/480 [==============================] - 2s 4ms/step - loss: 0.0931 - accuracy: 0.9634\n",
      "Epoch 34/50\n",
      "480/480 [==============================] - 2s 4ms/step - loss: 0.0883 - accuracy: 0.9647\n",
      "Epoch 35/50\n",
      "480/480 [==============================] - 2s 4ms/step - loss: 0.0842 - accuracy: 0.9668\n",
      "Epoch 36/50\n",
      "480/480 [==============================] - 2s 4ms/step - loss: 0.0844 - accuracy: 0.9669\n",
      "Epoch 37/50\n",
      "480/480 [==============================] - 2s 4ms/step - loss: 0.0785 - accuracy: 0.9696\n",
      "Epoch 38/50\n",
      "480/480 [==============================] - 2s 4ms/step - loss: 0.0785 - accuracy: 0.9700\n",
      "Epoch 39/50\n",
      "480/480 [==============================] - 2s 4ms/step - loss: 0.0769 - accuracy: 0.9700\n",
      "Epoch 40/50\n",
      "480/480 [==============================] - 2s 4ms/step - loss: 0.0727 - accuracy: 0.9719\n",
      "Epoch 41/50\n",
      "480/480 [==============================] - 2s 4ms/step - loss: 0.0722 - accuracy: 0.9729\n",
      "Epoch 42/50\n",
      "480/480 [==============================] - 2s 4ms/step - loss: 0.0757 - accuracy: 0.9714\n",
      "Epoch 43/50\n",
      "480/480 [==============================] - 2s 4ms/step - loss: 0.0682 - accuracy: 0.9738\n",
      "Epoch 44/50\n",
      "480/480 [==============================] - 2s 4ms/step - loss: 0.0623 - accuracy: 0.9759\n",
      "Epoch 45/50\n",
      "480/480 [==============================] - 2s 4ms/step - loss: 0.0627 - accuracy: 0.9763\n",
      "Epoch 46/50\n",
      "480/480 [==============================] - 2s 4ms/step - loss: 0.0636 - accuracy: 0.9763\n",
      "Epoch 47/50\n",
      "480/480 [==============================] - 2s 4ms/step - loss: 0.0613 - accuracy: 0.9769\n",
      "Epoch 48/50\n",
      "480/480 [==============================] - 2s 4ms/step - loss: 0.0538 - accuracy: 0.9792\n",
      "Epoch 49/50\n",
      "480/480 [==============================] - 2s 4ms/step - loss: 0.0607 - accuracy: 0.9772\n",
      "Epoch 50/50\n",
      "480/480 [==============================] - 2s 4ms/step - loss: 0.0576 - accuracy: 0.9786\n"
     ]
    },
    {
     "data": {
      "text/plain": [
       "<keras.callbacks.History at 0x1845cdc9760>"
      ]
     },
     "execution_count": 10,
     "metadata": {},
     "output_type": "execute_result"
    }
   ],
   "source": [
    "model.fit(train_scaled, train_target, epochs=50, batch_size=100)"
   ]
  },
  {
   "cell_type": "code",
   "execution_count": 11,
   "id": "312d0bb3",
   "metadata": {},
   "outputs": [
    {
     "name": "stdout",
     "output_type": "stream",
     "text": [
      "375/375 [==============================] - 1s 2ms/step - loss: 0.5542 - accuracy: 0.8989\n"
     ]
    },
    {
     "data": {
      "text/plain": [
       "[0.5541570782661438, 0.8989166617393494]"
      ]
     },
     "execution_count": 11,
     "metadata": {},
     "output_type": "execute_result"
    }
   ],
   "source": [
    "model.evaluate(val_scaled,val_target)"
   ]
  },
  {
   "cell_type": "code",
   "execution_count": null,
   "id": "8de36f35",
   "metadata": {},
   "outputs": [],
   "source": []
  }
 ],
 "metadata": {
  "kernelspec": {
   "display_name": "Python [conda env:tf_cpu] *",
   "language": "python",
   "name": "conda-env-tf_cpu-py"
  },
  "language_info": {
   "codemirror_mode": {
    "name": "ipython",
    "version": 3
   },
   "file_extension": ".py",
   "mimetype": "text/x-python",
   "name": "python",
   "nbconvert_exporter": "python",
   "pygments_lexer": "ipython3",
   "version": "3.8.16"
  }
 },
 "nbformat": 4,
 "nbformat_minor": 5
}
