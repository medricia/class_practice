{
 "cells": [
  {
   "cell_type": "code",
   "execution_count": 1,
   "id": "b23e6f0b",
   "metadata": {},
   "outputs": [],
   "source": [
    "from tensorflow import keras\n",
    "from sklearn.model_selection import train_test_split\n",
    "\n",
    "(train_input, train_target),(test_input, test_target)=keras.datasets.fashion_mnist.load_data()\n",
    "\n",
    "#4차원으로 바꾸어 주면서 정규화\n",
    "train_scaled = train_input.reshape(-1, 28,28,1) /255.0\n",
    "#최저값이 0이라 따로안해도 됨, reshape : -1 (가변:자동으로)\n",
    "\n",
    "train_scaled,val_scaled, train_target, val_target = train_test_split(train_scaled, train_target, test_size=0.2, random_state=1234)"
   ]
  },
  {
   "cell_type": "code",
   "execution_count": 2,
   "id": "460e4076",
   "metadata": {},
   "outputs": [],
   "source": [
    "model = keras.Sequential()\n",
    "model.add(keras.layers.Conv2D(filters=32, kernel_size = (3,3), padding ='same', input_shape=(28,28,1), activation='relu'))\n",
    "model.add(keras.layers.MaxPooling2D(pool_size=(2,2)))"
   ]
  },
  {
   "cell_type": "code",
   "execution_count": 3,
   "id": "2ae6b879",
   "metadata": {},
   "outputs": [],
   "source": [
    "model.add(keras.layers.Conv2D(filters=64, kernel_size = (3,3), padding ='same',  activation='relu'))\n",
    "model.add(keras.layers.MaxPooling2D(pool_size=(2,2)))"
   ]
  },
  {
   "cell_type": "code",
   "execution_count": 4,
   "id": "5d47f67e",
   "metadata": {},
   "outputs": [],
   "source": [
    "# 완전 연결형(Affine layers)\n",
    "model.add(keras.layers.Flatten())\n",
    "model.add(keras.layers.Dense(units=100, activation='relu'))\n",
    "model.add(keras.layers.Dropout(0.4)) #(0,4) 일때 왜 된거지.. 왜 잘나왔지..\n",
    "model.add(keras.layers.Dense(units=10, activation='softmax'))"
   ]
  },
  {
   "cell_type": "code",
   "execution_count": 5,
   "id": "f9b3574b",
   "metadata": {},
   "outputs": [
    {
     "name": "stdout",
     "output_type": "stream",
     "text": [
      "Model: \"sequential\"\n",
      "_________________________________________________________________\n",
      " Layer (type)                Output Shape              Param #   \n",
      "=================================================================\n",
      " conv2d (Conv2D)             (None, 28, 28, 32)        320       \n",
      "                                                                 \n",
      " max_pooling2d (MaxPooling2D  (None, 14, 14, 32)       0         \n",
      " )                                                               \n",
      "                                                                 \n",
      " conv2d_1 (Conv2D)           (None, 14, 14, 64)        18496     \n",
      "                                                                 \n",
      " max_pooling2d_1 (MaxPooling  (None, 7, 7, 64)         0         \n",
      " 2D)                                                             \n",
      "                                                                 \n",
      " flatten (Flatten)           (None, 3136)              0         \n",
      "                                                                 \n",
      " dense (Dense)               (None, 100)               313700    \n",
      "                                                                 \n",
      " dropout (Dropout)           (None, 100)               0         \n",
      "                                                                 \n",
      " dense_1 (Dense)             (None, 10)                1010      \n",
      "                                                                 \n",
      "=================================================================\n",
      "Total params: 333,526\n",
      "Trainable params: 333,526\n",
      "Non-trainable params: 0\n",
      "_________________________________________________________________\n"
     ]
    }
   ],
   "source": [
    "model.summary()"
   ]
  },
  {
   "cell_type": "code",
   "execution_count": 6,
   "id": "6f389d21",
   "metadata": {},
   "outputs": [],
   "source": [
    "model.compile(optimizer='adam', loss='sparse_categorical_crossentropy', metrics='accuracy')"
   ]
  },
  {
   "cell_type": "code",
   "execution_count": 7,
   "id": "8abac38f",
   "metadata": {},
   "outputs": [
    {
     "name": "stdout",
     "output_type": "stream",
     "text": [
      "Epoch 1/50\n",
      "480/480 [==============================] - 12s 25ms/step - loss: 0.6132 - accuracy: 0.7794 - val_loss: 0.3786 - val_accuracy: 0.8649\n",
      "Epoch 2/50\n",
      "480/480 [==============================] - 11s 23ms/step - loss: 0.3917 - accuracy: 0.8605 - val_loss: 0.3144 - val_accuracy: 0.8856\n",
      "Epoch 3/50\n",
      "480/480 [==============================] - 11s 23ms/step - loss: 0.3380 - accuracy: 0.8798 - val_loss: 0.2868 - val_accuracy: 0.8938\n",
      "Epoch 4/50\n",
      "480/480 [==============================] - 11s 23ms/step - loss: 0.3028 - accuracy: 0.8931 - val_loss: 0.2622 - val_accuracy: 0.9024\n",
      "Epoch 5/50\n",
      "480/480 [==============================] - 11s 23ms/step - loss: 0.2781 - accuracy: 0.9015 - val_loss: 0.2629 - val_accuracy: 0.9003\n",
      "Epoch 6/50\n",
      "480/480 [==============================] - 11s 24ms/step - loss: 0.2592 - accuracy: 0.9072 - val_loss: 0.2427 - val_accuracy: 0.9111\n",
      "Epoch 7/50\n",
      "480/480 [==============================] - 11s 24ms/step - loss: 0.2400 - accuracy: 0.9128 - val_loss: 0.2351 - val_accuracy: 0.9152\n",
      "Epoch 8/50\n",
      "480/480 [==============================] - 11s 23ms/step - loss: 0.2261 - accuracy: 0.9175 - val_loss: 0.2288 - val_accuracy: 0.9148\n",
      "Epoch 9/50\n",
      "480/480 [==============================] - 11s 24ms/step - loss: 0.2132 - accuracy: 0.9232 - val_loss: 0.2213 - val_accuracy: 0.9179\n",
      "Epoch 10/50\n",
      "480/480 [==============================] - 11s 23ms/step - loss: 0.2020 - accuracy: 0.9267 - val_loss: 0.2182 - val_accuracy: 0.9189\n",
      "Epoch 11/50\n",
      "480/480 [==============================] - 11s 23ms/step - loss: 0.1865 - accuracy: 0.9316 - val_loss: 0.2303 - val_accuracy: 0.9169\n",
      "Epoch 12/50\n",
      "480/480 [==============================] - 11s 23ms/step - loss: 0.1769 - accuracy: 0.9346 - val_loss: 0.2208 - val_accuracy: 0.9211\n",
      "Epoch 13/50\n",
      "480/480 [==============================] - 11s 23ms/step - loss: 0.1688 - accuracy: 0.9373 - val_loss: 0.2206 - val_accuracy: 0.9215\n",
      "Epoch 14/50\n",
      "480/480 [==============================] - 11s 23ms/step - loss: 0.1594 - accuracy: 0.9412 - val_loss: 0.2227 - val_accuracy: 0.9224\n",
      "Epoch 15/50\n",
      "480/480 [==============================] - 11s 23ms/step - loss: 0.1509 - accuracy: 0.9435 - val_loss: 0.2226 - val_accuracy: 0.9233\n",
      "Epoch 16/50\n",
      "480/480 [==============================] - 12s 24ms/step - loss: 0.1456 - accuracy: 0.9457 - val_loss: 0.2189 - val_accuracy: 0.9231\n",
      "Epoch 17/50\n",
      "480/480 [==============================] - 11s 23ms/step - loss: 0.1315 - accuracy: 0.9499 - val_loss: 0.2406 - val_accuracy: 0.9227\n",
      "Epoch 18/50\n",
      "480/480 [==============================] - 11s 24ms/step - loss: 0.1280 - accuracy: 0.9515 - val_loss: 0.2327 - val_accuracy: 0.9246\n",
      "Epoch 19/50\n",
      "480/480 [==============================] - 12s 25ms/step - loss: 0.1193 - accuracy: 0.9544 - val_loss: 0.2301 - val_accuracy: 0.9237\n",
      "Epoch 20/50\n",
      "480/480 [==============================] - 12s 24ms/step - loss: 0.1161 - accuracy: 0.9554 - val_loss: 0.2476 - val_accuracy: 0.9251\n",
      "Epoch 21/50\n",
      "480/480 [==============================] - 11s 23ms/step - loss: 0.1096 - accuracy: 0.9580 - val_loss: 0.2470 - val_accuracy: 0.9243\n",
      "Epoch 22/50\n",
      "480/480 [==============================] - 12s 24ms/step - loss: 0.1014 - accuracy: 0.9609 - val_loss: 0.2359 - val_accuracy: 0.9236\n",
      "Epoch 23/50\n",
      "480/480 [==============================] - 11s 23ms/step - loss: 0.1001 - accuracy: 0.9614 - val_loss: 0.2617 - val_accuracy: 0.9268\n",
      "Epoch 24/50\n",
      "480/480 [==============================] - 12s 24ms/step - loss: 0.0935 - accuracy: 0.9637 - val_loss: 0.2728 - val_accuracy: 0.9273\n",
      "Epoch 25/50\n",
      "480/480 [==============================] - 12s 24ms/step - loss: 0.0895 - accuracy: 0.9653 - val_loss: 0.2585 - val_accuracy: 0.9261\n",
      "Epoch 26/50\n",
      "480/480 [==============================] - 11s 24ms/step - loss: 0.0853 - accuracy: 0.9661 - val_loss: 0.2923 - val_accuracy: 0.9220\n",
      "Epoch 27/50\n",
      "480/480 [==============================] - 11s 24ms/step - loss: 0.0811 - accuracy: 0.9681 - val_loss: 0.2864 - val_accuracy: 0.9267\n",
      "Epoch 28/50\n",
      "480/480 [==============================] - 11s 24ms/step - loss: 0.0799 - accuracy: 0.9690 - val_loss: 0.2995 - val_accuracy: 0.9246\n",
      "Epoch 29/50\n",
      "480/480 [==============================] - 11s 23ms/step - loss: 0.0749 - accuracy: 0.9705 - val_loss: 0.2970 - val_accuracy: 0.9239\n",
      "Epoch 30/50\n",
      "480/480 [==============================] - 11s 24ms/step - loss: 0.0718 - accuracy: 0.9718 - val_loss: 0.2890 - val_accuracy: 0.9240\n",
      "Epoch 31/50\n",
      "480/480 [==============================] - 11s 23ms/step - loss: 0.0696 - accuracy: 0.9718 - val_loss: 0.3241 - val_accuracy: 0.9237\n",
      "Epoch 32/50\n",
      "480/480 [==============================] - 11s 23ms/step - loss: 0.0724 - accuracy: 0.9711 - val_loss: 0.2961 - val_accuracy: 0.9272\n",
      "Epoch 33/50\n",
      "480/480 [==============================] - 11s 24ms/step - loss: 0.0680 - accuracy: 0.9734 - val_loss: 0.3320 - val_accuracy: 0.9251\n",
      "Epoch 34/50\n",
      "480/480 [==============================] - 12s 24ms/step - loss: 0.0646 - accuracy: 0.9739 - val_loss: 0.3276 - val_accuracy: 0.9254\n",
      "Epoch 35/50\n",
      "480/480 [==============================] - 11s 23ms/step - loss: 0.0611 - accuracy: 0.9760 - val_loss: 0.3462 - val_accuracy: 0.9228\n",
      "Epoch 36/50\n",
      "480/480 [==============================] - 11s 23ms/step - loss: 0.0608 - accuracy: 0.9762 - val_loss: 0.3254 - val_accuracy: 0.9254\n",
      "Epoch 37/50\n",
      "480/480 [==============================] - 12s 24ms/step - loss: 0.0585 - accuracy: 0.9761 - val_loss: 0.3241 - val_accuracy: 0.9257\n",
      "Epoch 38/50\n",
      "480/480 [==============================] - 12s 24ms/step - loss: 0.0592 - accuracy: 0.9766 - val_loss: 0.3445 - val_accuracy: 0.9230\n",
      "Epoch 39/50\n",
      "480/480 [==============================] - 11s 24ms/step - loss: 0.0569 - accuracy: 0.9772 - val_loss: 0.3546 - val_accuracy: 0.9242\n",
      "Epoch 40/50\n",
      "480/480 [==============================] - 11s 23ms/step - loss: 0.0576 - accuracy: 0.9769 - val_loss: 0.3428 - val_accuracy: 0.9248\n",
      "Epoch 41/50\n",
      "480/480 [==============================] - 11s 23ms/step - loss: 0.0538 - accuracy: 0.9787 - val_loss: 0.3697 - val_accuracy: 0.9219\n",
      "Epoch 42/50\n",
      "480/480 [==============================] - 11s 24ms/step - loss: 0.0542 - accuracy: 0.9790 - val_loss: 0.3909 - val_accuracy: 0.9253\n",
      "Epoch 43/50\n",
      "480/480 [==============================] - 11s 23ms/step - loss: 0.0519 - accuracy: 0.9784 - val_loss: 0.3734 - val_accuracy: 0.9246\n",
      "Epoch 44/50\n",
      "480/480 [==============================] - 12s 24ms/step - loss: 0.0534 - accuracy: 0.9783 - val_loss: 0.4014 - val_accuracy: 0.9260\n",
      "Epoch 45/50\n",
      "480/480 [==============================] - 11s 23ms/step - loss: 0.0506 - accuracy: 0.9808 - val_loss: 0.3705 - val_accuracy: 0.9254\n",
      "Epoch 46/50\n",
      "480/480 [==============================] - 11s 23ms/step - loss: 0.0486 - accuracy: 0.9797 - val_loss: 0.3818 - val_accuracy: 0.9243\n",
      "Epoch 47/50\n",
      "480/480 [==============================] - 11s 24ms/step - loss: 0.0496 - accuracy: 0.9810 - val_loss: 0.3829 - val_accuracy: 0.9258\n",
      "Epoch 48/50\n",
      "480/480 [==============================] - 12s 24ms/step - loss: 0.0472 - accuracy: 0.9811 - val_loss: 0.3908 - val_accuracy: 0.9258\n",
      "Epoch 49/50\n",
      "480/480 [==============================] - 12s 25ms/step - loss: 0.0478 - accuracy: 0.9812 - val_loss: 0.3721 - val_accuracy: 0.9266\n",
      "Epoch 50/50\n",
      "480/480 [==============================] - 12s 25ms/step - loss: 0.0444 - accuracy: 0.9822 - val_loss: 0.4198 - val_accuracy: 0.9246\n"
     ]
    }
   ],
   "source": [
    "history = model.fit(train_scaled, train_target, epochs = 50, batch_size = 100, validation_data = (val_scaled, val_target))"
   ]
  },
  {
   "cell_type": "code",
   "execution_count": 8,
   "id": "ce4b9249",
   "metadata": {},
   "outputs": [
    {
     "data": {
      "image/png": "[encoded data removed]",
      "text/plain": [
       "<Figure size 640x480 with 1 Axes>"
      ]
     },
     "metadata": {},
     "output_type": "display_data"
    }
   ],
   "source": [
    "import matplotlib.pyplot as plt\n",
    "\n",
    "plt.plot(history.history['loss'])\n",
    "plt.plot(history.history['val_loss'])\n",
    "plt.xlabel('epoch')\n",
    "plt.ylabel('loss')\n",
    "plt.legend(['train','val'])\n",
    "plt.show()"
   ]
  },
  {
   "cell_type": "code",
   "execution_count": 9,
   "id": "ed40888f",
   "metadata": {},
   "outputs": [
    {
     "name": "stdout",
     "output_type": "stream",
     "text": [
      "313/313 [==============================] - 6s 20ms/step - loss: 0.4667 - accuracy: 0.9205\n"
     ]
    },
    {
     "data": {
      "text/plain": [
       "[0.4666568338871002, 0.9204999804496765]"
      ]
     },
     "execution_count": 9,
     "metadata": {},
     "output_type": "execute_result"
    }
   ],
   "source": [
    "test_scaled = test_input.reshape(-1,28,28,1) / 255.0\n",
    "model.evaluate(test_scaled, test_target)"
   ]
  },
  {
   "cell_type": "code",
   "execution_count": null,
   "id": "ad64b794",
   "metadata": {},
   "outputs": [],
   "source": []
  }
 ],
 "metadata": {
  "kernelspec": {
   "display_name": "Python [conda env:tf_cpu] *",
   "language": "python",
   "name": "conda-env-tf_cpu-py"
  },
  "language_info": {
   "codemirror_mode": {
    "name": "ipython",
    "version": 3
   },
   "file_extension": ".py",
   "mimetype": "text/x-python",
   "name": "python",
   "nbconvert_exporter": "python",
   "pygments_lexer": "ipython3",
   "version": "3.8.16"
  }
 },
 "nbformat": 4,
 "nbformat_minor": 5
}
