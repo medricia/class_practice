{
 "cells": [
  {
   "cell_type": "code",
   "execution_count": 1,
   "id": "899c1ee2",
   "metadata": {},
   "outputs": [],
   "source": [
    "from tensorflow import keras\n",
    "from sklearn.model_selection import train_test_split\n",
    "\n",
    "(train_input, train_target),(test_input, test_target)=keras.datasets.fashion_mnist.load_data()\n",
    "\n",
    "#4차원으로 바꾸어 주면서 정규화\n",
    "train_scaled = train_input.reshape(-1, 28,28,1) /255.0\n",
    "#최저값이 0이라 따로안해도 됨, reshape : -1 (가변:자동으로)\n",
    "\n",
    "train_scaled,val_scaled, train_target, val_target = train_test_split(train_scaled, train_target, test_size=0.2, random_state=1234)"
   ]
  },
  {
   "cell_type": "code",
   "execution_count": 2,
   "id": "5ca66ad4",
   "metadata": {},
   "outputs": [],
   "source": [
    "model = keras.Sequential()\n",
    "model.add(keras.layers.Conv2D(filters=32, kernel_size = (3,3), padding ='same', input_shape=(28,28,1), activation='relu'))\n",
    "model.add(keras.layers.MaxPooling2D(pool_size=(2,2)))"
   ]
  },
  {
   "cell_type": "code",
   "execution_count": 3,
   "id": "26b42dd6",
   "metadata": {},
   "outputs": [],
   "source": [
    "model.add(keras.layers.Conv2D(filters=64, kernel_size = (3,3), padding ='same',  activation='relu'))\n",
    "model.add(keras.layers.MaxPooling2D(pool_size=(2,2)))"
   ]
  },
  {
   "cell_type": "code",
   "execution_count": 4,
   "id": "feb02c2b",
   "metadata": {},
   "outputs": [],
   "source": [
    "# 완전 연결형(Affine layers)\n",
    "model.add(keras.layers.Flatten())\n",
    "model.add(keras.layers.Dense(units=100, activation='relu'))\n",
    "model.add(keras.layers.Dropout(0.4)) #(0,4) 일때 왜 된거지.. 왜 잘나왔지..\n",
    "model.add(keras.layers.Dense(units=10, activation='softmax'))"
   ]
  },
  {
   "cell_type": "code",
   "execution_count": 5,
   "id": "d527213f",
   "metadata": {},
   "outputs": [
    {
     "name": "stdout",
     "output_type": "stream",
     "text": [
      "Model: \"sequential\"\n",
      "_________________________________________________________________\n",
      " Layer (type)                Output Shape              Param #   \n",
      "=================================================================\n",
      " conv2d (Conv2D)             (None, 28, 28, 32)        320       \n",
      "                                                                 \n",
      " max_pooling2d (MaxPooling2D  (None, 14, 14, 32)       0         \n",
      " )                                                               \n",
      "                                                                 \n",
      " conv2d_1 (Conv2D)           (None, 14, 14, 64)        18496     \n",
      "                                                                 \n",
      " max_pooling2d_1 (MaxPooling  (None, 7, 7, 64)         0         \n",
      " 2D)                                                             \n",
      "                                                                 \n",
      " flatten (Flatten)           (None, 3136)              0         \n",
      "                                                                 \n",
      " dense (Dense)               (None, 100)               313700    \n",
      "                                                                 \n",
      " dropout (Dropout)           (None, 100)               0         \n",
      "                                                                 \n",
      " dense_1 (Dense)             (None, 10)                1010      \n",
      "                                                                 \n",
      "=================================================================\n",
      "Total params: 333,526\n",
      "Trainable params: 333,526\n",
      "Non-trainable params: 0\n",
      "_________________________________________________________________\n"
     ]
    }
   ],
   "source": [
    "model.summary()"
   ]
  },
  {
   "cell_type": "code",
   "execution_count": 6,
   "id": "d9ecb7bf",
   "metadata": {},
   "outputs": [],
   "source": [
    "model.compile(optimizer='adam', loss='sparse_categorical_crossentropy', metrics='accuracy')"
   ]
  },
  {
   "cell_type": "code",
   "execution_count": null,
   "id": "8294dc7c",
   "metadata": {},
   "outputs": [
    {
     "name": "stdout",
     "output_type": "stream",
     "text": [
      "Epoch 1/50\n",
      "480/480 [==============================] - 12s 25ms/step - loss: 0.6132 - accuracy: 0.7794 - val_loss: 0.3786 - val_accuracy: 0.8649\n",
      "Epoch 2/50\n",
      "480/480 [==============================] - 11s 23ms/step - loss: 0.3917 - accuracy: 0.8605 - val_loss: 0.3144 - val_accuracy: 0.8856\n",
      "Epoch 3/50\n",
      "480/480 [==============================] - 11s 23ms/step - loss: 0.3380 - accuracy: 0.8798 - val_loss: 0.2868 - val_accuracy: 0.8938\n",
      "Epoch 4/50\n",
      "480/480 [==============================] - 11s 23ms/step - loss: 0.3028 - accuracy: 0.8931 - val_loss: 0.2622 - val_accuracy: 0.9024\n",
      "Epoch 5/50\n",
      "480/480 [==============================] - 11s 23ms/step - loss: 0.2781 - accuracy: 0.9015 - val_loss: 0.2629 - val_accuracy: 0.9003\n",
      "Epoch 6/50\n",
      "480/480 [==============================] - 11s 24ms/step - loss: 0.2592 - accuracy: 0.9072 - val_loss: 0.2427 - val_accuracy: 0.9111\n",
      "Epoch 7/50\n",
      "480/480 [==============================] - 11s 24ms/step - loss: 0.2400 - accuracy: 0.9128 - val_loss: 0.2351 - val_accuracy: 0.9152\n",
      "Epoch 8/50\n",
      "141/480 [=======>......................] - ETA: 7s - loss: 0.2235 - accuracy: 0.9185"
     ]
    }
   ],
   "source": [
    "history = model.fit(train_scaled, train_target, epochs = 50, batch_size = 100, validation_data = (val_scaled, val_target))"
   ]
  },
  {
   "cell_type": "code",
   "execution_count": null,
   "id": "955a8e65",
   "metadata": {},
   "outputs": [],
   "source": [
    "import matplotlib.pyplot as plt\n",
    "\n",
    "plt.plot(history.history['loss'])\n",
    "plt.plot(history.history['val_loss'])\n",
    "plt.xlabel('epoch')\n",
    "plt.ylabel('loss')\n",
    "plt.legend(['train','val'])\n",
    "plt.show()"
   ]
  },
  {
   "cell_type": "code",
   "execution_count": null,
   "id": "da379dec",
   "metadata": {},
   "outputs": [],
   "source": [
    "test_scaled = test_input.reshape(-1,28,28,1) / 255.0\n",
    "model.evaluate(test_scaled, test_target)"
   ]
  },
  {
   "cell_type": "code",
   "execution_count": null,
   "id": "9b1a40f8",
   "metadata": {},
   "outputs": [],
   "source": []
  }
 ],
 "metadata": {
  "kernelspec": {
   "display_name": "Python [conda env:tf_cpu] *",
   "language": "python",
   "name": "conda-env-tf_cpu-py"
  },
  "language_info": {
   "codemirror_mode": {
    "name": "ipython",
    "version": 3
   },
   "file_extension": ".py",
   "mimetype": "text/x-python",
   "name": "python",
   "nbconvert_exporter": "python",
   "pygments_lexer": "ipython3",
   "version": "3.8.16"
  }
 },
 "nbformat": 4,
 "nbformat_minor": 5
}
