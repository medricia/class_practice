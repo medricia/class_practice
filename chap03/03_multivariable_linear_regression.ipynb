{
 "cells": [
  {
   "cell_type": "code",
   "execution_count": 1,
   "id": "e3a5a1e1",
   "metadata": {},
   "outputs": [],
   "source": [
    "import tensorflow as tf\n",
    "import numpy as np"
   ]
  },
  {
   "cell_type": "code",
   "execution_count": 2,
   "id": "911a4b0e",
   "metadata": {},
   "outputs": [],
   "source": [
    "x_data = [ [73,80,75], [83,88,93], [89,91,90], [96,98,100], [73,66,70] ]\n",
    "y_data = [ [152], [185], [180], [196], [142] ]"
   ]
  },
  {
   "cell_type": "code",
   "execution_count": 3,
   "id": "0ff5b393",
   "metadata": {},
   "outputs": [],
   "source": [
    "tf.model = tf.keras.Sequential()\n",
    "\n",
    "tf.model.add(tf.keras.layers.Dense(input_dim=3 ,units=1))\n",
    "tf.model.add(tf.keras.layers.Activation('linear'))"
   ]
  },
  {
   "cell_type": "code",
   "execution_count": 4,
   "id": "450e635d",
   "metadata": {},
   "outputs": [
    {
     "name": "stdout",
     "output_type": "stream",
     "text": [
      "Model: \"sequential\"\n",
      "_________________________________________________________________\n",
      " Layer (type)                Output Shape              Param #   \n",
      "=================================================================\n",
      " dense (Dense)               (None, 1)                 4         \n",
      "                                                                 \n",
      " activation (Activation)     (None, 1)                 0         \n",
      "                                                                 \n",
      "=================================================================\n",
      "Total params: 4\n",
      "Trainable params: 4\n",
      "Non-trainable params: 0\n",
      "_________________________________________________________________\n"
     ]
    }
   ],
   "source": [
    "tf.model.compile(loss='mse', optimizer=tf.keras.optimizers.SGD(learning_rate=1e-5))\n",
    "tf.model.summary()"
   ]
  },
  {
   "cell_type": "code",
   "execution_count": 5,
   "id": "c72304e0",
   "metadata": {},
   "outputs": [
    {
     "name": "stdout",
     "output_type": "stream",
     "text": [
      "Epoch 1/100\n",
      "1/1 [==============================] - 0s 297ms/step - loss: 15034.1465\n",
      "Epoch 2/100\n",
      "1/1 [==============================] - 0s 5ms/step - loss: 4848.5098\n",
      "Epoch 3/100\n",
      "1/1 [==============================] - 0s 3ms/step - loss: 1574.4755\n",
      "Epoch 4/100\n",
      "1/1 [==============================] - 0s 4ms/step - loss: 522.0792\n",
      "Epoch 5/100\n",
      "1/1 [==============================] - 0s 4ms/step - loss: 183.7977\n",
      "Epoch 6/100\n",
      "1/1 [==============================] - 0s 4ms/step - loss: 75.0585\n",
      "Epoch 7/100\n",
      "1/1 [==============================] - 0s 3ms/step - loss: 40.1017\n",
      "Epoch 8/100\n",
      "1/1 [==============================] - 0s 3ms/step - loss: 28.8619\n",
      "Epoch 9/100\n",
      "1/1 [==============================] - 0s 3ms/step - loss: 25.2454\n",
      "Epoch 10/100\n",
      "1/1 [==============================] - 0s 3ms/step - loss: 24.0792\n",
      "Epoch 11/100\n",
      "1/1 [==============================] - 0s 4ms/step - loss: 23.7007\n",
      "Epoch 12/100\n",
      "1/1 [==============================] - 0s 4ms/step - loss: 23.5755\n",
      "Epoch 13/100\n",
      "1/1 [==============================] - 0s 3ms/step - loss: 23.5315\n",
      "Epoch 14/100\n",
      "1/1 [==============================] - 0s 3ms/step - loss: 23.5137\n",
      "Epoch 15/100\n",
      "1/1 [==============================] - 0s 4ms/step - loss: 23.5044\n",
      "Epoch 16/100\n",
      "1/1 [==============================] - 0s 3ms/step - loss: 23.4978\n",
      "Epoch 17/100\n",
      "1/1 [==============================] - 0s 4ms/step - loss: 23.4920\n",
      "Epoch 18/100\n",
      "1/1 [==============================] - 0s 4ms/step - loss: 23.4865\n",
      "Epoch 19/100\n",
      "1/1 [==============================] - 0s 3ms/step - loss: 23.4812\n",
      "Epoch 20/100\n",
      "1/1 [==============================] - 0s 3ms/step - loss: 23.4757\n",
      "Epoch 21/100\n",
      "1/1 [==============================] - 0s 4ms/step - loss: 23.4704\n",
      "Epoch 22/100\n",
      "1/1 [==============================] - 0s 4ms/step - loss: 23.4650\n",
      "Epoch 23/100\n",
      "1/1 [==============================] - 0s 4ms/step - loss: 23.4597\n",
      "Epoch 24/100\n",
      "1/1 [==============================] - 0s 4ms/step - loss: 23.4543\n",
      "Epoch 25/100\n",
      "1/1 [==============================] - 0s 4ms/step - loss: 23.4490\n",
      "Epoch 26/100\n",
      "1/1 [==============================] - 0s 4ms/step - loss: 23.4437\n",
      "Epoch 27/100\n",
      "1/1 [==============================] - 0s 3ms/step - loss: 23.4383\n",
      "Epoch 28/100\n",
      "1/1 [==============================] - 0s 4ms/step - loss: 23.4329\n",
      "Epoch 29/100\n",
      "1/1 [==============================] - 0s 3ms/step - loss: 23.4276\n",
      "Epoch 30/100\n",
      "1/1 [==============================] - 0s 3ms/step - loss: 23.4223\n",
      "Epoch 31/100\n",
      "1/1 [==============================] - 0s 3ms/step - loss: 23.4169\n",
      "Epoch 32/100\n",
      "1/1 [==============================] - 0s 3ms/step - loss: 23.4116\n",
      "Epoch 33/100\n",
      "1/1 [==============================] - 0s 4ms/step - loss: 23.4062\n",
      "Epoch 34/100\n",
      "1/1 [==============================] - 0s 3ms/step - loss: 23.4009\n",
      "Epoch 35/100\n",
      "1/1 [==============================] - 0s 3ms/step - loss: 23.3957\n",
      "Epoch 36/100\n",
      "1/1 [==============================] - 0s 4ms/step - loss: 23.3903\n",
      "Epoch 37/100\n",
      "1/1 [==============================] - 0s 4ms/step - loss: 23.3849\n",
      "Epoch 38/100\n",
      "1/1 [==============================] - 0s 3ms/step - loss: 23.3796\n",
      "Epoch 39/100\n",
      "1/1 [==============================] - 0s 3ms/step - loss: 23.3743\n",
      "Epoch 40/100\n",
      "1/1 [==============================] - 0s 4ms/step - loss: 23.3690\n",
      "Epoch 41/100\n",
      "1/1 [==============================] - 0s 3ms/step - loss: 23.3636\n",
      "Epoch 42/100\n",
      "1/1 [==============================] - 0s 4ms/step - loss: 23.3584\n",
      "Epoch 43/100\n",
      "1/1 [==============================] - 0s 4ms/step - loss: 23.3530\n",
      "Epoch 44/100\n",
      "1/1 [==============================] - 0s 3ms/step - loss: 23.3477\n",
      "Epoch 45/100\n",
      "1/1 [==============================] - 0s 3ms/step - loss: 23.3424\n",
      "Epoch 46/100\n",
      "1/1 [==============================] - 0s 4ms/step - loss: 23.3370\n",
      "Epoch 47/100\n",
      "1/1 [==============================] - 0s 4ms/step - loss: 23.3318\n",
      "Epoch 48/100\n",
      "1/1 [==============================] - 0s 3ms/step - loss: 23.3264\n",
      "Epoch 49/100\n",
      "1/1 [==============================] - 0s 4ms/step - loss: 23.3211\n",
      "Epoch 50/100\n",
      "1/1 [==============================] - 0s 3ms/step - loss: 23.3158\n",
      "Epoch 51/100\n",
      "1/1 [==============================] - 0s 4ms/step - loss: 23.3105\n",
      "Epoch 52/100\n",
      "1/1 [==============================] - 0s 4ms/step - loss: 23.3052\n",
      "Epoch 53/100\n",
      "1/1 [==============================] - 0s 4ms/step - loss: 23.3000\n",
      "Epoch 54/100\n",
      "1/1 [==============================] - 0s 4ms/step - loss: 23.2946\n",
      "Epoch 55/100\n",
      "1/1 [==============================] - 0s 3ms/step - loss: 23.2893\n",
      "Epoch 56/100\n",
      "1/1 [==============================] - 0s 4ms/step - loss: 23.2840\n",
      "Epoch 57/100\n",
      "1/1 [==============================] - 0s 3ms/step - loss: 23.2787\n",
      "Epoch 58/100\n",
      "1/1 [==============================] - 0s 4ms/step - loss: 23.2735\n",
      "Epoch 59/100\n",
      "1/1 [==============================] - 0s 4ms/step - loss: 23.2681\n",
      "Epoch 60/100\n",
      "1/1 [==============================] - 0s 3ms/step - loss: 23.2628\n",
      "Epoch 61/100\n",
      "1/1 [==============================] - 0s 3ms/step - loss: 23.2576\n",
      "Epoch 62/100\n",
      "1/1 [==============================] - 0s 4ms/step - loss: 23.2522\n",
      "Epoch 63/100\n",
      "1/1 [==============================] - 0s 4ms/step - loss: 23.2469\n",
      "Epoch 64/100\n",
      "1/1 [==============================] - 0s 4ms/step - loss: 23.2416\n",
      "Epoch 65/100\n",
      "1/1 [==============================] - 0s 4ms/step - loss: 23.2364\n",
      "Epoch 66/100\n",
      "1/1 [==============================] - 0s 4ms/step - loss: 23.2311\n",
      "Epoch 67/100\n",
      "1/1 [==============================] - 0s 4ms/step - loss: 23.2258\n",
      "Epoch 68/100\n",
      "1/1 [==============================] - 0s 4ms/step - loss: 23.2206\n",
      "Epoch 69/100\n",
      "1/1 [==============================] - 0s 3ms/step - loss: 23.2152\n",
      "Epoch 70/100\n",
      "1/1 [==============================] - 0s 4ms/step - loss: 23.2099\n",
      "Epoch 71/100\n",
      "1/1 [==============================] - 0s 4ms/step - loss: 23.2047\n",
      "Epoch 72/100\n",
      "1/1 [==============================] - 0s 4ms/step - loss: 23.1995\n",
      "Epoch 73/100\n",
      "1/1 [==============================] - 0s 4ms/step - loss: 23.1942\n",
      "Epoch 74/100\n",
      "1/1 [==============================] - 0s 4ms/step - loss: 23.1889\n",
      "Epoch 75/100\n",
      "1/1 [==============================] - 0s 3ms/step - loss: 23.1836\n",
      "Epoch 76/100\n",
      "1/1 [==============================] - 0s 3ms/step - loss: 23.1783\n",
      "Epoch 77/100\n",
      "1/1 [==============================] - 0s 4ms/step - loss: 23.1731\n",
      "Epoch 78/100\n",
      "1/1 [==============================] - 0s 3ms/step - loss: 23.1678\n",
      "Epoch 79/100\n",
      "1/1 [==============================] - 0s 3ms/step - loss: 23.1625\n",
      "Epoch 80/100\n",
      "1/1 [==============================] - 0s 3ms/step - loss: 23.1573\n",
      "Epoch 81/100\n",
      "1/1 [==============================] - 0s 4ms/step - loss: 23.1520\n",
      "Epoch 82/100\n",
      "1/1 [==============================] - 0s 4ms/step - loss: 23.1468\n",
      "Epoch 83/100\n",
      "1/1 [==============================] - 0s 4ms/step - loss: 23.1415\n",
      "Epoch 84/100\n",
      "1/1 [==============================] - 0s 3ms/step - loss: 23.1362\n",
      "Epoch 85/100\n",
      "1/1 [==============================] - 0s 3ms/step - loss: 23.1310\n",
      "Epoch 86/100\n",
      "1/1 [==============================] - 0s 3ms/step - loss: 23.1258\n",
      "Epoch 87/100\n",
      "1/1 [==============================] - 0s 4ms/step - loss: 23.1205\n",
      "Epoch 88/100\n",
      "1/1 [==============================] - 0s 4ms/step - loss: 23.1152\n",
      "Epoch 89/100\n",
      "1/1 [==============================] - 0s 4ms/step - loss: 23.1100\n",
      "Epoch 90/100\n",
      "1/1 [==============================] - 0s 4ms/step - loss: 23.1047\n",
      "Epoch 91/100\n",
      "1/1 [==============================] - 0s 4ms/step - loss: 23.0994\n",
      "Epoch 92/100\n",
      "1/1 [==============================] - 0s 4ms/step - loss: 23.0943\n",
      "Epoch 93/100\n",
      "1/1 [==============================] - 0s 3ms/step - loss: 23.0890\n",
      "Epoch 94/100\n",
      "1/1 [==============================] - 0s 4ms/step - loss: 23.0837\n",
      "Epoch 95/100\n",
      "1/1 [==============================] - 0s 4ms/step - loss: 23.0785\n",
      "Epoch 96/100\n",
      "1/1 [==============================] - 0s 3ms/step - loss: 23.0733\n",
      "Epoch 97/100\n",
      "1/1 [==============================] - 0s 4ms/step - loss: 23.0680\n",
      "Epoch 98/100\n",
      "1/1 [==============================] - 0s 4ms/step - loss: 23.0628\n",
      "Epoch 99/100\n",
      "1/1 [==============================] - 0s 3ms/step - loss: 23.0575\n",
      "Epoch 100/100\n",
      "1/1 [==============================] - 0s 3ms/step - loss: 23.0523\n"
     ]
    }
   ],
   "source": [
    "loss = tf.model.fit(x_data, y_data, epochs=100)"
   ]
  },
  {
   "cell_type": "code",
   "execution_count": 6,
   "id": "0f2ccb63",
   "metadata": {},
   "outputs": [
    {
     "data": {
      "image/png": "[encoded data removed]",
      "text/plain": [
       "<Figure size 640x480 with 1 Axes>"
      ]
     },
     "metadata": {},
     "output_type": "display_data"
    }
   ],
   "source": [
    "# loss값의 시각화\n",
    "import matplotlib.pyplot as plt\n",
    "plt.plot(loss.history['loss'])\n",
    "plt.title('Model Loss')\n",
    "plt.xlabel('Epoch')\n",
    "plt.ylabel('Lose')\n",
    "plt.legend(['Train','Test'], loc='upper left')\n",
    "plt.show()"
   ]
  },
  {
   "cell_type": "code",
   "execution_count": 7,
   "id": "ea50f85a",
   "metadata": {},
   "outputs": [
    {
     "name": "stdout",
     "output_type": "stream",
     "text": [
      "1/1 [==============================] - 0s 64ms/step\n"
     ]
    },
    {
     "data": {
      "text/plain": [
       "array([[180.44289]], dtype=float32)"
      ]
     },
     "execution_count": 7,
     "metadata": {},
     "output_type": "execute_result"
    }
   ],
   "source": [
    "y_predict = tf.model.predict(np.array([[72,93,90]]))\n",
    "y_predict"
   ]
  },
  {
   "cell_type": "code",
   "execution_count": null,
   "id": "c6853b67",
   "metadata": {},
   "outputs": [],
   "source": []
  }
 ],
 "metadata": {
  "kernelspec": {
   "display_name": "Python [conda env:tf_cpu] *",
   "language": "python",
   "name": "conda-env-tf_cpu-py"
  },
  "language_info": {
   "codemirror_mode": {
    "name": "ipython",
    "version": 3
   },
   "file_extension": ".py",
   "mimetype": "text/x-python",
   "name": "python",
   "nbconvert_exporter": "python",
   "pygments_lexer": "ipython3",
   "version": "3.8.16"
  }
 },
 "nbformat": 4,
 "nbformat_minor": 5
}
