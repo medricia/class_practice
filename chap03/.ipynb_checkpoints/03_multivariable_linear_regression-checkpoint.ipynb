{
 "cells": [
  {
   "cell_type": "code",
   "execution_count": 1,
   "id": "73d23165",
   "metadata": {},
   "outputs": [],
   "source": [
    "import tensorflow as tf\n",
    "import numpy as np"
   ]
  },
  {
   "cell_type": "code",
   "execution_count": 2,
   "id": "4235e143",
   "metadata": {},
   "outputs": [],
   "source": [
    "x_data = [ [73,80,75], [83,88,93], [89,91,90], [96,98,100], [73,66,70] ]\n",
    "y_data = [ [152], [185], [180], [196], [142] ]"
   ]
  },
  {
   "cell_type": "code",
   "execution_count": 3,
   "id": "135fceae",
   "metadata": {},
   "outputs": [],
   "source": [
    "tf.model = tf.keras.Sequential()\n",
    "\n",
    "tf.model.add(tf.keras.layers.Dense(input_dim=3 ,units=1))\n",
    "tf.model.add(tf.keras.layers.Activation('linear'))"
   ]
  },
  {
   "cell_type": "code",
   "execution_count": 4,
   "id": "c6885af0",
   "metadata": {},
   "outputs": [
    {
     "name": "stdout",
     "output_type": "stream",
     "text": [
      "Model: \"sequential\"\n",
      "_________________________________________________________________\n",
      " Layer (type)                Output Shape              Param #   \n",
      "=================================================================\n",
      " dense (Dense)               (None, 1)                 4         \n",
      "                                                                 \n",
      " activation (Activation)     (None, 1)                 0         \n",
      "                                                                 \n",
      "=================================================================\n",
      "Total params: 4\n",
      "Trainable params: 4\n",
      "Non-trainable params: 0\n",
      "_________________________________________________________________\n"
     ]
    }
   ],
   "source": [
    "tf.model.compile(loss='mse', optimizer=tf.keras.optimizers.SGD(learning_rate=1e-5))\n",
    "tf.model.summary()"
   ]
  },
  {
   "cell_type": "code",
   "execution_count": 5,
   "id": "e8df325b",
   "metadata": {},
   "outputs": [
    {
     "name": "stdout",
     "output_type": "stream",
     "text": [
      "Epoch 1/100\n",
      "1/1 [==============================] - 0s 297ms/step - loss: 7222.6899\n",
      "Epoch 2/100\n",
      "1/1 [==============================] - 0s 5ms/step - loss: 2364.1614\n",
      "Epoch 3/100\n",
      "1/1 [==============================] - 0s 4ms/step - loss: 802.4454\n",
      "Epoch 4/100\n",
      "1/1 [==============================] - 0s 3ms/step - loss: 300.4427\n",
      "Epoch 5/100\n",
      "1/1 [==============================] - 0s 4ms/step - loss: 139.0712\n",
      "Epoch 6/100\n",
      "1/1 [==============================] - 0s 3ms/step - loss: 87.1907\n",
      "Epoch 7/100\n",
      "1/1 [==============================] - 0s 3ms/step - loss: 70.5040\n",
      "Epoch 8/100\n",
      "1/1 [==============================] - 0s 3ms/step - loss: 65.1301\n",
      "Epoch 9/100\n",
      "1/1 [==============================] - 0s 4ms/step - loss: 63.3925\n",
      "Epoch 10/100\n",
      "1/1 [==============================] - 0s 3ms/step - loss: 62.8241\n",
      "Epoch 11/100\n",
      "1/1 [==============================] - 0s 3ms/step - loss: 62.6308\n",
      "Epoch 12/100\n",
      "1/1 [==============================] - 0s 3ms/step - loss: 62.5587\n",
      "Epoch 13/100\n",
      "1/1 [==============================] - 0s 3ms/step - loss: 62.5252\n",
      "Epoch 14/100\n",
      "1/1 [==============================] - 0s 3ms/step - loss: 62.5046\n",
      "Epoch 15/100\n",
      "1/1 [==============================] - 0s 3ms/step - loss: 62.4875\n",
      "Epoch 16/100\n",
      "1/1 [==============================] - 0s 4ms/step - loss: 62.4720\n",
      "Epoch 17/100\n",
      "1/1 [==============================] - 0s 3ms/step - loss: 62.4569\n",
      "Epoch 18/100\n",
      "1/1 [==============================] - 0s 4ms/step - loss: 62.4418\n",
      "Epoch 19/100\n",
      "1/1 [==============================] - 0s 3ms/step - loss: 62.4268\n",
      "Epoch 20/100\n",
      "1/1 [==============================] - 0s 4ms/step - loss: 62.4118\n",
      "Epoch 21/100\n",
      "1/1 [==============================] - 0s 3ms/step - loss: 62.3969\n",
      "Epoch 22/100\n",
      "1/1 [==============================] - 0s 3ms/step - loss: 62.3819\n",
      "Epoch 23/100\n",
      "1/1 [==============================] - 0s 4ms/step - loss: 62.3671\n",
      "Epoch 24/100\n",
      "1/1 [==============================] - 0s 3ms/step - loss: 62.3521\n",
      "Epoch 25/100\n",
      "1/1 [==============================] - 0s 4ms/step - loss: 62.3372\n",
      "Epoch 26/100\n",
      "1/1 [==============================] - 0s 3ms/step - loss: 62.3222\n",
      "Epoch 27/100\n",
      "1/1 [==============================] - 0s 4ms/step - loss: 62.3073\n",
      "Epoch 28/100\n",
      "1/1 [==============================] - 0s 3ms/step - loss: 62.2924\n",
      "Epoch 29/100\n",
      "1/1 [==============================] - 0s 4ms/step - loss: 62.2774\n",
      "Epoch 30/100\n",
      "1/1 [==============================] - 0s 4ms/step - loss: 62.2626\n",
      "Epoch 31/100\n",
      "1/1 [==============================] - 0s 3ms/step - loss: 62.2476\n",
      "Epoch 32/100\n",
      "1/1 [==============================] - 0s 3ms/step - loss: 62.2327\n",
      "Epoch 33/100\n",
      "1/1 [==============================] - 0s 4ms/step - loss: 62.2178\n",
      "Epoch 34/100\n",
      "1/1 [==============================] - 0s 3ms/step - loss: 62.2029\n",
      "Epoch 35/100\n",
      "1/1 [==============================] - 0s 4ms/step - loss: 62.1880\n",
      "Epoch 36/100\n",
      "1/1 [==============================] - 0s 3ms/step - loss: 62.1732\n",
      "Epoch 37/100\n",
      "1/1 [==============================] - 0s 4ms/step - loss: 62.1583\n",
      "Epoch 38/100\n",
      "1/1 [==============================] - 0s 3ms/step - loss: 62.1434\n",
      "Epoch 39/100\n",
      "1/1 [==============================] - 0s 4ms/step - loss: 62.1286\n",
      "Epoch 40/100\n",
      "1/1 [==============================] - 0s 4ms/step - loss: 62.1137\n",
      "Epoch 41/100\n",
      "1/1 [==============================] - 0s 4ms/step - loss: 62.0986\n",
      "Epoch 42/100\n",
      "1/1 [==============================] - 0s 4ms/step - loss: 62.0838\n",
      "Epoch 43/100\n",
      "1/1 [==============================] - 0s 3ms/step - loss: 62.0691\n",
      "Epoch 44/100\n",
      "1/1 [==============================] - 0s 4ms/step - loss: 62.0541\n",
      "Epoch 45/100\n",
      "1/1 [==============================] - 0s 3ms/step - loss: 62.0393\n",
      "Epoch 46/100\n",
      "1/1 [==============================] - 0s 3ms/step - loss: 62.0244\n",
      "Epoch 47/100\n",
      "1/1 [==============================] - 0s 4ms/step - loss: 62.0096\n",
      "Epoch 48/100\n",
      "1/1 [==============================] - 0s 3ms/step - loss: 61.9948\n",
      "Epoch 49/100\n",
      "1/1 [==============================] - 0s 3ms/step - loss: 61.9799\n",
      "Epoch 50/100\n",
      "1/1 [==============================] - 0s 4ms/step - loss: 61.9650\n",
      "Epoch 51/100\n",
      "1/1 [==============================] - 0s 4ms/step - loss: 61.9502\n",
      "Epoch 52/100\n",
      "1/1 [==============================] - 0s 3ms/step - loss: 61.9354\n",
      "Epoch 53/100\n",
      "1/1 [==============================] - 0s 3ms/step - loss: 61.9204\n",
      "Epoch 54/100\n",
      "1/1 [==============================] - 0s 4ms/step - loss: 61.9056\n",
      "Epoch 55/100\n",
      "1/1 [==============================] - 0s 4ms/step - loss: 61.8908\n",
      "Epoch 56/100\n",
      "1/1 [==============================] - 0s 3ms/step - loss: 61.8760\n",
      "Epoch 57/100\n",
      "1/1 [==============================] - 0s 4ms/step - loss: 61.8613\n",
      "Epoch 58/100\n",
      "1/1 [==============================] - 0s 4ms/step - loss: 61.8464\n",
      "Epoch 59/100\n",
      "1/1 [==============================] - 0s 3ms/step - loss: 61.8317\n",
      "Epoch 60/100\n",
      "1/1 [==============================] - 0s 4ms/step - loss: 61.8169\n",
      "Epoch 61/100\n",
      "1/1 [==============================] - 0s 3ms/step - loss: 61.8020\n",
      "Epoch 62/100\n",
      "1/1 [==============================] - 0s 4ms/step - loss: 61.7873\n",
      "Epoch 63/100\n",
      "1/1 [==============================] - 0s 4ms/step - loss: 61.7724\n",
      "Epoch 64/100\n",
      "1/1 [==============================] - 0s 3ms/step - loss: 61.7577\n",
      "Epoch 65/100\n",
      "1/1 [==============================] - 0s 3ms/step - loss: 61.7429\n",
      "Epoch 66/100\n",
      "1/1 [==============================] - 0s 4ms/step - loss: 61.7280\n",
      "Epoch 67/100\n",
      "1/1 [==============================] - 0s 3ms/step - loss: 61.7133\n",
      "Epoch 68/100\n",
      "1/1 [==============================] - 0s 4ms/step - loss: 61.6985\n",
      "Epoch 69/100\n",
      "1/1 [==============================] - 0s 3ms/step - loss: 61.6839\n",
      "Epoch 70/100\n",
      "1/1 [==============================] - 0s 3ms/step - loss: 61.6690\n",
      "Epoch 71/100\n",
      "1/1 [==============================] - 0s 4ms/step - loss: 61.6543\n",
      "Epoch 72/100\n",
      "1/1 [==============================] - 0s 3ms/step - loss: 61.6396\n",
      "Epoch 73/100\n",
      "1/1 [==============================] - 0s 3ms/step - loss: 61.6249\n",
      "Epoch 74/100\n",
      "1/1 [==============================] - 0s 4ms/step - loss: 61.6100\n",
      "Epoch 75/100\n",
      "1/1 [==============================] - 0s 3ms/step - loss: 61.5953\n",
      "Epoch 76/100\n",
      "1/1 [==============================] - 0s 4ms/step - loss: 61.5806\n",
      "Epoch 77/100\n",
      "1/1 [==============================] - 0s 4ms/step - loss: 61.5659\n",
      "Epoch 78/100\n",
      "1/1 [==============================] - 0s 3ms/step - loss: 61.5512\n",
      "Epoch 79/100\n",
      "1/1 [==============================] - 0s 3ms/step - loss: 61.5364\n",
      "Epoch 80/100\n",
      "1/1 [==============================] - 0s 4ms/step - loss: 61.5216\n",
      "Epoch 81/100\n",
      "1/1 [==============================] - 0s 3ms/step - loss: 61.5070\n",
      "Epoch 82/100\n",
      "1/1 [==============================] - 0s 4ms/step - loss: 61.4923\n",
      "Epoch 83/100\n",
      "1/1 [==============================] - 0s 4ms/step - loss: 61.4775\n",
      "Epoch 84/100\n",
      "1/1 [==============================] - 0s 3ms/step - loss: 61.4629\n",
      "Epoch 85/100\n",
      "1/1 [==============================] - 0s 4ms/step - loss: 61.4481\n",
      "Epoch 86/100\n",
      "1/1 [==============================] - 0s 4ms/step - loss: 61.4335\n",
      "Epoch 87/100\n",
      "1/1 [==============================] - 0s 3ms/step - loss: 61.4187\n",
      "Epoch 88/100\n",
      "1/1 [==============================] - 0s 4ms/step - loss: 61.4040\n",
      "Epoch 89/100\n",
      "1/1 [==============================] - 0s 3ms/step - loss: 61.3894\n",
      "Epoch 90/100\n",
      "1/1 [==============================] - 0s 3ms/step - loss: 61.3746\n",
      "Epoch 91/100\n",
      "1/1 [==============================] - 0s 3ms/step - loss: 61.3599\n",
      "Epoch 92/100\n",
      "1/1 [==============================] - 0s 3ms/step - loss: 61.3453\n",
      "Epoch 93/100\n",
      "1/1 [==============================] - 0s 4ms/step - loss: 61.3307\n",
      "Epoch 94/100\n",
      "1/1 [==============================] - 0s 4ms/step - loss: 61.3160\n",
      "Epoch 95/100\n",
      "1/1 [==============================] - 0s 3ms/step - loss: 61.3014\n",
      "Epoch 96/100\n",
      "1/1 [==============================] - 0s 4ms/step - loss: 61.2867\n",
      "Epoch 97/100\n",
      "1/1 [==============================] - 0s 3ms/step - loss: 61.2719\n",
      "Epoch 98/100\n",
      "1/1 [==============================] - 0s 3ms/step - loss: 61.2575\n",
      "Epoch 99/100\n",
      "1/1 [==============================] - 0s 3ms/step - loss: 61.2428\n",
      "Epoch 100/100\n",
      "1/1 [==============================] - 0s 3ms/step - loss: 61.2281\n"
     ]
    }
   ],
   "source": [
    "loss = tf.model.fit(x_data, y_data, epochs=100)"
   ]
  },
  {
   "cell_type": "code",
   "execution_count": 6,
   "id": "97031c70",
   "metadata": {},
   "outputs": [
    {
     "data": {
      "image/png": "[encoded data removed]",
      "text/plain": [
       "<Figure size 640x480 with 1 Axes>"
      ]
     },
     "metadata": {},
     "output_type": "display_data"
    }
   ],
   "source": [
    "# loss값의 시각화\n",
    "import matplotlib.pyplot as plt\n",
    "plt.plot(loss.history['loss'])\n",
    "plt.title('Model Loss')\n",
    "plt.xlabel('Epoch')\n",
    "plt.ylabel('Lose')\n",
    "plt.legend(['Train','Test'], loc='upper left')\n",
    "plt.show()"
   ]
  },
  {
   "cell_type": "code",
   "execution_count": 9,
   "id": "98a7bc84",
   "metadata": {},
   "outputs": [
    {
     "name": "stdout",
     "output_type": "stream",
     "text": [
      "1/1 [==============================] - 0s 72ms/step\n"
     ]
    },
    {
     "data": {
      "text/plain": [
       "array([[135.21152]], dtype=float32)"
      ]
     },
     "execution_count": 9,
     "metadata": {},
     "output_type": "execute_result"
    }
   ],
   "source": [
    "y_predict = tf.model.predict(np.array([[72,93,90]]))\n",
    "y_predict"
   ]
  },
  {
   "cell_type": "code",
   "execution_count": null,
   "id": "48856041",
   "metadata": {},
   "outputs": [],
   "source": []
  }
 ],
 "metadata": {
  "kernelspec": {
   "display_name": "Python [conda env:tf_cpu] *",
   "language": "python",
   "name": "conda-env-tf_cpu-py"
  },
  "language_info": {
   "codemirror_mode": {
    "name": "ipython",
    "version": 3
   },
   "file_extension": ".py",
   "mimetype": "text/x-python",
   "name": "python",
   "nbconvert_exporter": "python",
   "pygments_lexer": "ipython3",
   "version": "3.8.16"
  }
 },
 "nbformat": 4,
 "nbformat_minor": 5
}
