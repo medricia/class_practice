{
 "cells": [
  {
   "cell_type": "code",
   "execution_count": 1,
   "id": "a55cd954",
   "metadata": {},
   "outputs": [],
   "source": [
    "# IMDB 리뷰 데이터 셋\n",
    "\n",
    "from tensorflow.keras.datasets import imdb\n",
    "\n",
    "# 숫자화 전처리한 데이터셋\n",
    "(train_input, train_target),(test_input, test_target) = imdb.load_data(num_words=500) #가장 많이 등장하는 500개까지"
   ]
  },
  {
   "cell_type": "code",
   "execution_count": 2,
   "id": "211f71df",
   "metadata": {},
   "outputs": [
    {
     "name": "stdout",
     "output_type": "stream",
     "text": [
      "(25000,) (25000,)\n"
     ]
    }
   ],
   "source": [
    "print(train_input.shape, test_input.shape)"
   ]
  },
  {
   "cell_type": "code",
   "execution_count": 3,
   "id": "734b4c6a",
   "metadata": {},
   "outputs": [
    {
     "name": "stdout",
     "output_type": "stream",
     "text": [
      "218 189\n"
     ]
    }
   ],
   "source": [
    "print(len(train_input[0]), len(train_input[1]))"
   ]
  },
  {
   "cell_type": "code",
   "execution_count": 4,
   "id": "2ae42919",
   "metadata": {},
   "outputs": [
    {
     "name": "stdout",
     "output_type": "stream",
     "text": [
      "[1, 14, 22, 16, 43, 2, 2, 2, 2, 65, 458, 2, 66, 2, 4, 173, 36, 256, 5, 25, 100, 43, 2, 112, 50, 2, 2, 9, 35, 480, 284, 5, 150, 4, 172, 112, 167, 2, 336, 385, 39, 4, 172, 2, 2, 17, 2, 38, 13, 447, 4, 192, 50, 16, 6, 147, 2, 19, 14, 22, 4, 2, 2, 469, 4, 22, 71, 87, 12, 16, 43, 2, 38, 76, 15, 13, 2, 4, 22, 17, 2, 17, 12, 16, 2, 18, 2, 5, 62, 386, 12, 8, 316, 8, 106, 5, 4, 2, 2, 16, 480, 66, 2, 33, 4, 130, 12, 16, 38, 2, 5, 25, 124, 51, 36, 135, 48, 25, 2, 33, 6, 22, 12, 215, 28, 77, 52, 5, 14, 407, 16, 82, 2, 8, 4, 107, 117, 2, 15, 256, 4, 2, 7, 2, 5, 2, 36, 71, 43, 2, 476, 26, 400, 317, 46, 7, 4, 2, 2, 13, 104, 88, 4, 381, 15, 297, 98, 32, 2, 56, 26, 141, 6, 194, 2, 18, 4, 226, 22, 21, 134, 476, 26, 480, 5, 144, 30, 2, 18, 51, 36, 28, 224, 92, 25, 104, 4, 226, 65, 16, 38, 2, 88, 12, 16, 283, 5, 16, 2, 113, 103, 32, 15, 16, 2, 19, 178, 32]\n"
     ]
    }
   ],
   "source": [
    "print(train_input[0])"
   ]
  },
  {
   "cell_type": "code",
   "execution_count": 5,
   "id": "b3bae02f",
   "metadata": {},
   "outputs": [
    {
     "name": "stdout",
     "output_type": "stream",
     "text": [
      "[1 0 0 1 0 0 1 0 1 0 1 0 0 0 0 0 1 1 0 1]\n"
     ]
    }
   ],
   "source": [
    "print(train_target[:20]) "
   ]
  },
  {
   "cell_type": "code",
   "execution_count": 6,
   "id": "81d157b2",
   "metadata": {},
   "outputs": [
    {
     "name": "stdout",
     "output_type": "stream",
     "text": [
      "[14, 22, 16, 43, 65, 458, 66, 4, 173, 36, 256, 5, 25, 100, 43, 112, 50, 9, 35, 480, 284, 5, 150, 4, 172, 112, 167, 336, 385, 39, 4, 172, 17, 38, 13, 447, 4, 192, 50, 16, 6, 147, 19, 14, 22, 4, 469, 4, 22, 71, 87, 12, 16, 43, 38, 76, 15, 13, 4, 22, 17, 17, 12, 16, 18, 5, 62, 386, 12, 8, 316, 8, 106, 5, 4, 16, 480, 66, 33, 4, 130, 12, 16, 38, 5, 25, 124, 51, 36, 135, 48, 25, 33, 6, 22, 12, 215, 28, 77, 52, 5, 14, 407, 16, 82, 8, 4, 107, 117, 15, 256, 4, 7, 5, 36, 71, 43, 476, 26, 400, 317, 46, 7, 4, 13, 104, 88, 4, 381, 15, 297, 98, 32, 56, 26, 141, 6, 194, 18, 4, 226, 22, 21, 134, 476, 26, 480, 5, 144, 30, 18, 51, 36, 28, 224, 92, 25, 104, 4, 226, 65, 16, 38, 88, 12, 16, 283, 5, 16, 113, 103, 32, 15, 16, 19, 178, 32]\n",
      "177\n"
     ]
    }
   ],
   "source": [
    "# 훈련세트에서 2(어휘 사전에 없는 단어) 제외하기\n",
    "\n",
    "for i in range(len(train_input)):\n",
    "    train_input[i] = [w for w in train_input[i] if w>2]\n",
    "    \n",
    "print(train_input[0])\n",
    "print(len(train_input[0]))"
   ]
  },
  {
   "cell_type": "code",
   "execution_count": 7,
   "id": "8fa606a3",
   "metadata": {},
   "outputs": [],
   "source": [
    "from sklearn.model_selection import train_test_split\n",
    "\n",
    "#순서 주의!\n",
    "train_input, val_input, train_target, val_target = train_test_split(train_input, train_target, test_size=0.2, random_state=1234)"
   ]
  },
  {
   "cell_type": "code",
   "execution_count": 8,
   "id": "140360c1",
   "metadata": {},
   "outputs": [],
   "source": [
    "import numpy as np\n",
    "\n",
    "lengths = np.array([len(x) for x in train_input])"
   ]
  },
  {
   "cell_type": "code",
   "execution_count": 9,
   "id": "b6e440e2",
   "metadata": {},
   "outputs": [
    {
     "name": "stdout",
     "output_type": "stream",
     "text": [
      "164.0498 126.0\n"
     ]
    }
   ],
   "source": [
    "print(np.mean(lengths), np.median(lengths))"
   ]
  },
  {
   "cell_type": "code",
   "execution_count": 10,
   "id": "e1f7bd64",
   "metadata": {},
   "outputs": [
    {
     "data": {
      "image/png": "[encoded data removed]",
      "text/plain": [
       "<Figure size 640x480 with 1 Axes>"
      ]
     },
     "metadata": {},
     "output_type": "display_data"
    }
   ],
   "source": [
    "import matplotlib.pyplot as plt\n",
    "\n",
    "plt.hist(lengths)\n",
    "plt.xlabel('length')\n",
    "plt.ylabel('frequency')\n",
    "plt.show()"
   ]
  },
  {
   "cell_type": "code",
   "execution_count": 11,
   "id": "f7666c7a",
   "metadata": {},
   "outputs": [
    {
     "data": {
      "text/plain": [
       "(20000, 100)"
      ]
     },
     "execution_count": 11,
     "metadata": {},
     "output_type": "execute_result"
    }
   ],
   "source": [
    "from tensorflow.keras.preprocessing.sequence import pad_sequences\n",
    "\n",
    "train_seq = pad_sequences(train_input, maxlen=100) # 만약 앞에서부터 끊고 싶으면 padding을 줘서 진행\n",
    "train_seq.shape"
   ]
  },
  {
   "cell_type": "code",
   "execution_count": 12,
   "id": "02cf9cf1",
   "metadata": {},
   "outputs": [
    {
     "data": {
      "text/plain": [
       "array([  7,   4,  33,   4,  58,   5,  17, 118,  17,  31,  70,   7, 330,\n",
       "        11,  14,   4, 201, 127, 179,  73,   9,  55,  52,  17,   9,  13,\n",
       "        62, 190, 423,   8,  28, 188,  53,  23,   4,  19, 409,  11,  88,\n",
       "       122,  24,  81, 233,  23,  27, 205,  29,  69,  84, 187,  90,  15,\n",
       "        90,   8,   4, 400, 209,   5, 434, 209, 303,  23,  11,  27,  51,\n",
       "        16, 170, 143,   5, 330,  12,  62,  28,  77,   8,  67,  53,   7,\n",
       "       134,  21,  13, 440,  12,  80,  97,  84,   4,  53,  12, 238,  82,\n",
       "        97,  84, 391, 138, 294,  40,  30,   8,  11])"
      ]
     },
     "execution_count": 12,
     "metadata": {},
     "output_type": "execute_result"
    }
   ],
   "source": [
    "train_seq[0]"
   ]
  },
  {
   "cell_type": "code",
   "execution_count": 13,
   "id": "8e7c9069",
   "metadata": {},
   "outputs": [
    {
     "data": {
      "text/plain": [
       "array([  0,   0,   0,   0,   0,   0,   0, 108,  26,  83,   6,  48,  24,\n",
       "       407,   6,   9, 160, 463,   7,   6,  20,  15, 304,  84,   5,  68,\n",
       "       261,   4,  26,  42,  33, 113,  42, 341,  36, 131,  66,  14, 100,\n",
       "        10,  10,  50,  26, 275, 133,  63, 413,  31,   9,  44,   4, 250,\n",
       "        37, 152,   8,   4,   8,   4, 375,  31,   9,  44,   4, 255,  37,\n",
       "         4,   7,  41, 113,  11,   6, 160,   9,  44,   4, 250,  19,  41,\n",
       "       131, 160,  31,   9,  44,   4,   7,   6,  37, 220, 283, 119,  10,\n",
       "        10, 407, 290, 319,  45,  11,   4, 193, 372])"
      ]
     },
     "execution_count": 13,
     "metadata": {},
     "output_type": "execute_result"
    }
   ],
   "source": [
    "train_seq[12]"
   ]
  },
  {
   "cell_type": "code",
   "execution_count": 14,
   "id": "46a2814e",
   "metadata": {},
   "outputs": [],
   "source": [
    "val_seq = pad_sequences(val_input, maxlen=100)"
   ]
  },
  {
   "cell_type": "markdown",
   "id": "13ede0a2",
   "metadata": {},
   "source": [
    "# 순환신경망 만들기"
   ]
  },
  {
   "cell_type": "code",
   "execution_count": 15,
   "id": "d9dd0628",
   "metadata": {},
   "outputs": [],
   "source": [
    "from tensorflow import keras\n",
    "model = keras.Sequential()\n",
    "\n",
    "#rnn 입력데이터 : 2차원\n",
    "#활성화함수가 tanh로 설정되어 있음\n",
    "model.add(keras.layers.SimpleRNN(8, input_shape=(100, 500)))\n",
    "model.add(keras.layers.Dense(units=1, activation='sigmoid'))"
   ]
  },
  {
   "cell_type": "code",
   "execution_count": 16,
   "id": "4cf0c89f",
   "metadata": {},
   "outputs": [
    {
     "data": {
      "text/plain": [
       "(20000, 100, 500)"
      ]
     },
     "execution_count": 16,
     "metadata": {},
     "output_type": "execute_result"
    }
   ],
   "source": [
    "#원핫 인코딩 으로 훈련시켜줘야 함\n",
    "train_oh = keras.utils.to_categorical(train_seq)\n",
    "train_oh.shape"
   ]
  },
  {
   "cell_type": "code",
   "execution_count": 17,
   "id": "6a9a913d",
   "metadata": {},
   "outputs": [
    {
     "data": {
      "text/plain": [
       "(5000, 100, 500)"
      ]
     },
     "execution_count": 17,
     "metadata": {},
     "output_type": "execute_result"
    }
   ],
   "source": [
    "val_oh = keras.utils.to_categorical(val_seq)\n",
    "val_oh.shape"
   ]
  },
  {
   "cell_type": "code",
   "execution_count": 18,
   "id": "4c43cefd",
   "metadata": {},
   "outputs": [
    {
     "data": {
      "text/plain": [
       "array([[[0., 0., 0., ..., 0., 0., 0.],\n",
       "        [0., 0., 0., ..., 0., 0., 0.],\n",
       "        [0., 0., 0., ..., 0., 0., 0.],\n",
       "        ...,\n",
       "        [0., 0., 0., ..., 0., 0., 0.],\n",
       "        [0., 0., 0., ..., 0., 0., 0.],\n",
       "        [0., 0., 0., ..., 0., 0., 0.]],\n",
       "\n",
       "       [[0., 0., 0., ..., 0., 0., 0.],\n",
       "        [0., 0., 0., ..., 0., 0., 0.],\n",
       "        [0., 0., 0., ..., 0., 0., 0.],\n",
       "        ...,\n",
       "        [0., 0., 0., ..., 0., 0., 0.],\n",
       "        [0., 0., 0., ..., 0., 0., 0.],\n",
       "        [0., 0., 0., ..., 0., 0., 0.]]], dtype=float32)"
      ]
     },
     "execution_count": 18,
     "metadata": {},
     "output_type": "execute_result"
    }
   ],
   "source": [
    "train_oh[0:2]"
   ]
  },
  {
   "cell_type": "code",
   "execution_count": 19,
   "id": "46af97ba",
   "metadata": {},
   "outputs": [
    {
     "name": "stdout",
     "output_type": "stream",
     "text": [
      "Model: \"sequential\"\n",
      "_________________________________________________________________\n",
      " Layer (type)                Output Shape              Param #   \n",
      "=================================================================\n",
      " simple_rnn (SimpleRNN)      (None, 8)                 4072      \n",
      "                                                                 \n",
      " dense (Dense)               (None, 1)                 9         \n",
      "                                                                 \n",
      "=================================================================\n",
      "Total params: 4,081\n",
      "Trainable params: 4,081\n",
      "Non-trainable params: 0\n",
      "_________________________________________________________________\n"
     ]
    }
   ],
   "source": [
    "model.summary()"
   ]
  },
  {
   "cell_type": "code",
   "execution_count": 20,
   "id": "f607ca02",
   "metadata": {},
   "outputs": [],
   "source": [
    "model.compile(optimizer=keras.optimizers.Adam(learning_rate=1e-4), loss='binary_crossentropy', metrics='accuracy')"
   ]
  },
  {
   "cell_type": "code",
   "execution_count": 21,
   "id": "c39c882f",
   "metadata": {},
   "outputs": [
    {
     "name": "stdout",
     "output_type": "stream",
     "text": [
      "Epoch 1/50\n",
      "625/625 [==============================] - 12s 18ms/step - loss: 0.6948 - accuracy: 0.5152 - val_loss: 0.6841 - val_accuracy: 0.5568\n",
      "Epoch 2/50\n",
      "625/625 [==============================] - 11s 17ms/step - loss: 0.6727 - accuracy: 0.5995 - val_loss: 0.6658 - val_accuracy: 0.6286\n",
      "Epoch 3/50\n",
      "625/625 [==============================] - 11s 17ms/step - loss: 0.6449 - accuracy: 0.6729 - val_loss: 0.6326 - val_accuracy: 0.6900\n",
      "Epoch 4/50\n",
      "625/625 [==============================] - 11s 18ms/step - loss: 0.6124 - accuracy: 0.7135 - val_loss: 0.6018 - val_accuracy: 0.7200\n",
      "Epoch 5/50\n",
      "625/625 [==============================] - 11s 17ms/step - loss: 0.5807 - accuracy: 0.7429 - val_loss: 0.5730 - val_accuracy: 0.7508\n",
      "Epoch 6/50\n",
      "625/625 [==============================] - 11s 17ms/step - loss: 0.5515 - accuracy: 0.7606 - val_loss: 0.5470 - val_accuracy: 0.7588\n",
      "Epoch 7/50\n",
      "625/625 [==============================] - 11s 17ms/step - loss: 0.5251 - accuracy: 0.7746 - val_loss: 0.5258 - val_accuracy: 0.7678\n",
      "Epoch 8/50\n",
      "625/625 [==============================] - 11s 17ms/step - loss: 0.5049 - accuracy: 0.7832 - val_loss: 0.5075 - val_accuracy: 0.7782\n",
      "Epoch 9/50\n",
      "625/625 [==============================] - 11s 18ms/step - loss: 0.4831 - accuracy: 0.7936 - val_loss: 0.5004 - val_accuracy: 0.7792\n",
      "Epoch 10/50\n",
      "625/625 [==============================] - 11s 17ms/step - loss: 0.4671 - accuracy: 0.8014 - val_loss: 0.4807 - val_accuracy: 0.7858\n",
      "Epoch 11/50\n",
      "625/625 [==============================] - 11s 17ms/step - loss: 0.4536 - accuracy: 0.8063 - val_loss: 0.4711 - val_accuracy: 0.7924\n",
      "Epoch 12/50\n",
      "625/625 [==============================] - 11s 18ms/step - loss: 0.4432 - accuracy: 0.8098 - val_loss: 0.4640 - val_accuracy: 0.7968\n",
      "Epoch 13/50\n",
      "625/625 [==============================] - 11s 18ms/step - loss: 0.4325 - accuracy: 0.8154 - val_loss: 0.4595 - val_accuracy: 0.7964\n",
      "Epoch 14/50\n",
      "625/625 [==============================] - 11s 18ms/step - loss: 0.4243 - accuracy: 0.8164 - val_loss: 0.4545 - val_accuracy: 0.7990\n",
      "Epoch 15/50\n",
      "625/625 [==============================] - 11s 17ms/step - loss: 0.4194 - accuracy: 0.8184 - val_loss: 0.4498 - val_accuracy: 0.8000\n",
      "Epoch 16/50\n",
      "625/625 [==============================] - 11s 17ms/step - loss: 0.4138 - accuracy: 0.8199 - val_loss: 0.4467 - val_accuracy: 0.8016\n",
      "Epoch 17/50\n",
      "625/625 [==============================] - 11s 18ms/step - loss: 0.4071 - accuracy: 0.8246 - val_loss: 0.4459 - val_accuracy: 0.8028\n",
      "Epoch 18/50\n",
      "625/625 [==============================] - 11s 18ms/step - loss: 0.4033 - accuracy: 0.8275 - val_loss: 0.4469 - val_accuracy: 0.7976\n",
      "Epoch 19/50\n",
      "625/625 [==============================] - 11s 17ms/step - loss: 0.3985 - accuracy: 0.8284 - val_loss: 0.4423 - val_accuracy: 0.8010\n",
      "Epoch 20/50\n",
      "625/625 [==============================] - 11s 17ms/step - loss: 0.3949 - accuracy: 0.8297 - val_loss: 0.4465 - val_accuracy: 0.8010\n",
      "Epoch 21/50\n",
      "625/625 [==============================] - 11s 17ms/step - loss: 0.3925 - accuracy: 0.8309 - val_loss: 0.4415 - val_accuracy: 0.8024\n",
      "Epoch 22/50\n",
      "625/625 [==============================] - 11s 18ms/step - loss: 0.3887 - accuracy: 0.8327 - val_loss: 0.4482 - val_accuracy: 0.8014\n",
      "Epoch 23/50\n",
      "625/625 [==============================] - 11s 17ms/step - loss: 0.3866 - accuracy: 0.8360 - val_loss: 0.4384 - val_accuracy: 0.8046\n",
      "Epoch 24/50\n",
      "625/625 [==============================] - 11s 18ms/step - loss: 0.3831 - accuracy: 0.8363 - val_loss: 0.4421 - val_accuracy: 0.8022\n",
      "Epoch 25/50\n",
      "625/625 [==============================] - 11s 17ms/step - loss: 0.3813 - accuracy: 0.8372 - val_loss: 0.4415 - val_accuracy: 0.8040\n",
      "Epoch 26/50\n",
      "625/625 [==============================] - 11s 17ms/step - loss: 0.3803 - accuracy: 0.8370 - val_loss: 0.4500 - val_accuracy: 0.7976\n",
      "Epoch 27/50\n",
      "625/625 [==============================] - 11s 17ms/step - loss: 0.3773 - accuracy: 0.8392 - val_loss: 0.4467 - val_accuracy: 0.8046\n",
      "Epoch 28/50\n",
      "625/625 [==============================] - 11s 17ms/step - loss: 0.3757 - accuracy: 0.8404 - val_loss: 0.4396 - val_accuracy: 0.8036\n",
      "Epoch 29/50\n",
      "625/625 [==============================] - 11s 17ms/step - loss: 0.3743 - accuracy: 0.8393 - val_loss: 0.4422 - val_accuracy: 0.8032\n",
      "Epoch 30/50\n",
      "625/625 [==============================] - 11s 17ms/step - loss: 0.3721 - accuracy: 0.8416 - val_loss: 0.4465 - val_accuracy: 0.8032\n",
      "Epoch 31/50\n",
      "625/625 [==============================] - 11s 17ms/step - loss: 0.3700 - accuracy: 0.8423 - val_loss: 0.4392 - val_accuracy: 0.8038\n",
      "Epoch 32/50\n",
      "625/625 [==============================] - 11s 17ms/step - loss: 0.3692 - accuracy: 0.8432 - val_loss: 0.4381 - val_accuracy: 0.8026\n",
      "Epoch 33/50\n",
      "625/625 [==============================] - 11s 17ms/step - loss: 0.3681 - accuracy: 0.8436 - val_loss: 0.4379 - val_accuracy: 0.8038\n",
      "Epoch 34/50\n",
      "625/625 [==============================] - 11s 17ms/step - loss: 0.3663 - accuracy: 0.8440 - val_loss: 0.4438 - val_accuracy: 0.8036\n",
      "Epoch 35/50\n",
      "625/625 [==============================] - 11s 17ms/step - loss: 0.3648 - accuracy: 0.8445 - val_loss: 0.4456 - val_accuracy: 0.8018\n",
      "Epoch 36/50\n",
      "625/625 [==============================] - 11s 17ms/step - loss: 0.3637 - accuracy: 0.8458 - val_loss: 0.4397 - val_accuracy: 0.8034\n",
      "Epoch 37/50\n",
      "625/625 [==============================] - 11s 17ms/step - loss: 0.3624 - accuracy: 0.8460 - val_loss: 0.4401 - val_accuracy: 0.8022\n",
      "Epoch 38/50\n",
      "625/625 [==============================] - 11s 18ms/step - loss: 0.3610 - accuracy: 0.8460 - val_loss: 0.4375 - val_accuracy: 0.8036\n",
      "Epoch 39/50\n",
      "625/625 [==============================] - 11s 18ms/step - loss: 0.3595 - accuracy: 0.8468 - val_loss: 0.4419 - val_accuracy: 0.8020\n",
      "Epoch 40/50\n",
      "625/625 [==============================] - 11s 18ms/step - loss: 0.3585 - accuracy: 0.8483 - val_loss: 0.4443 - val_accuracy: 0.8006\n",
      "Epoch 41/50\n",
      "625/625 [==============================] - 11s 17ms/step - loss: 0.3574 - accuracy: 0.8485 - val_loss: 0.4457 - val_accuracy: 0.8010\n",
      "Epoch 42/50\n",
      "625/625 [==============================] - 11s 18ms/step - loss: 0.3568 - accuracy: 0.8472 - val_loss: 0.4419 - val_accuracy: 0.8050\n",
      "Epoch 43/50\n",
      "625/625 [==============================] - 12s 19ms/step - loss: 0.3553 - accuracy: 0.8495 - val_loss: 0.4435 - val_accuracy: 0.8008\n",
      "Epoch 44/50\n",
      "625/625 [==============================] - 11s 17ms/step - loss: 0.3541 - accuracy: 0.8508 - val_loss: 0.4447 - val_accuracy: 0.8038\n",
      "Epoch 45/50\n",
      "625/625 [==============================] - 11s 17ms/step - loss: 0.3537 - accuracy: 0.8513 - val_loss: 0.4425 - val_accuracy: 0.8018\n",
      "Epoch 46/50\n",
      "625/625 [==============================] - 11s 17ms/step - loss: 0.3520 - accuracy: 0.8508 - val_loss: 0.4416 - val_accuracy: 0.8016\n",
      "Epoch 47/50\n",
      "625/625 [==============================] - 11s 17ms/step - loss: 0.3513 - accuracy: 0.8511 - val_loss: 0.4502 - val_accuracy: 0.8032\n",
      "Epoch 48/50\n",
      "625/625 [==============================] - 11s 17ms/step - loss: 0.3501 - accuracy: 0.8518 - val_loss: 0.4502 - val_accuracy: 0.8024\n",
      "Epoch 49/50\n",
      "625/625 [==============================] - 11s 17ms/step - loss: 0.3488 - accuracy: 0.8525 - val_loss: 0.4518 - val_accuracy: 0.8018\n",
      "Epoch 50/50\n",
      "625/625 [==============================] - 11s 18ms/step - loss: 0.3483 - accuracy: 0.8536 - val_loss: 0.4489 - val_accuracy: 0.8000\n"
     ]
    }
   ],
   "source": [
    "loss = model.fit(train_oh, train_target, epochs=50, validation_data=(val_oh, val_target))"
   ]
  },
  {
   "cell_type": "code",
   "execution_count": 22,
   "id": "ed3a690f",
   "metadata": {},
   "outputs": [
    {
     "data": {
      "image/png": "[encoded data removed]",
      "text/plain": [
       "<Figure size 640x480 with 1 Axes>"
      ]
     },
     "metadata": {},
     "output_type": "display_data"
    }
   ],
   "source": [
    "plt.plot(loss.history['loss'])\n",
    "plt.plot(loss.history['val_loss'])\n",
    "plt.xlabel('epoch')\n",
    "plt.ylabel('loss')\n",
    "plt.legend(['train', 'val'])\n",
    "plt.show()"
   ]
  },
  {
   "cell_type": "markdown",
   "id": "36f05a11",
   "metadata": {},
   "source": [
    "# 단어 임베딩 사용하기"
   ]
  },
  {
   "cell_type": "code",
   "execution_count": 24,
   "id": "d2f0ed92",
   "metadata": {},
   "outputs": [
    {
     "name": "stdout",
     "output_type": "stream",
     "text": [
      "Model: \"sequential_1\"\n",
      "_________________________________________________________________\n",
      " Layer (type)                Output Shape              Param #   \n",
      "=================================================================\n",
      " embedding (Embedding)       (None, 100, 16)           8000      \n",
      "                                                                 \n",
      " simple_rnn_1 (SimpleRNN)    (None, 8)                 200       \n",
      "                                                                 \n",
      " dense_1 (Dense)             (None, 1)                 9         \n",
      "                                                                 \n",
      "=================================================================\n",
      "Total params: 8,209\n",
      "Trainable params: 8,209\n",
      "Non-trainable params: 0\n",
      "_________________________________________________________________\n"
     ]
    }
   ],
   "source": [
    "model2 = keras.Sequential()\n",
    "model2.add(keras.layers.Embedding(500, 16, input_length=100)) #두번째는 벡터 크기로 지정\n",
    "model2.add(keras.layers.SimpleRNN(8))\n",
    "model2.add(keras.layers.Dense(units=1, activation='sigmoid'))\n",
    "model2.summary()"
   ]
  },
  {
   "cell_type": "code",
   "execution_count": 25,
   "id": "b8f2ddb7",
   "metadata": {},
   "outputs": [
    {
     "name": "stdout",
     "output_type": "stream",
     "text": [
      "Epoch 1/50\n",
      "625/625 [==============================] - 12s 18ms/step - loss: 0.3483 - accuracy: 0.8535 - val_loss: 0.4562 - val_accuracy: 0.7974\n",
      "Epoch 2/50\n",
      "625/625 [==============================] - 11s 17ms/step - loss: 0.3462 - accuracy: 0.8529 - val_loss: 0.4471 - val_accuracy: 0.8028\n",
      "Epoch 3/50\n",
      "625/625 [==============================] - 11s 17ms/step - loss: 0.3448 - accuracy: 0.8558 - val_loss: 0.4471 - val_accuracy: 0.8026\n",
      "Epoch 4/50\n",
      "625/625 [==============================] - 11s 17ms/step - loss: 0.3449 - accuracy: 0.8554 - val_loss: 0.4473 - val_accuracy: 0.8028\n",
      "Epoch 5/50\n",
      "625/625 [==============================] - 11s 17ms/step - loss: 0.3439 - accuracy: 0.8554 - val_loss: 0.4503 - val_accuracy: 0.8024\n",
      "Epoch 6/50\n",
      "625/625 [==============================] - 11s 17ms/step - loss: 0.3433 - accuracy: 0.8568 - val_loss: 0.4493 - val_accuracy: 0.8014\n",
      "Epoch 7/50\n",
      "625/625 [==============================] - 11s 17ms/step - loss: 0.3419 - accuracy: 0.8572 - val_loss: 0.4514 - val_accuracy: 0.8026\n",
      "Epoch 8/50\n",
      "625/625 [==============================] - 11s 17ms/step - loss: 0.3422 - accuracy: 0.8558 - val_loss: 0.4554 - val_accuracy: 0.8000\n",
      "Epoch 9/50\n",
      "625/625 [==============================] - 11s 17ms/step - loss: 0.3403 - accuracy: 0.8583 - val_loss: 0.4493 - val_accuracy: 0.8016\n",
      "Epoch 10/50\n",
      "625/625 [==============================] - 11s 17ms/step - loss: 0.3384 - accuracy: 0.8598 - val_loss: 0.4531 - val_accuracy: 0.8002\n",
      "Epoch 11/50\n",
      "625/625 [==============================] - 11s 17ms/step - loss: 0.3387 - accuracy: 0.8600 - val_loss: 0.4544 - val_accuracy: 0.8018\n",
      "Epoch 12/50\n",
      "625/625 [==============================] - 11s 18ms/step - loss: 0.3385 - accuracy: 0.8597 - val_loss: 0.4559 - val_accuracy: 0.8016\n",
      "Epoch 13/50\n",
      "625/625 [==============================] - 11s 17ms/step - loss: 0.3372 - accuracy: 0.8604 - val_loss: 0.4559 - val_accuracy: 0.7996\n",
      "Epoch 14/50\n",
      "625/625 [==============================] - 11s 17ms/step - loss: 0.3359 - accuracy: 0.8621 - val_loss: 0.4654 - val_accuracy: 0.8008\n",
      "Epoch 15/50\n",
      "625/625 [==============================] - 11s 18ms/step - loss: 0.3354 - accuracy: 0.8608 - val_loss: 0.4618 - val_accuracy: 0.7988\n",
      "Epoch 16/50\n",
      "625/625 [==============================] - 11s 18ms/step - loss: 0.3347 - accuracy: 0.8616 - val_loss: 0.4570 - val_accuracy: 0.7992\n",
      "Epoch 17/50\n",
      "625/625 [==============================] - 11s 18ms/step - loss: 0.3336 - accuracy: 0.8619 - val_loss: 0.4611 - val_accuracy: 0.7988\n",
      "Epoch 18/50\n",
      "625/625 [==============================] - 11s 18ms/step - loss: 0.3332 - accuracy: 0.8624 - val_loss: 0.4571 - val_accuracy: 0.7984\n",
      "Epoch 19/50\n",
      "625/625 [==============================] - 11s 17ms/step - loss: 0.3325 - accuracy: 0.8633 - val_loss: 0.4579 - val_accuracy: 0.7970\n",
      "Epoch 20/50\n",
      "625/625 [==============================] - 11s 18ms/step - loss: 0.3313 - accuracy: 0.8637 - val_loss: 0.4566 - val_accuracy: 0.7972\n",
      "Epoch 21/50\n",
      "625/625 [==============================] - 11s 18ms/step - loss: 0.3309 - accuracy: 0.8633 - val_loss: 0.4543 - val_accuracy: 0.7982\n",
      "Epoch 22/50\n",
      "625/625 [==============================] - 11s 17ms/step - loss: 0.3292 - accuracy: 0.8647 - val_loss: 0.4619 - val_accuracy: 0.7956\n",
      "Epoch 23/50\n",
      "625/625 [==============================] - 11s 17ms/step - loss: 0.3292 - accuracy: 0.8649 - val_loss: 0.4706 - val_accuracy: 0.7968\n",
      "Epoch 24/50\n",
      "625/625 [==============================] - 11s 17ms/step - loss: 0.3285 - accuracy: 0.8644 - val_loss: 0.4601 - val_accuracy: 0.7990\n",
      "Epoch 25/50\n",
      "625/625 [==============================] - 11s 17ms/step - loss: 0.3283 - accuracy: 0.8659 - val_loss: 0.4598 - val_accuracy: 0.7984\n",
      "Epoch 26/50\n",
      "625/625 [==============================] - 11s 17ms/step - loss: 0.3266 - accuracy: 0.8673 - val_loss: 0.4690 - val_accuracy: 0.7986\n",
      "Epoch 27/50\n",
      "625/625 [==============================] - 11s 17ms/step - loss: 0.3264 - accuracy: 0.8658 - val_loss: 0.4617 - val_accuracy: 0.7960\n",
      "Epoch 28/50\n",
      "625/625 [==============================] - 11s 17ms/step - loss: 0.3254 - accuracy: 0.8683 - val_loss: 0.4690 - val_accuracy: 0.7988\n",
      "Epoch 29/50\n",
      "625/625 [==============================] - 11s 17ms/step - loss: 0.3248 - accuracy: 0.8674 - val_loss: 0.4642 - val_accuracy: 0.7988\n",
      "Epoch 30/50\n",
      "625/625 [==============================] - 11s 17ms/step - loss: 0.3244 - accuracy: 0.8680 - val_loss: 0.4684 - val_accuracy: 0.7970\n",
      "Epoch 31/50\n",
      "625/625 [==============================] - 11s 17ms/step - loss: 0.3230 - accuracy: 0.8691 - val_loss: 0.4659 - val_accuracy: 0.7986\n",
      "Epoch 32/50\n",
      "625/625 [==============================] - 11s 17ms/step - loss: 0.3232 - accuracy: 0.8665 - val_loss: 0.4669 - val_accuracy: 0.7974\n",
      "Epoch 33/50\n",
      "625/625 [==============================] - 11s 17ms/step - loss: 0.3224 - accuracy: 0.8690 - val_loss: 0.4628 - val_accuracy: 0.7968\n",
      "Epoch 34/50\n",
      "625/625 [==============================] - 11s 17ms/step - loss: 0.3219 - accuracy: 0.8694 - val_loss: 0.4698 - val_accuracy: 0.7964\n",
      "Epoch 35/50\n",
      "625/625 [==============================] - 11s 17ms/step - loss: 0.3200 - accuracy: 0.8704 - val_loss: 0.4668 - val_accuracy: 0.7970\n",
      "Epoch 36/50\n",
      "625/625 [==============================] - 11s 18ms/step - loss: 0.3200 - accuracy: 0.8705 - val_loss: 0.4672 - val_accuracy: 0.7974\n",
      "Epoch 37/50\n",
      "625/625 [==============================] - 11s 18ms/step - loss: 0.3192 - accuracy: 0.8705 - val_loss: 0.4720 - val_accuracy: 0.7996\n",
      "Epoch 38/50\n",
      "625/625 [==============================] - 11s 18ms/step - loss: 0.3189 - accuracy: 0.8711 - val_loss: 0.4706 - val_accuracy: 0.7980\n",
      "Epoch 39/50\n",
      "625/625 [==============================] - 11s 17ms/step - loss: 0.3186 - accuracy: 0.8712 - val_loss: 0.4738 - val_accuracy: 0.7982\n",
      "Epoch 40/50\n",
      "625/625 [==============================] - 11s 17ms/step - loss: 0.3178 - accuracy: 0.8707 - val_loss: 0.4690 - val_accuracy: 0.7960\n",
      "Epoch 41/50\n",
      "625/625 [==============================] - 11s 17ms/step - loss: 0.3174 - accuracy: 0.8704 - val_loss: 0.4754 - val_accuracy: 0.7980\n",
      "Epoch 42/50\n",
      "625/625 [==============================] - 11s 17ms/step - loss: 0.3168 - accuracy: 0.8709 - val_loss: 0.4731 - val_accuracy: 0.7968\n",
      "Epoch 43/50\n",
      "625/625 [==============================] - 11s 17ms/step - loss: 0.3159 - accuracy: 0.8725 - val_loss: 0.4705 - val_accuracy: 0.7966\n",
      "Epoch 44/50\n",
      "625/625 [==============================] - 11s 17ms/step - loss: 0.3148 - accuracy: 0.8724 - val_loss: 0.4741 - val_accuracy: 0.7956\n",
      "Epoch 45/50\n",
      "625/625 [==============================] - 11s 17ms/step - loss: 0.3151 - accuracy: 0.8721 - val_loss: 0.4767 - val_accuracy: 0.7970\n",
      "Epoch 46/50\n",
      "625/625 [==============================] - 11s 17ms/step - loss: 0.3139 - accuracy: 0.8734 - val_loss: 0.4756 - val_accuracy: 0.7970\n",
      "Epoch 47/50\n",
      "625/625 [==============================] - 11s 17ms/step - loss: 0.3136 - accuracy: 0.8732 - val_loss: 0.4740 - val_accuracy: 0.7948\n",
      "Epoch 48/50\n",
      "625/625 [==============================] - 11s 17ms/step - loss: 0.3128 - accuracy: 0.8742 - val_loss: 0.4792 - val_accuracy: 0.7956\n",
      "Epoch 49/50\n",
      "625/625 [==============================] - 11s 17ms/step - loss: 0.3119 - accuracy: 0.8743 - val_loss: 0.4779 - val_accuracy: 0.7944\n",
      "Epoch 50/50\n",
      "625/625 [==============================] - 11s 17ms/step - loss: 0.3112 - accuracy: 0.8751 - val_loss: 0.4809 - val_accuracy: 0.7964\n"
     ]
    }
   ],
   "source": [
    "model2.compile(optimizer=keras.optimizers.Adam(learning_rate=1e-4), loss='binary_crossentropy', metrics='accuracy')\n",
    "loss = model2.fit(train_oh, train_target, epochs=50, validation_data=(val_oh, val_target))"
   ]
  },
  {
   "cell_type": "code",
   "execution_count": 26,
   "id": "1011628d",
   "metadata": {},
   "outputs": [
    {
     "data": {
      "image/png": "[encoded data removed]",
      "text/plain": [
       "<Figure size 640x480 with 1 Axes>"
      ]
     },
     "metadata": {},
     "output_type": "display_data"
    }
   ],
   "source": [
    "plt.plot(loss.history['loss'])\n",
    "plt.plot(loss.history['val_loss'])\n",
    "plt.xlabel('epoch')\n",
    "plt.ylabel('loss')\n",
    "plt.legend(['train', 'val'])\n",
    "plt.show()"
   ]
  },
  {
   "cell_type": "code",
   "execution_count": null,
   "id": "b6408b4d",
   "metadata": {},
   "outputs": [],
   "source": []
  }
 ],
 "metadata": {
  "kernelspec": {
   "display_name": "Python [conda env:tf_cpu] *",
   "language": "python",
   "name": "conda-env-tf_cpu-py"
  },
  "language_info": {
   "codemirror_mode": {
    "name": "ipython",
    "version": 3
   },
   "file_extension": ".py",
   "mimetype": "text/x-python",
   "name": "python",
   "nbconvert_exporter": "python",
   "pygments_lexer": "ipython3",
   "version": "3.8.16"
  }
 },
 "nbformat": 4,
 "nbformat_minor": 5
}
