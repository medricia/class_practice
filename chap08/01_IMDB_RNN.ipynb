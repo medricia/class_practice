{
 "cells": [
  {
   "cell_type": "code",
   "execution_count": 1,
   "id": "a55cd954",
   "metadata": {},
   "outputs": [],
   "source": [
    "# IMDB 리뷰 데이터 셋\n",
    "\n",
    "from tensorflow.keras.datasets import imdb\n",
    "\n",
    "# 숫자화 전처리한 데이터셋\n",
    "(train_input, train_target),(test_input, test_target) = imdb.load_data(num_words=500) #가장 많이 등장하는 500개까지"
   ]
  },
  {
   "cell_type": "code",
   "execution_count": 2,
   "id": "211f71df",
   "metadata": {},
   "outputs": [
    {
     "name": "stdout",
     "output_type": "stream",
     "text": [
      "(25000,) (25000,)\n"
     ]
    }
   ],
   "source": [
    "print(train_input.shape, test_input.shape)"
   ]
  },
  {
   "cell_type": "code",
   "execution_count": 3,
   "id": "734b4c6a",
   "metadata": {},
   "outputs": [
    {
     "name": "stdout",
     "output_type": "stream",
     "text": [
      "218 189\n"
     ]
    }
   ],
   "source": [
    "print(len(train_input[0]), len(train_input[1]))"
   ]
  },
  {
   "cell_type": "code",
   "execution_count": 4,
   "id": "2ae42919",
   "metadata": {},
   "outputs": [
    {
     "name": "stdout",
     "output_type": "stream",
     "text": [
      "[1, 14, 22, 16, 43, 2, 2, 2, 2, 65, 458, 2, 66, 2, 4, 173, 36, 256, 5, 25, 100, 43, 2, 112, 50, 2, 2, 9, 35, 480, 284, 5, 150, 4, 172, 112, 167, 2, 336, 385, 39, 4, 172, 2, 2, 17, 2, 38, 13, 447, 4, 192, 50, 16, 6, 147, 2, 19, 14, 22, 4, 2, 2, 469, 4, 22, 71, 87, 12, 16, 43, 2, 38, 76, 15, 13, 2, 4, 22, 17, 2, 17, 12, 16, 2, 18, 2, 5, 62, 386, 12, 8, 316, 8, 106, 5, 4, 2, 2, 16, 480, 66, 2, 33, 4, 130, 12, 16, 38, 2, 5, 25, 124, 51, 36, 135, 48, 25, 2, 33, 6, 22, 12, 215, 28, 77, 52, 5, 14, 407, 16, 82, 2, 8, 4, 107, 117, 2, 15, 256, 4, 2, 7, 2, 5, 2, 36, 71, 43, 2, 476, 26, 400, 317, 46, 7, 4, 2, 2, 13, 104, 88, 4, 381, 15, 297, 98, 32, 2, 56, 26, 141, 6, 194, 2, 18, 4, 226, 22, 21, 134, 476, 26, 480, 5, 144, 30, 2, 18, 51, 36, 28, 224, 92, 25, 104, 4, 226, 65, 16, 38, 2, 88, 12, 16, 283, 5, 16, 2, 113, 103, 32, 15, 16, 2, 19, 178, 32]\n"
     ]
    }
   ],
   "source": [
    "print(train_input[0])"
   ]
  },
  {
   "cell_type": "code",
   "execution_count": 5,
   "id": "b3bae02f",
   "metadata": {},
   "outputs": [
    {
     "name": "stdout",
     "output_type": "stream",
     "text": [
      "[1 0 0 1 0 0 1 0 1 0 1 0 0 0 0 0 1 1 0 1]\n"
     ]
    }
   ],
   "source": [
    "print(train_target[:20]) "
   ]
  },
  {
   "cell_type": "code",
   "execution_count": 6,
   "id": "81d157b2",
   "metadata": {},
   "outputs": [
    {
     "name": "stdout",
     "output_type": "stream",
     "text": [
      "[14, 22, 16, 43, 65, 458, 66, 4, 173, 36, 256, 5, 25, 100, 43, 112, 50, 9, 35, 480, 284, 5, 150, 4, 172, 112, 167, 336, 385, 39, 4, 172, 17, 38, 13, 447, 4, 192, 50, 16, 6, 147, 19, 14, 22, 4, 469, 4, 22, 71, 87, 12, 16, 43, 38, 76, 15, 13, 4, 22, 17, 17, 12, 16, 18, 5, 62, 386, 12, 8, 316, 8, 106, 5, 4, 16, 480, 66, 33, 4, 130, 12, 16, 38, 5, 25, 124, 51, 36, 135, 48, 25, 33, 6, 22, 12, 215, 28, 77, 52, 5, 14, 407, 16, 82, 8, 4, 107, 117, 15, 256, 4, 7, 5, 36, 71, 43, 476, 26, 400, 317, 46, 7, 4, 13, 104, 88, 4, 381, 15, 297, 98, 32, 56, 26, 141, 6, 194, 18, 4, 226, 22, 21, 134, 476, 26, 480, 5, 144, 30, 18, 51, 36, 28, 224, 92, 25, 104, 4, 226, 65, 16, 38, 88, 12, 16, 283, 5, 16, 113, 103, 32, 15, 16, 19, 178, 32]\n",
      "177\n"
     ]
    }
   ],
   "source": [
    "# 훈련세트에서 2(어휘 사전에 없는 단어) 제외하기\n",
    "\n",
    "for i in range(len(train_input)):\n",
    "    train_input[i] = [w for w in train_input[i] if w>2]\n",
    "    \n",
    "print(train_input[0])\n",
    "print(len(train_input[0]))"
   ]
  },
  {
   "cell_type": "code",
   "execution_count": 7,
   "id": "8fa606a3",
   "metadata": {},
   "outputs": [],
   "source": [
    "from sklearn.model_selection import train_test_split\n",
    "\n",
    "#순서 주의!\n",
    "train_input, val_input, train_target, val_target = train_test_split(train_input, train_target, test_size=0.2, random_state=1234)"
   ]
  },
  {
   "cell_type": "code",
   "execution_count": 8,
   "id": "140360c1",
   "metadata": {},
   "outputs": [],
   "source": [
    "import numpy as np\n",
    "\n",
    "lengths = np.array([len(x) for x in train_input])"
   ]
  },
  {
   "cell_type": "code",
   "execution_count": 9,
   "id": "b6e440e2",
   "metadata": {},
   "outputs": [
    {
     "name": "stdout",
     "output_type": "stream",
     "text": [
      "164.0498 126.0\n"
     ]
    }
   ],
   "source": [
    "print(np.mean(lengths), np.median(lengths))"
   ]
  },
  {
   "cell_type": "code",
   "execution_count": 10,
   "id": "e1f7bd64",
   "metadata": {},
   "outputs": [
    {
     "data": {
      "image/png": "[encoded data removed]",
      "text/plain": [
       "<Figure size 640x480 with 1 Axes>"
      ]
     },
     "metadata": {},
     "output_type": "display_data"
    }
   ],
   "source": [
    "import matplotlib.pyplot as plt\n",
    "\n",
    "plt.hist(lengths)\n",
    "plt.xlabel('length')\n",
    "plt.ylabel('frequency')\n",
    "plt.show()"
   ]
  },
  {
   "cell_type": "code",
   "execution_count": 11,
   "id": "f7666c7a",
   "metadata": {},
   "outputs": [
    {
     "data": {
      "text/plain": [
       "(20000, 100)"
      ]
     },
     "execution_count": 11,
     "metadata": {},
     "output_type": "execute_result"
    }
   ],
   "source": [
    "from tensorflow.keras.preprocessing.sequence import pad_sequences\n",
    "\n",
    "train_seq = pad_sequences(train_input, maxlen=100) # 만약 앞에서부터 끊고 싶으면 padding을 줘서 진행\n",
    "train_seq.shape"
   ]
  },
  {
   "cell_type": "code",
   "execution_count": 12,
   "id": "02cf9cf1",
   "metadata": {},
   "outputs": [
    {
     "data": {
      "text/plain": [
       "array([  7,   4,  33,   4,  58,   5,  17, 118,  17,  31,  70,   7, 330,\n",
       "        11,  14,   4, 201, 127, 179,  73,   9,  55,  52,  17,   9,  13,\n",
       "        62, 190, 423,   8,  28, 188,  53,  23,   4,  19, 409,  11,  88,\n",
       "       122,  24,  81, 233,  23,  27, 205,  29,  69,  84, 187,  90,  15,\n",
       "        90,   8,   4, 400, 209,   5, 434, 209, 303,  23,  11,  27,  51,\n",
       "        16, 170, 143,   5, 330,  12,  62,  28,  77,   8,  67,  53,   7,\n",
       "       134,  21,  13, 440,  12,  80,  97,  84,   4,  53,  12, 238,  82,\n",
       "        97,  84, 391, 138, 294,  40,  30,   8,  11])"
      ]
     },
     "execution_count": 12,
     "metadata": {},
     "output_type": "execute_result"
    }
   ],
   "source": [
    "train_seq[0]"
   ]
  },
  {
   "cell_type": "code",
   "execution_count": 13,
   "id": "8e7c9069",
   "metadata": {},
   "outputs": [
    {
     "data": {
      "text/plain": [
       "array([  0,   0,   0,   0,   0,   0,   0, 108,  26,  83,   6,  48,  24,\n",
       "       407,   6,   9, 160, 463,   7,   6,  20,  15, 304,  84,   5,  68,\n",
       "       261,   4,  26,  42,  33, 113,  42, 341,  36, 131,  66,  14, 100,\n",
       "        10,  10,  50,  26, 275, 133,  63, 413,  31,   9,  44,   4, 250,\n",
       "        37, 152,   8,   4,   8,   4, 375,  31,   9,  44,   4, 255,  37,\n",
       "         4,   7,  41, 113,  11,   6, 160,   9,  44,   4, 250,  19,  41,\n",
       "       131, 160,  31,   9,  44,   4,   7,   6,  37, 220, 283, 119,  10,\n",
       "        10, 407, 290, 319,  45,  11,   4, 193, 372])"
      ]
     },
     "execution_count": 13,
     "metadata": {},
     "output_type": "execute_result"
    }
   ],
   "source": [
    "train_seq[12]"
   ]
  },
  {
   "cell_type": "code",
   "execution_count": 14,
   "id": "46a2814e",
   "metadata": {},
   "outputs": [],
   "source": [
    "val_seq = pad_sequences(val_input, maxlen=100)"
   ]
  },
  {
   "cell_type": "markdown",
   "id": "3dc9022f",
   "metadata": {},
   "source": [
    "# 순환신경망 만들기"
   ]
  },
  {
   "cell_type": "code",
   "execution_count": 15,
   "id": "caf33560",
   "metadata": {},
   "outputs": [],
   "source": [
    "from tensorflow import keras\n",
    "model = keras.Sequential()\n",
    "\n",
    "#rnn 입력데이터 : 2차원\n",
    "#활성화함수가 tanh로 설정되어 있음\n",
    "model.add(keras.layers.SimpleRNN(8, input_shape=(100, 500)))\n",
    "model.add(keras.layers.Dense(units=1, activation='sigmoid'))"
   ]
  },
  {
   "cell_type": "code",
   "execution_count": 16,
   "id": "3d537a85",
   "metadata": {},
   "outputs": [
    {
     "data": {
      "text/plain": [
       "(20000, 100, 500)"
      ]
     },
     "execution_count": 16,
     "metadata": {},
     "output_type": "execute_result"
    }
   ],
   "source": [
    "#원핫 인코딩 으로 훈련시켜줘야 함\n",
    "train_oh = keras.utils.to_categorical(train_seq)\n",
    "train_oh.shape"
   ]
  },
  {
   "cell_type": "code",
   "execution_count": 17,
   "id": "52fd2a02",
   "metadata": {},
   "outputs": [
    {
     "data": {
      "text/plain": [
       "(5000, 100, 500)"
      ]
     },
     "execution_count": 17,
     "metadata": {},
     "output_type": "execute_result"
    }
   ],
   "source": [
    "val_oh = keras.utils.to_categorical(val_seq)\n",
    "val_oh.shape"
   ]
  },
  {
   "cell_type": "code",
   "execution_count": 18,
   "id": "1aaac71c",
   "metadata": {},
   "outputs": [
    {
     "data": {
      "text/plain": [
       "array([[[0., 0., 0., ..., 0., 0., 0.],\n",
       "        [0., 0., 0., ..., 0., 0., 0.],\n",
       "        [0., 0., 0., ..., 0., 0., 0.],\n",
       "        ...,\n",
       "        [0., 0., 0., ..., 0., 0., 0.],\n",
       "        [0., 0., 0., ..., 0., 0., 0.],\n",
       "        [0., 0., 0., ..., 0., 0., 0.]],\n",
       "\n",
       "       [[0., 0., 0., ..., 0., 0., 0.],\n",
       "        [0., 0., 0., ..., 0., 0., 0.],\n",
       "        [0., 0., 0., ..., 0., 0., 0.],\n",
       "        ...,\n",
       "        [0., 0., 0., ..., 0., 0., 0.],\n",
       "        [0., 0., 0., ..., 0., 0., 0.],\n",
       "        [0., 0., 0., ..., 0., 0., 0.]]], dtype=float32)"
      ]
     },
     "execution_count": 18,
     "metadata": {},
     "output_type": "execute_result"
    }
   ],
   "source": [
    "train_oh[0:2]"
   ]
  },
  {
   "cell_type": "code",
   "execution_count": 19,
   "id": "56ed99b4",
   "metadata": {},
   "outputs": [
    {
     "name": "stdout",
     "output_type": "stream",
     "text": [
      "Model: \"sequential\"\n",
      "_________________________________________________________________\n",
      " Layer (type)                Output Shape              Param #   \n",
      "=================================================================\n",
      " simple_rnn (SimpleRNN)      (None, 8)                 4072      \n",
      "                                                                 \n",
      " dense (Dense)               (None, 1)                 9         \n",
      "                                                                 \n",
      "=================================================================\n",
      "Total params: 4,081\n",
      "Trainable params: 4,081\n",
      "Non-trainable params: 0\n",
      "_________________________________________________________________\n"
     ]
    }
   ],
   "source": [
    "model.summary()"
   ]
  },
  {
   "cell_type": "code",
   "execution_count": 20,
   "id": "f3650663",
   "metadata": {},
   "outputs": [],
   "source": [
    "model.compile(optimizer=keras.optimizers.Adam(learning_rate=1e-4), loss='binary_crossentropy', metrics='accuracy')"
   ]
  },
  {
   "cell_type": "code",
   "execution_count": 21,
   "id": "6c533bf6",
   "metadata": {},
   "outputs": [
    {
     "name": "stdout",
     "output_type": "stream",
     "text": [
      "Epoch 1/50\n",
      "625/625 [==============================] - 11s 15ms/step - loss: 0.6827 - accuracy: 0.5611 - val_loss: 0.6678 - val_accuracy: 0.5976\n",
      "Epoch 2/50\n",
      "625/625 [==============================] - 9s 15ms/step - loss: 0.6438 - accuracy: 0.6497 - val_loss: 0.6311 - val_accuracy: 0.6736\n",
      "Epoch 3/50\n",
      "625/625 [==============================] - 10s 15ms/step - loss: 0.6092 - accuracy: 0.6975 - val_loss: 0.6007 - val_accuracy: 0.7086\n",
      "Epoch 4/50\n",
      "625/625 [==============================] - 9s 15ms/step - loss: 0.5753 - accuracy: 0.7320 - val_loss: 0.5735 - val_accuracy: 0.7322\n",
      "Epoch 5/50\n",
      "625/625 [==============================] - 9s 15ms/step - loss: 0.5455 - accuracy: 0.7574 - val_loss: 0.5433 - val_accuracy: 0.7530\n",
      "Epoch 6/50\n",
      "625/625 [==============================] - 9s 15ms/step - loss: 0.5207 - accuracy: 0.7734 - val_loss: 0.5242 - val_accuracy: 0.7652\n",
      "Epoch 7/50\n",
      "625/625 [==============================] - 9s 15ms/step - loss: 0.4990 - accuracy: 0.7855 - val_loss: 0.5074 - val_accuracy: 0.7792\n",
      "Epoch 8/50\n",
      "625/625 [==============================] - 9s 15ms/step - loss: 0.4808 - accuracy: 0.7933 - val_loss: 0.4972 - val_accuracy: 0.7732\n",
      "Epoch 9/50\n",
      "625/625 [==============================] - 9s 15ms/step - loss: 0.4657 - accuracy: 0.8008 - val_loss: 0.4862 - val_accuracy: 0.7792\n",
      "Epoch 10/50\n",
      "625/625 [==============================] - 9s 15ms/step - loss: 0.4539 - accuracy: 0.8058 - val_loss: 0.4745 - val_accuracy: 0.7892\n",
      "Epoch 11/50\n",
      "625/625 [==============================] - 9s 15ms/step - loss: 0.4419 - accuracy: 0.8103 - val_loss: 0.4695 - val_accuracy: 0.7860\n",
      "Epoch 12/50\n",
      "625/625 [==============================] - 9s 15ms/step - loss: 0.4337 - accuracy: 0.8138 - val_loss: 0.4629 - val_accuracy: 0.7894\n",
      "Epoch 13/50\n",
      "625/625 [==============================] - 9s 15ms/step - loss: 0.4246 - accuracy: 0.8186 - val_loss: 0.4635 - val_accuracy: 0.7892\n",
      "Epoch 14/50\n",
      "625/625 [==============================] - 9s 15ms/step - loss: 0.4186 - accuracy: 0.8209 - val_loss: 0.4491 - val_accuracy: 0.7990\n",
      "Epoch 15/50\n",
      "625/625 [==============================] - 10s 15ms/step - loss: 0.4115 - accuracy: 0.8256 - val_loss: 0.4475 - val_accuracy: 0.7998\n",
      "Epoch 16/50\n",
      "625/625 [==============================] - 9s 15ms/step - loss: 0.4062 - accuracy: 0.8275 - val_loss: 0.4427 - val_accuracy: 0.8022\n",
      "Epoch 17/50\n",
      "625/625 [==============================] - 9s 15ms/step - loss: 0.4021 - accuracy: 0.8281 - val_loss: 0.4403 - val_accuracy: 0.8020\n",
      "Epoch 18/50\n",
      "625/625 [==============================] - 9s 15ms/step - loss: 0.3982 - accuracy: 0.8296 - val_loss: 0.4448 - val_accuracy: 0.7992\n",
      "Epoch 19/50\n",
      "625/625 [==============================] - 9s 15ms/step - loss: 0.3940 - accuracy: 0.8321 - val_loss: 0.4383 - val_accuracy: 0.8054\n",
      "Epoch 20/50\n",
      "625/625 [==============================] - 9s 15ms/step - loss: 0.3910 - accuracy: 0.8333 - val_loss: 0.4349 - val_accuracy: 0.8054\n",
      "Epoch 21/50\n",
      "625/625 [==============================] - 9s 15ms/step - loss: 0.3876 - accuracy: 0.8349 - val_loss: 0.4343 - val_accuracy: 0.8018\n",
      "Epoch 22/50\n",
      "625/625 [==============================] - 9s 15ms/step - loss: 0.3854 - accuracy: 0.8361 - val_loss: 0.4412 - val_accuracy: 0.7974\n",
      "Epoch 23/50\n",
      "625/625 [==============================] - 10s 16ms/step - loss: 0.3826 - accuracy: 0.8378 - val_loss: 0.4335 - val_accuracy: 0.8032\n",
      "Epoch 24/50\n",
      "625/625 [==============================] - 9s 15ms/step - loss: 0.3803 - accuracy: 0.8396 - val_loss: 0.4342 - val_accuracy: 0.8016\n",
      "Epoch 25/50\n",
      "625/625 [==============================] - 9s 15ms/step - loss: 0.3785 - accuracy: 0.8392 - val_loss: 0.4385 - val_accuracy: 0.8000\n",
      "Epoch 26/50\n",
      "625/625 [==============================] - 9s 15ms/step - loss: 0.3769 - accuracy: 0.8389 - val_loss: 0.4369 - val_accuracy: 0.8028\n",
      "Epoch 27/50\n",
      "625/625 [==============================] - 9s 15ms/step - loss: 0.3750 - accuracy: 0.8409 - val_loss: 0.4332 - val_accuracy: 0.8050\n",
      "Epoch 28/50\n",
      "625/625 [==============================] - 9s 15ms/step - loss: 0.3731 - accuracy: 0.8418 - val_loss: 0.4325 - val_accuracy: 0.8026\n",
      "Epoch 29/50\n",
      "625/625 [==============================] - 9s 15ms/step - loss: 0.3719 - accuracy: 0.8417 - val_loss: 0.4349 - val_accuracy: 0.8006\n",
      "Epoch 30/50\n",
      "625/625 [==============================] - 9s 15ms/step - loss: 0.3700 - accuracy: 0.8429 - val_loss: 0.4333 - val_accuracy: 0.8034\n",
      "Epoch 31/50\n",
      "625/625 [==============================] - 9s 15ms/step - loss: 0.3695 - accuracy: 0.8429 - val_loss: 0.4337 - val_accuracy: 0.8020\n",
      "Epoch 32/50\n",
      "625/625 [==============================] - 9s 15ms/step - loss: 0.3681 - accuracy: 0.8425 - val_loss: 0.4329 - val_accuracy: 0.8040\n",
      "Epoch 33/50\n",
      "625/625 [==============================] - 9s 15ms/step - loss: 0.3664 - accuracy: 0.8438 - val_loss: 0.4420 - val_accuracy: 0.8020\n",
      "Epoch 34/50\n",
      "625/625 [==============================] - 9s 15ms/step - loss: 0.3655 - accuracy: 0.8453 - val_loss: 0.4336 - val_accuracy: 0.8060\n",
      "Epoch 35/50\n",
      "625/625 [==============================] - 9s 15ms/step - loss: 0.3637 - accuracy: 0.8462 - val_loss: 0.4328 - val_accuracy: 0.8044\n",
      "Epoch 36/50\n",
      "625/625 [==============================] - 9s 15ms/step - loss: 0.3628 - accuracy: 0.8461 - val_loss: 0.4362 - val_accuracy: 0.8048\n",
      "Epoch 37/50\n",
      "625/625 [==============================] - 9s 15ms/step - loss: 0.3611 - accuracy: 0.8472 - val_loss: 0.4338 - val_accuracy: 0.8034\n",
      "Epoch 38/50\n",
      "625/625 [==============================] - 9s 15ms/step - loss: 0.3602 - accuracy: 0.8466 - val_loss: 0.4388 - val_accuracy: 0.8036\n",
      "Epoch 39/50\n",
      "625/625 [==============================] - 9s 15ms/step - loss: 0.3590 - accuracy: 0.8482 - val_loss: 0.4388 - val_accuracy: 0.8042\n",
      "Epoch 40/50\n",
      "625/625 [==============================] - 9s 15ms/step - loss: 0.3577 - accuracy: 0.8483 - val_loss: 0.4374 - val_accuracy: 0.8050\n",
      "Epoch 41/50\n",
      "625/625 [==============================] - 9s 15ms/step - loss: 0.3574 - accuracy: 0.8485 - val_loss: 0.4352 - val_accuracy: 0.8068\n",
      "Epoch 42/50\n",
      "625/625 [==============================] - 9s 15ms/step - loss: 0.3567 - accuracy: 0.8484 - val_loss: 0.4399 - val_accuracy: 0.8064\n",
      "Epoch 43/50\n",
      "625/625 [==============================] - 9s 15ms/step - loss: 0.3554 - accuracy: 0.8490 - val_loss: 0.4432 - val_accuracy: 0.8056\n",
      "Epoch 44/50\n",
      "625/625 [==============================] - 9s 15ms/step - loss: 0.3548 - accuracy: 0.8497 - val_loss: 0.4446 - val_accuracy: 0.8036\n",
      "Epoch 45/50\n",
      "625/625 [==============================] - 9s 15ms/step - loss: 0.3536 - accuracy: 0.8492 - val_loss: 0.4366 - val_accuracy: 0.8060\n",
      "Epoch 46/50\n",
      "625/625 [==============================] - 9s 15ms/step - loss: 0.3523 - accuracy: 0.8502 - val_loss: 0.4469 - val_accuracy: 0.8002\n",
      "Epoch 47/50\n",
      "625/625 [==============================] - 9s 15ms/step - loss: 0.3523 - accuracy: 0.8500 - val_loss: 0.4387 - val_accuracy: 0.8070\n",
      "Epoch 48/50\n",
      "625/625 [==============================] - 9s 15ms/step - loss: 0.3509 - accuracy: 0.8508 - val_loss: 0.4440 - val_accuracy: 0.8052\n",
      "Epoch 49/50\n",
      "625/625 [==============================] - 9s 15ms/step - loss: 0.3507 - accuracy: 0.8512 - val_loss: 0.4441 - val_accuracy: 0.8024\n",
      "Epoch 50/50\n",
      "625/625 [==============================] - 9s 15ms/step - loss: 0.3499 - accuracy: 0.8522 - val_loss: 0.4412 - val_accuracy: 0.8062\n"
     ]
    }
   ],
   "source": [
    "loss = model.fit(train_oh, train_target, epochs=50, validation_data=(val_oh, val_target))"
   ]
  },
  {
   "cell_type": "code",
   "execution_count": 22,
   "id": "78e27341",
   "metadata": {},
   "outputs": [
    {
     "data": {
      "image/png": "[encoded data removed]",
      "text/plain": [
       "<Figure size 640x480 with 1 Axes>"
      ]
     },
     "metadata": {},
     "output_type": "display_data"
    }
   ],
   "source": [
    "plt.plot(loss.history['loss'])\n",
    "plt.plot(loss.history['val_loss'])\n",
    "plt.xlabel('epoch')\n",
    "plt.ylabel('loss')\n",
    "plt.legend(['train', 'val'])\n",
    "plt.show()"
   ]
  },
  {
   "cell_type": "markdown",
   "id": "1d4c6fef",
   "metadata": {},
   "source": [
    "# 단어 임베딩 사용하기"
   ]
  },
  {
   "cell_type": "code",
   "execution_count": 23,
   "id": "7b8cb4f1",
   "metadata": {},
   "outputs": [
    {
     "name": "stdout",
     "output_type": "stream",
     "text": [
      "Model: \"sequential_1\"\n",
      "_________________________________________________________________\n",
      " Layer (type)                Output Shape              Param #   \n",
      "=================================================================\n",
      " embedding (Embedding)       (None, 100, 16)           8000      \n",
      "                                                                 \n",
      " simple_rnn_1 (SimpleRNN)    (None, 8)                 200       \n",
      "                                                                 \n",
      " dense_1 (Dense)             (None, 1)                 9         \n",
      "                                                                 \n",
      "=================================================================\n",
      "Total params: 8,209\n",
      "Trainable params: 8,209\n",
      "Non-trainable params: 0\n",
      "_________________________________________________________________\n"
     ]
    }
   ],
   "source": [
    "model2 = keras.Sequential()\n",
    "model2.add(keras.layers.Embedding(500, 16, input_length=100)) #두번째는 벡터 크기로 지정\n",
    "model2.add(keras.layers.SimpleRNN(8))\n",
    "model2.add(keras.layers.Dense(units=1, activation='sigmoid'))\n",
    "model2.summary()"
   ]
  },
  {
   "cell_type": "code",
   "execution_count": 24,
   "id": "d56365f1",
   "metadata": {},
   "outputs": [
    {
     "name": "stdout",
     "output_type": "stream",
     "text": [
      "Epoch 1/50\n",
      "WARNING:tensorflow:Model was constructed with shape (None, 100) for input KerasTensor(type_spec=TensorSpec(shape=(None, 100), dtype=tf.float32, name='embedding_input'), name='embedding_input', description=\"created by layer 'embedding_input'\"), but it was called on an input with incompatible shape (32, 100, 500).\n"
     ]
    },
    {
     "ename": "ValueError",
     "evalue": "in user code:\n\n    File \"C:\\Users\\tjoeun\\anaconda3\\envs\\tf_cpu\\lib\\site-packages\\keras\\engine\\training.py\", line 1160, in train_function  *\n        return step_function(self, iterator)\n    File \"C:\\Users\\tjoeun\\anaconda3\\envs\\tf_cpu\\lib\\site-packages\\keras\\engine\\training.py\", line 1146, in step_function  **\n        outputs = model.distribute_strategy.run(run_step, args=(data,))\n    File \"C:\\Users\\tjoeun\\anaconda3\\envs\\tf_cpu\\lib\\site-packages\\keras\\engine\\training.py\", line 1135, in run_step  **\n        outputs = model.train_step(data)\n    File \"C:\\Users\\tjoeun\\anaconda3\\envs\\tf_cpu\\lib\\site-packages\\keras\\engine\\training.py\", line 993, in train_step\n        y_pred = self(x, training=True)\n    File \"C:\\Users\\tjoeun\\anaconda3\\envs\\tf_cpu\\lib\\site-packages\\keras\\utils\\traceback_utils.py\", line 70, in error_handler\n        raise e.with_traceback(filtered_tb) from None\n    File \"C:\\Users\\tjoeun\\anaconda3\\envs\\tf_cpu\\lib\\site-packages\\keras\\engine\\input_spec.py\", line 232, in assert_input_compatibility\n        raise ValueError(\n\n    ValueError: Exception encountered when calling layer \"sequential_1\" \"                 f\"(type Sequential).\n    \n    Input 0 of layer \"simple_rnn_1\" is incompatible with the layer: expected ndim=3, found ndim=4. Full shape received: (32, 100, 500, 16)\n    \n    Call arguments received by layer \"sequential_1\" \"                 f\"(type Sequential):\n      • inputs=tf.Tensor(shape=(32, 100, 500), dtype=float32)\n      • training=True\n      • mask=None\n",
     "output_type": "error",
     "traceback": [
      "\u001b[1;31m---------------------------------------------------------------------------\u001b[0m",
      "\u001b[1;31mValueError\u001b[0m                                Traceback (most recent call last)",
      "Cell \u001b[1;32mIn[24], line 2\u001b[0m\n\u001b[0;32m      1\u001b[0m model2\u001b[38;5;241m.\u001b[39mcompile(optimizer\u001b[38;5;241m=\u001b[39mkeras\u001b[38;5;241m.\u001b[39moptimizers\u001b[38;5;241m.\u001b[39mAdam(learning_rate\u001b[38;5;241m=\u001b[39m\u001b[38;5;241m1e-4\u001b[39m), loss\u001b[38;5;241m=\u001b[39m\u001b[38;5;124m'\u001b[39m\u001b[38;5;124mbinary_crossentropy\u001b[39m\u001b[38;5;124m'\u001b[39m, metrics\u001b[38;5;241m=\u001b[39m\u001b[38;5;124m'\u001b[39m\u001b[38;5;124maccuracy\u001b[39m\u001b[38;5;124m'\u001b[39m)\n\u001b[1;32m----> 2\u001b[0m loss \u001b[38;5;241m=\u001b[39m \u001b[43mmodel2\u001b[49m\u001b[38;5;241;43m.\u001b[39;49m\u001b[43mfit\u001b[49m\u001b[43m(\u001b[49m\u001b[43mtrain_oh\u001b[49m\u001b[43m,\u001b[49m\u001b[43m \u001b[49m\u001b[43mtrain_target\u001b[49m\u001b[43m,\u001b[49m\u001b[43m \u001b[49m\u001b[43mepochs\u001b[49m\u001b[38;5;241;43m=\u001b[39;49m\u001b[38;5;241;43m50\u001b[39;49m\u001b[43m,\u001b[49m\u001b[43m \u001b[49m\u001b[43mvalidation_data\u001b[49m\u001b[38;5;241;43m=\u001b[39;49m\u001b[43m(\u001b[49m\u001b[43mval_oh\u001b[49m\u001b[43m,\u001b[49m\u001b[43m \u001b[49m\u001b[43mval_target\u001b[49m\u001b[43m)\u001b[49m\u001b[43m)\u001b[49m\n",
      "File \u001b[1;32m~\\anaconda3\\envs\\tf_cpu\\lib\\site-packages\\keras\\utils\\traceback_utils.py:70\u001b[0m, in \u001b[0;36mfilter_traceback.<locals>.error_handler\u001b[1;34m(*args, **kwargs)\u001b[0m\n\u001b[0;32m     67\u001b[0m     filtered_tb \u001b[38;5;241m=\u001b[39m _process_traceback_frames(e\u001b[38;5;241m.\u001b[39m__traceback__)\n\u001b[0;32m     68\u001b[0m     \u001b[38;5;66;03m# To get the full stack trace, call:\u001b[39;00m\n\u001b[0;32m     69\u001b[0m     \u001b[38;5;66;03m# `tf.debugging.disable_traceback_filtering()`\u001b[39;00m\n\u001b[1;32m---> 70\u001b[0m     \u001b[38;5;28;01mraise\u001b[39;00m e\u001b[38;5;241m.\u001b[39mwith_traceback(filtered_tb) \u001b[38;5;28;01mfrom\u001b[39;00m \u001b[38;5;28;01mNone\u001b[39;00m\n\u001b[0;32m     71\u001b[0m \u001b[38;5;28;01mfinally\u001b[39;00m:\n\u001b[0;32m     72\u001b[0m     \u001b[38;5;28;01mdel\u001b[39;00m filtered_tb\n",
      "File \u001b[1;32m~\\AppData\\Local\\Temp\\__autograph_generated_fileqg0gizyd.py:15\u001b[0m, in \u001b[0;36mouter_factory.<locals>.inner_factory.<locals>.tf__train_function\u001b[1;34m(iterator)\u001b[0m\n\u001b[0;32m     13\u001b[0m \u001b[38;5;28;01mtry\u001b[39;00m:\n\u001b[0;32m     14\u001b[0m     do_return \u001b[38;5;241m=\u001b[39m \u001b[38;5;28;01mTrue\u001b[39;00m\n\u001b[1;32m---> 15\u001b[0m     retval_ \u001b[38;5;241m=\u001b[39m ag__\u001b[38;5;241m.\u001b[39mconverted_call(ag__\u001b[38;5;241m.\u001b[39mld(step_function), (ag__\u001b[38;5;241m.\u001b[39mld(\u001b[38;5;28mself\u001b[39m), ag__\u001b[38;5;241m.\u001b[39mld(iterator)), \u001b[38;5;28;01mNone\u001b[39;00m, fscope)\n\u001b[0;32m     16\u001b[0m \u001b[38;5;28;01mexcept\u001b[39;00m:\n\u001b[0;32m     17\u001b[0m     do_return \u001b[38;5;241m=\u001b[39m \u001b[38;5;28;01mFalse\u001b[39;00m\n",
      "\u001b[1;31mValueError\u001b[0m: in user code:\n\n    File \"C:\\Users\\tjoeun\\anaconda3\\envs\\tf_cpu\\lib\\site-packages\\keras\\engine\\training.py\", line 1160, in train_function  *\n        return step_function(self, iterator)\n    File \"C:\\Users\\tjoeun\\anaconda3\\envs\\tf_cpu\\lib\\site-packages\\keras\\engine\\training.py\", line 1146, in step_function  **\n        outputs = model.distribute_strategy.run(run_step, args=(data,))\n    File \"C:\\Users\\tjoeun\\anaconda3\\envs\\tf_cpu\\lib\\site-packages\\keras\\engine\\training.py\", line 1135, in run_step  **\n        outputs = model.train_step(data)\n    File \"C:\\Users\\tjoeun\\anaconda3\\envs\\tf_cpu\\lib\\site-packages\\keras\\engine\\training.py\", line 993, in train_step\n        y_pred = self(x, training=True)\n    File \"C:\\Users\\tjoeun\\anaconda3\\envs\\tf_cpu\\lib\\site-packages\\keras\\utils\\traceback_utils.py\", line 70, in error_handler\n        raise e.with_traceback(filtered_tb) from None\n    File \"C:\\Users\\tjoeun\\anaconda3\\envs\\tf_cpu\\lib\\site-packages\\keras\\engine\\input_spec.py\", line 232, in assert_input_compatibility\n        raise ValueError(\n\n    ValueError: Exception encountered when calling layer \"sequential_1\" \"                 f\"(type Sequential).\n    \n    Input 0 of layer \"simple_rnn_1\" is incompatible with the layer: expected ndim=3, found ndim=4. Full shape received: (32, 100, 500, 16)\n    \n    Call arguments received by layer \"sequential_1\" \"                 f\"(type Sequential):\n      • inputs=tf.Tensor(shape=(32, 100, 500), dtype=float32)\n      • training=True\n      • mask=None\n"
     ]
    }
   ],
   "source": [
    "model2.compile(optimizer=keras.optimizers.Adam(learning_rate=1e-4), loss='binary_crossentropy', metrics='accuracy')\n",
    "loss = model2.fit(train_oh, train_target, epochs=50, validation_data=(val_oh, val_target))"
   ]
  },
  {
   "cell_type": "code",
   "execution_count": null,
   "id": "2fcb3c34",
   "metadata": {},
   "outputs": [],
   "source": [
    "plt.plot(loss.history['loss'])\n",
    "plt.plot(loss.history['val_loss'])\n",
    "plt.xlabel('epoch')\n",
    "plt.ylabel('loss')\n",
    "plt.legend(['train', 'val'])\n",
    "plt.show()"
   ]
  },
  {
   "cell_type": "code",
   "execution_count": null,
   "id": "4774d341",
   "metadata": {},
   "outputs": [],
   "source": []
  }
 ],
 "metadata": {
  "kernelspec": {
   "display_name": "Python [conda env:tf_cpu] *",
   "language": "python",
   "name": "conda-env-tf_cpu-py"
  },
  "language_info": {
   "codemirror_mode": {
    "name": "ipython",
    "version": 3
   },
   "file_extension": ".py",
   "mimetype": "text/x-python",
   "name": "python",
   "nbconvert_exporter": "python",
   "pygments_lexer": "ipython3",
   "version": "3.8.16"
  }
 },
 "nbformat": 4,
 "nbformat_minor": 5
}
