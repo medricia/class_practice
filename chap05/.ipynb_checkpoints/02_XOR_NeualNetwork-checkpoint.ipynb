{
 "cells": [
  {
   "cell_type": "code",
   "execution_count": 1,
   "id": "a4591b50",
   "metadata": {},
   "outputs": [],
   "source": [
    "import tensorflow as tf\n",
    "import numpy as np"
   ]
  },
  {
   "cell_type": "code",
   "execution_count": 2,
   "id": "89ebb645",
   "metadata": {},
   "outputs": [],
   "source": [
    "# XOR Gate\n",
    "x_data = np.array([[0,0], [0,1], [1,0], [1,1]])\n",
    "y_data = np.array([[0],[1],[1],[0]])"
   ]
  },
  {
   "cell_type": "code",
   "execution_count": 3,
   "id": "1a66d012",
   "metadata": {},
   "outputs": [],
   "source": [
    "#레이어 추가하기, 은닉층(hiddens layer) : Dense 추가\n",
    "neuron_1 = 2\n",
    "neuron_2 = 1\n",
    "\n",
    "tf.model = tf.keras.Sequential()\n",
    "#은닉층\n",
    "tf.model.add(tf.keras.layers.Dense(units=neuron_1, input_dim=x_data.shape[1],  activation='sigmoid'))\n",
    "#출력층\n",
    "tf.model.add(tf.keras.layers.Dense(units=neuron_2,  activation='sigmoid')) "
   ]
  },
  {
   "cell_type": "code",
   "execution_count": 4,
   "id": "55b78ebc",
   "metadata": {},
   "outputs": [
    {
     "name": "stdout",
     "output_type": "stream",
     "text": [
      "Model: \"sequential\"\n",
      "_________________________________________________________________\n",
      " Layer (type)                Output Shape              Param #   \n",
      "=================================================================\n",
      " dense (Dense)               (None, 2)                 6         \n",
      "                                                                 \n",
      " dense_1 (Dense)             (None, 1)                 3         \n",
      "                                                                 \n",
      "=================================================================\n",
      "Total params: 9\n",
      "Trainable params: 9\n",
      "Non-trainable params: 0\n",
      "_________________________________________________________________\n"
     ]
    }
   ],
   "source": [
    "tf.model.compile(loss='binary_crossentropy', optimizer=tf.keras.optimizers.SGD(learning_rate=0.1), metrics=['accuracy'] )\n",
    "tf.model.summary()"
   ]
  },
  {
   "cell_type": "code",
   "execution_count": null,
   "id": "c4996d29",
   "metadata": {},
   "outputs": [],
   "source": [
    "tf.model.fit(x_data, y_data, epochs=10000)"
   ]
  }
 ],
 "metadata": {
  "kernelspec": {
   "display_name": "Python [conda env:tf_cpu] *",
   "language": "python",
   "name": "conda-env-tf_cpu-py"
  },
  "language_info": {
   "codemirror_mode": {
    "name": "ipython",
    "version": 3
   },
   "file_extension": ".py",
   "mimetype": "text/x-python",
   "name": "python",
   "nbconvert_exporter": "python",
   "pygments_lexer": "ipython3",
   "version": "3.8.16"
  }
 },
 "nbformat": 4,
 "nbformat_minor": 5
}
