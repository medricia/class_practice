{
 "cells": [
  {
   "cell_type": "code",
   "execution_count": 2,
   "id": "21c6adfd",
   "metadata": {},
   "outputs": [],
   "source": [
    "import tensorflow as tf\n",
    "import numpy as np"
   ]
  },
  {
   "cell_type": "code",
   "execution_count": 4,
   "id": "d15e97f0",
   "metadata": {},
   "outputs": [],
   "source": [
    "#주식정보 데이터\n",
    "#8일치 데이터\n",
    "#시작가, 최고가, 거래량, 최저가, 종가(마감가)\n",
    "# open, high, volume, low, close\n",
    "xy = np.array([[828.659973, 833.450012, 908100, 828.349976, 831.659973],\n",
    "               [823.02002, 828.070007, 1828100, 821.655029, 828.070007],\n",
    "               [819.929993, 824.400024, 1438100, 818.97998, 824.159973],\n",
    "               [816, 820.958984, 1008100, 815.48999, 819.23999],\n",
    "               [819.359985, 823, 1188100, 818.469971, 818.97998],\n",
    "               [819, 823, 1198100, 816, 820.450012],\n",
    "               [811.700012, 815.25, 1098100, 809.780029, 813.669983],\n",
    "               [809.51001, 816.659973, 1398100, 804.539978, 809.559998]])\n",
    "\n",
    "# 다른 값들에 비해 volume값이 너무 큼, 전처리하지 않고 그냥 넣었을 때 - 발산\n",
    "# 이럴때는 데이터를 표준화 또는 정규화해서 처리해줘야 함(전처리할 때)\n",
    "\n",
    "#정규화\n",
    "\n",
    "\n",
    "# 시작가, 최고가, 거래량, 최저가를 가지고 종가를 예측하는 모델\n",
    "\n",
    "# 문제정의를 어떻게 하냐에 따라 (어떤 결과를 얻고자 하느냐에 따라) 분류 or 회귀로 나뉨\n",
    "# 종가 값을 예측해보자는 것 -> 회귀, 특히 이건 선형회귀\n",
    "# 4개의 차원을 가진 "
   ]
  },
  {
   "cell_type": "code",
   "execution_count": 5,
   "id": "47205211",
   "metadata": {},
   "outputs": [],
   "source": [
    "x_data = xy[:,:-1]\n",
    "y_data = xy[:,[-1]]"
   ]
  },
  {
   "cell_type": "code",
   "execution_count": 6,
   "id": "037862db",
   "metadata": {},
   "outputs": [],
   "source": [
    "tf.model = tf.keras.Sequential()\n",
    "tf.model.add(tf.keras.layers.Dense(input_dim=x_data.shape[1], units=y_data.shape[1], activation='linear'))\n",
    "tf.model.compile(loss='mse', optimizer=tf.keras.optimizers.SGD(learning_rate=1e-10))"
   ]
  },
  {
   "cell_type": "code",
   "execution_count": null,
   "id": "8c984cd5",
   "metadata": {},
   "outputs": [],
   "source": [
    "# loss = tf.model.fit(x_data, y_data, epochs=1000) , nan(inf)"
   ]
  }
 ],
 "metadata": {
  "kernelspec": {
   "display_name": "Python [conda env:tf_cpu] *",
   "language": "python",
   "name": "conda-env-tf_cpu-py"
  },
  "language_info": {
   "codemirror_mode": {
    "name": "ipython",
    "version": 3
   },
   "file_extension": ".py",
   "mimetype": "text/x-python",
   "name": "python",
   "nbconvert_exporter": "python",
   "pygments_lexer": "ipython3",
   "version": "3.8.16"
  }
 },
 "nbformat": 4,
 "nbformat_minor": 5
}
